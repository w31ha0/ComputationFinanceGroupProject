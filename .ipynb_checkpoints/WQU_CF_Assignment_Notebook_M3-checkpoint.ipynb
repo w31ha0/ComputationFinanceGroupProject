{
 "cells": [
  {
   "cell_type": "code",
   "execution_count": 7,
   "metadata": {
    "colab": {},
    "colab_type": "code",
    "id": "sxLP_bC7UQ3H"
   },
   "outputs": [],
   "source": [
    "import numpy as np\n",
    "import matplotlib.pyplot as plt \n",
    "from scipy.stats import norm\n",
    "from tqdm import tqdm\n",
    "\n",
    "%matplotlib inline"
   ]
  },
  {
   "cell_type": "code",
   "execution_count": 2,
   "metadata": {
    "colab": {},
    "colab_type": "code",
    "id": "omtzo6gJUUyk"
   },
   "outputs": [],
   "source": [
    "def share_path(S_0, r, sigma, Z, dT):\n",
    "    return S_0 * np.exp(np.cumsum((r - sigma**2/2) * dT + sigma * np.sqrt(dT) * Z))\n",
    "\n",
    "def european_call_payoff(S_T, K, r, T):\n",
    "    \"\"\"S_T is the price of the underlying at expiry.\n",
    "    K is the strike price\n",
    "    r is the risk free rate\n",
    "    T is the time period till maturity\"\"\"\n",
    "    return np.exp(-T*r) * np.maximum(0, S_T - K) #payoff for call option\n",
    "\n",
    "def euro_uao_call(barrier, paths, K, r, T):\n",
    "    \"\"\"barrier is the barrier level,\n",
    "    paths is a list of share price paths,\n",
    "    K is the strike price\n",
    "    r is the risk free rate\n",
    "    T is the time period of each share price path\"\"\"\n",
    "    prices = []\n",
    "    for path in paths:\n",
    "            if np.max(path) > barrier: # knocked out\n",
    "                    prices.append(0)\n",
    "            else:\n",
    "                    prices.append(european_call_payoff(path, K, r, T)) \n",
    "    return np.mean(prices)\n",
    "    \n",
    "def sumUpPricePath(path, path_total):\n",
    "    return [x + y for x, y in zip(path_total, path)]"
   ]
  },
  {
   "cell_type": "code",
   "execution_count": 3,
   "metadata": {
    "colab": {},
    "colab_type": "code",
    "id": "yS62VvhCUTDW"
   },
   "outputs": [],
   "source": [
    "T = 1\n",
    "L = 150\n",
    "S_0 = 100\n",
    "K = 100\n",
    "V_0 = 100\n",
    "r = 0.08\n",
    "sigma_s = 0.30\n",
    "sigma_v = 0.25\n",
    "debt = 175\n",
    "corr = 0.2\n",
    "recovery_rate = 0.25\n",
    "frequency = 12\n",
    "correlation = 0.2\n",
    "\n",
    "corr_matrix = np.array([[1, correlation], [correlation, 1]])"
   ]
  },
  {
   "cell_type": "code",
   "execution_count": 19,
   "metadata": {},
   "outputs": [
    {
     "data": {
      "text/plain": [
       "0"
      ]
     },
     "execution_count": 19,
     "metadata": {},
     "output_type": "execute_result"
    }
   ],
   "source": [
    "int (1/4)"
   ]
  },
  {
   "cell_type": "code",
   "execution_count": null,
   "metadata": {
    "colab": {
     "base_uri": "https://localhost:8080/",
     "height": 1000
    },
    "colab_type": "code",
    "id": "AXOxjw42UUeB",
    "outputId": "34d8c43e-5c83-4f79-c149-75a2ade082dd"
   },
   "outputs": [],
   "source": [
    "# 1. Simulate paths for the underlying share and for the counterparty’s firm value using sample sizes of 1000, 2000, ..., 50000. \n",
    "# Do monthly simulations for the lifetime of the option.\n",
    "plt.rcParams[\"figure.figsize\"] = (20,15)\n",
    "fig, ax = plt.subplots(13,4, sharex=True, sharey=True)\n",
    "plt.xticks (range (1,13))\n",
    "plt.ylabel ('USD')\n",
    "\n",
    "for sampleSize in tqdm(range(1000, 51000, 1000)):\n",
    "    share_path_total = [0] * frequency\n",
    "    firm_value_total = [0] * frequency\n",
    "    \n",
    "    #for each sample size, sum up all price path for each simulation so that the mean can be calculated later\n",
    "    for i in range(0, sampleSize):\n",
    "        norm_matrix = norm.rvs(size=np.array([2, frequency]))\n",
    "        corr_norm_matrix = np.matmul(np.linalg.cholesky(corr_matrix), norm_matrix)\n",
    "        share_price_path = share_path(S_0, r, sigma_s, corr_norm_matrix[0,], T/frequency)\n",
    "        firm_value_path = share_path(V_0, r, sigma_v, corr_norm_matrix[1,], T/frequency)\n",
    "        share_path_total = sumUpPricePath(share_price_path, share_path_total)\n",
    "        firm_value_total = sumUpPricePath(firm_value_path, firm_value_total)\n",
    "        \n",
    "    #get the mean path for the sum of all the simulations\n",
    "    share_path_mean = list(map(lambda totalShare: totalShare/sampleSize, share_path_total))\n",
    "    firm_value_mean = list(map(lambda totalShare: totalShare/sampleSize, firm_value_total))\n",
    "#     print(\"Sample Size: \" + str(sampleSize))\n",
    "#     print(\"Share price path is \" + str(share_path_mean))\n",
    "#     print(\"Firm value path is \" + str(firm_value_mean))\n",
    "    row_id = int ((sampleSize / 1000) / 4)\n",
    "    col_id = int ((sampleSize/1000) % 4 - 1)\n",
    "    if col_id == -1:\n",
    "        col_id = 3\n",
    "    ax [row_id, col_id].title.set_text ('Sample Size = ' + str(sampleSize))\n",
    "    ax [row_id, col_id].plot (share_path_mean, label = 'Share Price Path')\n",
    "    ax [row_id, col_id].plot (firm_value_mean, label = 'Firm Value Path')\n",
    "    ax [row_id, col_id].legend()\n",
    "#     plt.title ('Sample Size = ' + str(sampleSize))\n",
    "#     plt.plot (share_path_mean, label = 'Share Price Path')\n",
    "#     plt.plot (firm_value_mean, label = 'Firm Value Path')\n",
    "#     plt.xlabel ('Month')\n",
    "    \n",
    "#     plt.legend()\n",
    "    \n",
    "#     print(\"\\n\")\n",
    "    \n",
    "plt.show()"
   ]
  },
  {
   "cell_type": "code",
   "execution_count": 5,
   "metadata": {
    "colab": {},
    "colab_type": "code",
    "id": "99tWAj7cvmvK"
   },
   "outputs": [],
   "source": [
    "#2. Determine Monte Carlo estimates of both the default-free value of the option and the Credit Valuation Adjustment (CVA).\n",
    "#3. Calculate the Monte Carlo estimates for the price of the option incorporating counterparty risk, given by the default-free price less the CVA.\n",
    "\n",
    "call_opt_val, cva_estimates, cva_std = [], [], []\n",
    "\n",
    "for sampleSize in range(1000, 51000, 1000):\n",
    "    share_path_total = [0] * frequency\n",
    "    firm_value_total = [0] * frequency\n",
    "    \n",
    "    #for each sample size, sum up all price path for each simulation so that the mean can be calculated later\n",
    "    for i in range(0, sampleSize):\n",
    "        norm_matrix = norm.rvs(size=np.array([2, frequency]))\n",
    "        corr_norm_matrix = np.matmul(np.linalg.cholesky(corr_matrix), norm_matrix)\n",
    "        share_price_path = share_path(S_0, r, sigma_s, corr_norm_matrix[0,], T/frequency)\n",
    "        firm_value_path = share_path(V_0, r, sigma_v, corr_norm_matrix[1,], T/frequency)\n",
    "        share_path_total = sumUpPricePath(share_price_path, share_path_total)\n",
    "        firm_value_total = sumUpPricePath(firm_value_path, firm_value_total)\n",
    "\n",
    "    #get the mean path for the sum of all the simulations\n",
    "    share_path_mean = list(map(lambda totalShare: totalShare/sampleSize, share_path_total))\n",
    "    firm_value_mean = list(map(lambda totalShare: totalShare/sampleSize, firm_value_total))\n",
    "\n",
    "    ################################################\n",
    "    #######     terminal value of option   #########\n",
    "    ################################################\n",
    "\n",
    "    call_val = euro_uao_call(L, share_path_mean, K, r, T/frequency)\n",
    "    call_opt_val.append(call_val)\n",
    "\n",
    "    ################################################\n",
    "    #######               CVA              #########\n",
    "    ################################################\n",
    "\n",
    "    amount_lost = [np.exp(-T/frequency*r) * (1-recovery_rate)*(term_firm_val < debt) * call_val for term_firm_val in firm_value_mean]\n",
    "    cva_estimates.append(np.mean(amount_lost))\n",
    "    cva_std.append(np.std(amount_lost) / np.sqrt(frequency))"
   ]
  },
  {
   "cell_type": "code",
   "execution_count": 6,
   "metadata": {
    "colab": {
     "base_uri": "https://localhost:8080/",
     "height": 119
    },
    "colab_type": "code",
    "id": "4jOo4SwA1632",
    "outputId": "41940a6b-5204-4d0f-b324-6b38345f8f87"
   },
   "outputs": [
    {
     "name": "stdout",
     "output_type": "stream",
     "text": [
      "The European up-and-out call option price is 4.438681852319459. \n",
      "\n",
      "The Credit Valuation Adjustment  is 3.3068917938868725. \n",
      "\n",
      "The counter party risk is 1.1317900584325868. \n",
      "\n"
     ]
    }
   ],
   "source": [
    "#2a. Determine Monte Carlo estimates of the default-free value of the option \n",
    "#2b. Determine Monte Carlo estimates of the Credit Valuation Adjustment (CVA)\n",
    "#3. Calculate the Monte Carlo estimates for counterparty risk\n",
    "\n",
    "# print out the call_opt_val, cva_estimates and cva_std\n",
    "call_opt_val = np.mean(call_opt_val)\n",
    "cva_estimates = np.mean(cva_estimates)\n",
    "cva_std = np.mean(cva_std)\n",
    "\n",
    "counter_party_risk = call_opt_val - cva_estimates\n",
    "\n",
    "print(\"The European up-and-out call option price is {}. \\n\".format(call_opt_val))\n",
    "print(\"The Credit Valuation Adjustment  is {}. \\n\".format(cva_estimates))\n",
    "print(\"The counter party risk is {}. \\n\".format(counter_party_risk))"
   ]
  }
 ],
 "metadata": {
  "colab": {
   "collapsed_sections": [],
   "name": "WQU_CF_Assignment_Notebook_M3.ipynb",
   "provenance": []
  },
  "kernelspec": {
   "display_name": "Python 3.7",
   "language": "python",
   "name": "py37"
  },
  "language_info": {
   "codemirror_mode": {
    "name": "ipython",
    "version": 3
   },
   "file_extension": ".py",
   "mimetype": "text/x-python",
   "name": "python",
   "nbconvert_exporter": "python",
   "pygments_lexer": "ipython3",
   "version": "3.7.3"
  }
 },
 "nbformat": 4,
 "nbformat_minor": 4
}
