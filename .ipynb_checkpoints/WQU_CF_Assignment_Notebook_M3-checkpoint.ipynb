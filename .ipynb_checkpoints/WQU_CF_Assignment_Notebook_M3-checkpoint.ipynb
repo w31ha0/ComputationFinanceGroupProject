{
 "cells": [
  {
   "cell_type": "markdown",
   "metadata": {},
   "source": [
    "# Price a European Up-and-out Call Option"
   ]
  },
  {
   "cell_type": "markdown",
   "metadata": {},
   "source": [
    "In this report, we are going to price an Up-And-Out barrier call option using Monte Carlo simuation. An Up-And-Out barrier call option is just like a normal call option, except that once the underlying reaches above a certain barrier level at any point in time, it will expire worthless. Otherwise, it expires like a normal call. Hence, it is path-dependent."
   ]
  },
  {
   "cell_type": "markdown",
   "metadata": {},
   "source": [
    "## Simulate paths for the underlying share and for the counterparty’s firm value using sample sizes of 1000, 2000, …, 50000. Do monthly simulations for the lifetime of the option."
   ]
  },
  {
   "cell_type": "markdown",
   "metadata": {},
   "source": [
    "Firstly, we import all the libraries that are needed for this project."
   ]
  },
  {
   "cell_type": "code",
   "execution_count": 1,
   "metadata": {
    "colab": {},
    "colab_type": "code",
    "id": "sxLP_bC7UQ3H"
   },
   "outputs": [],
   "source": [
    "import numpy as np\n",
    "import matplotlib.pyplot as plt \n",
    "from scipy.stats import norm\n",
    "from tqdm import tqdm\n",
    "import functools "
   ]
  },
  {
   "cell_type": "markdown",
   "metadata": {},
   "source": [
    "To simulate paths for the underlying share and firm's value, we first need to define a function to output the path given a starting value, the interest rate r, the volatility sigma, a series of standard normal variables Z and the step time dT. This step time is needed as we want to keep track of the value of the share at each point in time, so that we know if it has exceeded the barrier limit of the barrier option."
   ]
  },
  {
   "cell_type": "code",
   "execution_count": 2,
   "metadata": {
    "colab": {},
    "colab_type": "code",
    "id": "omtzo6gJUUyk"
   },
   "outputs": [],
   "source": [
    "def share_path(S_0, r, sigma, Z, dT):\n",
    "    return S_0 * np.exp(np.cumsum((r - sigma**2/2) * dT + sigma * np.sqrt(dT) * Z))"
   ]
  },
  {
   "cell_type": "markdown",
   "metadata": {},
   "source": [
    "This is based on the assumption that the share/firm value evolves according to the following lognormal distribution\n",
    "\n",
    "$S_T = S_0 exp((r-\\frac{\\sigma^2}{2})T + \\sigma\\sqrt{T}Z)$\n",
    "\n",
    "which is a solution of the following stochastic differential equation\n",
    "\n",
    "$dS_t = rS_tdt + \\sigma S_tdW_t $\n",
    "\n",
    "Here, the equation can be written in the form of a cumulative sum as\n",
    "\n",
    "$S_t = S_0 exp(\\sum_{i=1}^{t}((r-\\frac{\\sigma^2}{2})dT + \\sigma\\sqrt{dT}Z_i))$\n",
    "\n",
    "where dT is the timestep while each $Z_i$ is an independently generated standard normal random variable. For this exercise, we are letting the timestep be 1/12 since we are doing monthly simulations for a year.\n",
    "\n",
    "Next, we define the values of the parameters needed. We shall assume that the firm's value starts at the same value as the underlying share, at 100."
   ]
  },
  {
   "cell_type": "code",
   "execution_count": 3,
   "metadata": {
    "colab": {},
    "colab_type": "code",
    "id": "yS62VvhCUTDW"
   },
   "outputs": [],
   "source": [
    "T = 1                   #expiry time of option\n",
    "L = 150                 #barrier limit\n",
    "S_0 = 100               #starting share value\n",
    "K = 100                 #strike price\n",
    "V_0 = 100               #starting firm value\n",
    "r = 0.08                #interest rate\n",
    "sigma_s = 0.30          #share volatility\n",
    "sigma_v = 0.25          #firm value volatility\n",
    "debt = 175              #firm debt\n",
    "correlation = 0.2       #correlation between share and firm\n",
    "recovery_rate = 0.25    #firm recovery rate\n",
    "frequency = 12          #monthly simulations for a year"
   ]
  },
  {
   "cell_type": "markdown",
   "metadata": {},
   "source": [
    "From the correlation value, we can build a correlation matrix"
   ]
  },
  {
   "cell_type": "code",
   "execution_count": 4,
   "metadata": {},
   "outputs": [],
   "source": [
    "corr_matrix = np.array([[1, correlation], [correlation, 1]])"
   ]
  },
  {
   "cell_type": "markdown",
   "metadata": {},
   "source": [
    "Next, we will begin simulating the paths with a for loop."
   ]
  },
  {
   "cell_type": "code",
   "execution_count": null,
   "metadata": {},
   "outputs": [
    {
     "name": "stderr",
     "output_type": "stream",
     "text": [
      " 78%|███████▊  | 39/50 [01:26<00:45,  4.10s/it]"
     ]
    }
   ],
   "source": [
    "for sampleSize in tqdm(range(1000, 51000, 1000)):    \n",
    "    share_path_list = []\n",
    "    firm_value_list = []\n",
    "    \n",
    "    #for each sample size, sum up all price path for each simulation so that the mean can be calculated later\n",
    "    for i in range(0, sampleSize):\n",
    "        norm_matrix = norm.rvs(size=np.array([2, frequency]))\n",
    "        corr_norm_matrix = np.matmul(np.linalg.cholesky(corr_matrix), norm_matrix)\n",
    "        \n",
    "        share_price_path = share_path(S_0, r, sigma_s, corr_norm_matrix[0,], T/frequency)\n",
    "        firm_value_path = share_path(V_0, r, sigma_v, corr_norm_matrix[1,], T/frequency)\n",
    "        share_path_list.append(share_price_path)\n",
    "        firm_value_list.append(firm_value_path)\n",
    "        \n",
    "    share_path_mean = list(map(lambda summed: summed/sampleSize,  functools.reduce(lambda a,b: [x + y for x, y in zip(a, b)], share_path_list)))\n",
    "    firm_value_mean = list(map(lambda summed: summed/sampleSize,  functools.reduce(lambda a,b: [x + y for x, y in zip(a, b)], firm_value_list)))\n",
    "    \n",
    "    plt.title ('Sample Size = ' + str(sampleSize))\n",
    "    plt.plot (share_path_mean, label = 'Share Price Path')\n",
    "    plt.plot (firm_value_mean, label = 'Firm Value Path')\n",
    "    plt.xlabel ('Month')    \n",
    "    plt.legend()\n",
    "    plt.show()"
   ]
  },
  {
   "cell_type": "markdown",
   "metadata": {},
   "source": [
    "We will loop through each sample size starting with 1000, in increments of 1000, until the largest sample size of 50000. We also create 2 new lists, share_path_list and firm_value_list, to keep track of the path for each simulation. For each sample size, we will generate a 2x12 matrix of uncorrelated standard normal random variables into norm_matrix. The 2 rows are needed, 1 for share price and the other for firm value. The 12 columns correspond to each month of the simulation for the entire year. To turn this into correlated, we then do a Cholesky decomposition of the correlation matrix built earlier, multiplied with norm_matrix, to give corr_norm_matrix, which gives a matrix of correlated random variables. The first row of the matrix is the random variables for share price, while the second row is for the firm value. By passing these random variables into the share_path function, we generate the path and save them into the respective lists.\n",
    "\n",
    "We also computed the mean path for each sample size by adding up all the paths and then dividing by the sample size itself. After plotting what the mean path looks like for each sample size, we notice that the larger the sample size, the closer the resemblance of the share price and the firm value.\n",
    "\n",
    "For visualisation purposes, we can also pick a random path from the list and plot it."
   ]
  },
  {
   "cell_type": "code",
   "execution_count": null,
   "metadata": {},
   "outputs": [],
   "source": [
    "plt.title ('Sample Size = ' + str(sampleSize))\n",
    "plt.plot (share_path_list[0], label = 'Share Price Path')\n",
    "plt.plot (firm_value_list[0], label = 'Firm Value Path')\n",
    "plt.xlabel ('Month')    \n",
    "plt.legend()\n",
    "plt.show()"
   ]
  }
 ],
 "metadata": {
  "colab": {
   "collapsed_sections": [],
   "name": "WQU_CF_Assignment_Notebook_M3 v4.ipynb",
   "provenance": []
  },
  "kernelspec": {
   "display_name": "Python 3",
   "language": "python",
   "name": "python3"
  },
  "language_info": {
   "codemirror_mode": {
    "name": "ipython",
    "version": 3
   },
   "file_extension": ".py",
   "mimetype": "text/x-python",
   "name": "python",
   "nbconvert_exporter": "python",
   "pygments_lexer": "ipython3",
   "version": "3.7.4"
  }
 },
 "nbformat": 4,
 "nbformat_minor": 1
}
