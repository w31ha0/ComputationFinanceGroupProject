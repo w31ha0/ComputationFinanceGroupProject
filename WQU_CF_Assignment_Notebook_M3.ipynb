{
 "cells": [
  {
   "cell_type": "markdown",
   "metadata": {
    "colab_type": "text",
    "id": "IfqOpAVktynA"
   },
   "source": [
    "# Price a European Up-and-out Call Option"
   ]
  },
  {
   "cell_type": "markdown",
   "metadata": {},
   "source": [
    "Group 6-A\n",
    "\n",
    "Members:\n",
    "\n",
    "Md. Shafil Hosain (shafil430@yahoo.com)\n",
    "\n",
    "Si Jie Lim (limsijie93@gmail.com)\n",
    "\n",
    "Quang Vinh Dang (dqvinh87@gmail.com)\n",
    "\n",
    "Wei Hao Lew (lewweihao93@hotmail.com)"
   ]
  },
  {
   "cell_type": "markdown",
   "metadata": {
    "colab_type": "text",
    "id": "bporEvqftynJ"
   },
   "source": [
    "In this report, we are going to price an Up-And-Out barrier call option using Monte Carlo simuation. An Up-And-Out barrier call option is just like a normal call option, except that once the underlying reaches above a certain barrier level at any point in time, it will expire worthless. Otherwise, it expires like a normal call. Hence, it is path-dependent."
   ]
  },
  {
   "cell_type": "markdown",
   "metadata": {
    "colab_type": "text",
    "id": "6ceAMrZzwsHC"
   },
   "source": [
    "## Import libraries"
   ]
  },
  {
   "cell_type": "markdown",
   "metadata": {
    "colab_type": "text",
    "id": "qkh6sywZtyni"
   },
   "source": [
    "Firstly, we import all the libraries that are needed for this project."
   ]
  },
  {
   "cell_type": "code",
   "execution_count": 1,
   "metadata": {
    "colab": {},
    "colab_type": "code",
    "id": "sxLP_bC7UQ3H"
   },
   "outputs": [],
   "source": [
    "import numpy as np\n",
    "import matplotlib.pyplot as plt \n",
    "from scipy.stats import norm\n",
    "from tqdm import tqdm\n",
    "import functools "
   ]
  },
  {
   "cell_type": "markdown",
   "metadata": {
    "colab_type": "text",
    "id": "Ad65RYZ7tyok"
   },
   "source": [
    "To simulate paths for the underlying share and firm's value, we first need to define a function to output the path given a starting value, the interest rate r, the volatility sigma, a series of standard normal variables Z and the step time dT. This step time is needed as we want to keep track of the value of the share at each point in time, so that we know if it has exceeded the barrier limit of the barrier option."
   ]
  },
  {
   "cell_type": "markdown",
   "metadata": {
    "colab_type": "text",
    "id": "c44aj5mpwgVY"
   },
   "source": [
    "## Define functions "
   ]
  },
  {
   "cell_type": "code",
   "execution_count": 2,
   "metadata": {
    "colab": {},
    "colab_type": "code",
    "id": "omtzo6gJUUyk"
   },
   "outputs": [],
   "source": [
    "def share_path(S_0, r, sigma, Z, dT):\n",
    "    return S_0 * np.exp(np.cumsum((r - sigma**2/2) * dT + sigma * np.sqrt(dT) * Z))"
   ]
  },
  {
   "cell_type": "markdown",
   "metadata": {
    "colab_type": "text",
    "id": "hOoezqjJtypa"
   },
   "source": [
    "This is based on the assumption that the share/firm value evolves according to the following lognormal distribution\n",
    "\n",
    "$S_T = S_0 exp((r-\\frac{\\sigma^2}{2})T + \\sigma\\sqrt{T}Z)$\n",
    "\n",
    "which is a solution of the following stochastic differential equation\n",
    "\n",
    "$dS_t = rS_tdt + \\sigma S_tdW_t $\n",
    "\n",
    "Here, the equation can be written in the form of a cumulative sum as\n",
    "\n",
    "$S_t = S_0 exp(\\sum_{i=1}^{t}((r-\\frac{\\sigma^2}{2})dT + \\sigma\\sqrt{dT}Z_i))$\n",
    "\n",
    "where dT is the timestep while each $Z_i$ is an independently generated standard normal random variable. For this exercise, we are letting the timestep be 1/12 since we are doing monthly simulations for a year."
   ]
  },
  {
   "cell_type": "code",
   "execution_count": 3,
   "metadata": {
    "colab": {},
    "colab_type": "code",
    "id": "uyEZfl0PwfZG"
   },
   "outputs": [],
   "source": [
    "def european_call_payoff(S_T, K, r, T):\n",
    "    \"\"\"\n",
    "    This function takes in the following parameters to determine the price of the European call option:\n",
    "      S_T is the price of the underlying at expiry.\n",
    "      K is the strike price\n",
    "      r is the risk free rate\n",
    "      T is the time period till maturity. This can be in months or years depending on the user's preference. In our case, it is in year.\n",
    "\n",
    "    The value of the European call option is determined by taking the discounted value of the final call option payoff\n",
    "    using the formula: np.exp(-T*r) * np.maximum(0, S_T - K)\n",
    "    \"\"\"\n",
    "    return np.exp(-T*r) * np.maximum(0, S_T - K) #payoff for call option\n",
    "\n",
    "def euro_uao_call(barrier, paths, K, r, T):\n",
    "    \"\"\"\n",
    "    This functions takes in the following parameters to calculate the value of a European Up-And-Out call option:\n",
    "      barrier is the barrier level,\n",
    "      paths is a list of share price paths,\n",
    "      K is the strike price\n",
    "      r is the risk free rate\n",
    "      T is the time period of each share price path.\n",
    "    \"\"\"\n",
    "    prices = []\n",
    "    for path in paths:\n",
    "            if np.max(path) > barrier: # knocked out\n",
    "                    prices.append(0)\n",
    "            else:\n",
    "                    prices.append(european_call_payoff(path[-1], K, r, T)) \n",
    "    return np.mean(prices)"
   ]
  },
  {
   "cell_type": "markdown",
   "metadata": {
    "colab_type": "text",
    "id": "eNx80yYmxKgz"
   },
   "source": [
    "To price the European Up-And-Out call option, we use the payoff stated in the question:\n",
    "\n",
    "- v($S_t$) = ($S_t$ - K)$^+$ given max(S - t < L) for t between [0, T] where K is the strike of the option, L is the barrier level, and $S_t$ is the share price at time t.\n",
    "\n",
    "We then discount the payoff by the duration of the option T. As this is a barrier option, the option expires worthless if at any point in time in the path the price reaches above the barrier. Otherwise, the payoff defaults to a normal European call. This is iterated over multiple times to get the expected value, which is the mean."
   ]
  },
  {
   "cell_type": "markdown",
   "metadata": {
    "colab_type": "text",
    "id": "mapX3d3twdPD"
   },
   "source": [
    "## Defining parameters"
   ]
  },
  {
   "cell_type": "markdown",
   "metadata": {
    "colab_type": "text",
    "id": "9WPuRdBDwyt9"
   },
   "source": [
    "Next, we define the values of the parameters needed. We shall assume that the firm's value starts at the same value as the underlying share, at 100."
   ]
  },
  {
   "cell_type": "code",
   "execution_count": 4,
   "metadata": {
    "colab": {},
    "colab_type": "code",
    "id": "yS62VvhCUTDW"
   },
   "outputs": [],
   "source": [
    "T = 1                   #expiry time of option\n",
    "L = 150                 #barrier limit\n",
    "S_0 = 100               #starting share value\n",
    "K = 100                 #strike price\n",
    "V_0 = 100               #starting firm value\n",
    "r = 0.08                #interest rate\n",
    "sigma_s = 0.30          #share volatility\n",
    "sigma_v = 0.25          #firm value volatility\n",
    "debt = 175              #firm debt\n",
    "correlation = 0.2       #correlation between share and firm\n",
    "recovery_rate = 0.25    #firm recovery rate\n",
    "frequency = 12          #monthly simulations for a year"
   ]
  },
  {
   "cell_type": "markdown",
   "metadata": {
    "colab_type": "text",
    "id": "KkXG7ILftyqr"
   },
   "source": [
    "From the correlation value, we can build a correlation matrix"
   ]
  },
  {
   "cell_type": "code",
   "execution_count": 5,
   "metadata": {
    "colab": {},
    "colab_type": "code",
    "id": "ibFgu7TVtyqv"
   },
   "outputs": [],
   "source": [
    "corr_matrix = np.array([[1, correlation], [correlation, 1]])"
   ]
  },
  {
   "cell_type": "markdown",
   "metadata": {
    "colab_type": "text",
    "id": "LHiMxA7UtynV"
   },
   "source": [
    "## 1. Simulate paths for the underlying share and for the counterparty’s firm value using sample sizes of 1000, 2000, …, 50000. Do monthly simulations for the lifetime of the option."
   ]
  },
  {
   "cell_type": "markdown",
   "metadata": {
    "colab_type": "text",
    "id": "sLiCzF00tyrf"
   },
   "source": [
    "Next, we will begin simulating the paths with a for loop."
   ]
  },
  {
   "cell_type": "code",
   "execution_count": 6,
   "metadata": {
    "colab": {
     "base_uri": "https://localhost:8080/",
     "height": 1000
    },
    "colab_type": "code",
    "id": "9LzSQZONtyrx",
    "outputId": "02961faa-812f-429c-b1ab-1f59f7ffb70c"
   },
   "outputs": [
    {
     "name": "stderr",
     "output_type": "stream",
     "text": [
      "100%|██████████| 1/1 [00:00<00:00,  7.10it/s]\n"
     ]
    },
    {
     "data": {
      "image/png": "[encoded data removed]",
      "text/plain": [
       "<Figure size 2160x1440 with 52 Axes>"
      ]
     },
     "metadata": {
      "needs_background": "light"
     },
     "output_type": "display_data"
    }
   ],
   "source": [
    "######### This is for figure plotting ###########\n",
    "plt.rcParams[\"figure.figsize\"] = (30,20)\n",
    "fig, ax = plt.subplots(13,4, sharex=True, sharey=True)\n",
    "plt.xticks (range (1,13))\n",
    "plt.ylabel ('USD')\n",
    "#################################################\n",
    "\n",
    "################################################\n",
    "#######      Monte Carlo Simulation    #########\n",
    "################################################\n",
    "\n",
    "for sampleSize in tqdm(range(1000, 51000, 1000)):    \n",
    "    share_path_list = []\n",
    "    firm_value_list = []\n",
    "    \n",
    "    #for each sample size, sum up all price path for each simulation so that the mean can be calculated later\n",
    "    for i in range(0, sampleSize):\n",
    "        norm_matrix = norm.rvs(size=np.array([2, frequency]))\n",
    "        corr_norm_matrix = np.matmul(np.linalg.cholesky(corr_matrix), norm_matrix)\n",
    "        \n",
    "        share_price_path = share_path(S_0, r, sigma_s, corr_norm_matrix[0,], T/frequency)\n",
    "        firm_value_path = share_path(V_0, r, sigma_v, corr_norm_matrix[1,], T/frequency)\n",
    "        share_path_list.append(share_price_path)\n",
    "        firm_value_list.append(firm_value_path)\n",
    "        \n",
    "    share_path_mean = list(map(lambda summed: summed/sampleSize,  functools.reduce(lambda a,b: [x + y for x, y in zip(a, b)], share_path_list)))\n",
    "    firm_value_mean = list(map(lambda summed: summed/sampleSize,  functools.reduce(lambda a,b: [x + y for x, y in zip(a, b)], firm_value_list)))\n",
    "    \n",
    "    row_id = int ((sampleSize / 1000) / 4)\n",
    "    col_id = int ((sampleSize/1000) % 4 - 1)\n",
    "    if col_id == -1:\n",
    "        col_id = 3\n",
    "        row_id -= 1\n",
    "    ax [row_id, col_id].title.set_text ('Sample Size = ' + str(sampleSize))\n",
    "    ax [row_id, col_id].plot (share_path_mean, label = 'Share Price Path')\n",
    "    ax [row_id, col_id].plot (firm_value_mean, label = 'Firm Value Path')\n",
    "    if row_id == 0 and col_id == 0:\n",
    "        ax [row_id, col_id].legend()"
   ]
  },
  {
   "cell_type": "markdown",
   "metadata": {
    "colab_type": "text",
    "id": "rGSqPPlztysV"
   },
   "source": [
    "- We will loop through each sample size starting with 1000, in increments of 1000, until the largest sample size of 50000. \n",
    "\n",
    "- We also create 2 new lists, share_path_list and firm_value_list, to keep track of the path for each simulation. For each sample size, we will generate a 2x12 matrix of uncorrelated standard normal random variables into norm_matrix. The 2 rows are needed, 1 for share price and the other for firm value. The 12 columns correspond to each month of the simulation for the entire year. \n",
    "\n",
    "- To turn this into correlated matrix, we then do a Cholesky decomposition of the correlation matrix built earlier, multiplied with norm_matrix, to give corr_norm_matrix, which gives a matrix of correlated random variables. \n",
    "\n",
    "- The first row of the matrix is the random variables for share price, while the second row is for the firm value. By passing these random variables into the share_path function, we generate the path and save them into the respective lists.\n",
    "\n",
    "- We also computed the mean path for each sample size by adding up all the paths and then dividing by the sample size itself. After plotting what the mean path looks like for each sample size, we notice that the larger the sample size, the closer the resemblance of the share price and the firm value.\n",
    "\n",
    "- For visualisation purposes, we can also pick a random path from the list and plot it."
   ]
  },
  {
   "cell_type": "code",
   "execution_count": 7,
   "metadata": {
    "colab": {
     "base_uri": "https://localhost:8080/",
     "height": 1000
    },
    "colab_type": "code",
    "id": "SKfxtPXftysZ",
    "outputId": "26954a43-cfc4-4386-d048-2953df0879f1"
   },
   "outputs": [
    {
     "data": {
      "image/png": "[encoded data removed]",
      "text/plain": [
       "<Figure size 2160x1440 with 1 Axes>"
      ]
     },
     "metadata": {
      "needs_background": "light"
     },
     "output_type": "display_data"
    }
   ],
   "source": [
    "plt.title ('Sample Size = ' + str(sampleSize))\n",
    "plt.plot (share_path_list[0], label = 'Share Price Path')\n",
    "plt.plot (firm_value_list[0], label = 'Firm Value Path')\n",
    "plt.xlabel ('Month')    \n",
    "plt.legend()\n",
    "plt.show()"
   ]
  },
  {
   "cell_type": "markdown",
   "metadata": {
    "colab_type": "text",
    "id": "QI0aJEovudef"
   },
   "source": [
    "## 2. Determine Monte Carlo estimates of both the default-free value of the option and the Credit Valuation Adjustment (CVA).\n",
    "## 3. Calculate the Monte Carlo estimates for counterparty risk"
   ]
  },
  {
   "cell_type": "markdown",
   "metadata": {
    "colab_type": "text",
    "id": "XwW-r2G1vEb_"
   },
   "source": [
    "To determine the Monte Carlo estimates of the option and CVA, we will need to use the simulation results from question 1. To make improve user readability, we will copy over the code from question 1 and add in the CVA and option value (from line 23 onwards)."
   ]
  },
  {
   "cell_type": "code",
   "execution_count": 8,
   "metadata": {
    "colab": {
     "base_uri": "https://localhost:8080/",
     "height": 34
    },
    "colab_type": "code",
    "id": "68lfBQrLu1Qg",
    "outputId": "dd1d10c3-bf91-488e-8050-5bac8e12f468",
    "scrolled": false
   },
   "outputs": [
    {
     "name": "stderr",
     "output_type": "stream",
     "text": [
      "\r",
      "  0%|          | 0/50 [00:00<?, ?it/s]"
     ]
    },
    {
     "name": "stdout",
     "output_type": "stream",
     "text": [
      "--------------------\n",
      "For sample Size: 1000\n",
      "The European up-and-out call option price is 6.4669431024584.\n",
      "The mean Credit Valuation Adjustment is 4.745710452279818.\n",
      "The price of the option less the counter party risk is 1.7212326501785817.\n",
      "--------------------\n"
     ]
    },
    {
     "name": "stderr",
     "output_type": "stream",
     "text": [
      "\r",
      "  2%|▏         | 1/50 [00:00<00:07,  7.00it/s]"
     ]
    },
    {
     "name": "stdout",
     "output_type": "stream",
     "text": [
      "--------------------\n",
      "For sample Size: 2000\n",
      "The European up-and-out call option price is 6.376162880288752.\n",
      "The mean Credit Valuation Adjustment is 4.660090779226071.\n",
      "The price of the option less the counter party risk is 1.7160721010626814.\n",
      "--------------------\n"
     ]
    },
    {
     "name": "stderr",
     "output_type": "stream",
     "text": [
      "\r",
      "  4%|▍         | 2/50 [00:00<00:08,  5.38it/s]"
     ]
    },
    {
     "name": "stdout",
     "output_type": "stream",
     "text": [
      "--------------------\n",
      "For sample Size: 3000\n",
      "The European up-and-out call option price is 6.931920467932097.\n",
      "The mean Credit Valuation Adjustment is 5.054222242454864.\n",
      "The price of the option less the counter party risk is 1.877698225477233.\n",
      "--------------------\n"
     ]
    },
    {
     "name": "stderr",
     "output_type": "stream",
     "text": [
      "\r",
      "  6%|▌         | 3/50 [00:00<00:12,  3.92it/s]"
     ]
    },
    {
     "name": "stdout",
     "output_type": "stream",
     "text": [
      "--------------------\n",
      "For sample Size: 4000\n",
      "The European up-and-out call option price is 7.018976072660953.\n",
      "The mean Credit Valuation Adjustment is 5.144278521702584.\n",
      "The price of the option less the counter party risk is 1.874697550958369.\n",
      "--------------------\n"
     ]
    },
    {
     "name": "stderr",
     "output_type": "stream",
     "text": [
      "\r",
      "  8%|▊         | 4/50 [00:01<00:15,  2.90it/s]"
     ]
    },
    {
     "name": "stdout",
     "output_type": "stream",
     "text": [
      "--------------------\n",
      "For sample Size: 5000\n",
      "The European up-and-out call option price is 6.655232758810906.\n",
      "The mean Credit Valuation Adjustment is 4.867027112712317.\n",
      "The price of the option less the counter party risk is 1.7882056460985893.\n",
      "--------------------\n"
     ]
    },
    {
     "name": "stderr",
     "output_type": "stream",
     "text": [
      "\r",
      " 10%|█         | 5/50 [00:02<00:19,  2.28it/s]"
     ]
    },
    {
     "name": "stdout",
     "output_type": "stream",
     "text": [
      "--------------------\n",
      "For sample Size: 6000\n",
      "The European up-and-out call option price is 6.852884697233191.\n",
      "The mean Credit Valuation Adjustment is 5.0008500430492795.\n",
      "The price of the option less the counter party risk is 1.8520346541839112.\n",
      "--------------------\n"
     ]
    },
    {
     "name": "stderr",
     "output_type": "stream",
     "text": [
      "\r",
      " 12%|█▏        | 6/50 [00:02<00:23,  1.83it/s]"
     ]
    },
    {
     "name": "stdout",
     "output_type": "stream",
     "text": [
      "--------------------\n",
      "For sample Size: 7000\n",
      "The European up-and-out call option price is 6.696397334305311.\n",
      "The mean Credit Valuation Adjustment is 4.879883674780514.\n",
      "The price of the option less the counter party risk is 1.816513659524797.\n",
      "--------------------\n"
     ]
    },
    {
     "name": "stderr",
     "output_type": "stream",
     "text": [
      "\r",
      " 14%|█▍        | 7/50 [00:03<00:28,  1.49it/s]"
     ]
    },
    {
     "name": "stdout",
     "output_type": "stream",
     "text": [
      "--------------------\n",
      "For sample Size: 8000\n",
      "The European up-and-out call option price is 6.664728645496648.\n",
      "The mean Credit Valuation Adjustment is 4.852992998916972.\n",
      "The price of the option less the counter party risk is 1.8117356465796766.\n",
      "--------------------\n"
     ]
    },
    {
     "name": "stderr",
     "output_type": "stream",
     "text": [
      "\r",
      " 16%|█▌        | 8/50 [00:04<00:34,  1.23it/s]"
     ]
    },
    {
     "name": "stdout",
     "output_type": "stream",
     "text": [
      "--------------------\n",
      "For sample Size: 9000\n",
      "The European up-and-out call option price is 6.808059681363214.\n",
      "The mean Credit Valuation Adjustment is 4.9633489327730125.\n",
      "The price of the option less the counter party risk is 1.8447107485902015.\n",
      "--------------------\n"
     ]
    },
    {
     "name": "stderr",
     "output_type": "stream",
     "text": [
      "\r",
      " 18%|█▊        | 9/50 [00:06<00:38,  1.06it/s]"
     ]
    },
    {
     "name": "stdout",
     "output_type": "stream",
     "text": [
      "--------------------\n",
      "For sample Size: 10000\n",
      "The European up-and-out call option price is 6.727451266099617.\n",
      "The mean Credit Valuation Adjustment is 4.905807331625787.\n",
      "The price of the option less the counter party risk is 1.8216439344738307.\n",
      "--------------------\n"
     ]
    },
    {
     "name": "stderr",
     "output_type": "stream",
     "text": [
      "\r",
      " 20%|██        | 10/50 [00:07<00:42,  1.07s/it]"
     ]
    },
    {
     "name": "stdout",
     "output_type": "stream",
     "text": [
      "--------------------\n",
      "For sample Size: 11000\n",
      "The European up-and-out call option price is 6.697086278181806.\n",
      "The mean Credit Valuation Adjustment is 4.891919762335393.\n",
      "The price of the option less the counter party risk is 1.8051665158464134.\n",
      "--------------------\n"
     ]
    },
    {
     "name": "stderr",
     "output_type": "stream",
     "text": [
      "\r",
      " 22%|██▏       | 11/50 [00:09<00:47,  1.21s/it]"
     ]
    },
    {
     "name": "stdout",
     "output_type": "stream",
     "text": [
      "--------------------\n",
      "For sample Size: 12000\n",
      "The European up-and-out call option price is 6.713271502646876.\n",
      "The mean Credit Valuation Adjustment is 4.910638345589066.\n",
      "The price of the option less the counter party risk is 1.8026331570578096.\n",
      "--------------------\n"
     ]
    },
    {
     "name": "stderr",
     "output_type": "stream",
     "text": [
      "\r",
      " 24%|██▍       | 12/50 [00:10<00:50,  1.33s/it]"
     ]
    },
    {
     "name": "stdout",
     "output_type": "stream",
     "text": [
      "--------------------\n",
      "For sample Size: 13000\n",
      "The European up-and-out call option price is 6.872100051871326.\n",
      "The mean Credit Valuation Adjustment is 5.010737082391467.\n",
      "The price of the option less the counter party risk is 1.8613629694798597.\n",
      "--------------------\n"
     ]
    },
    {
     "name": "stderr",
     "output_type": "stream",
     "text": [
      "\r",
      " 26%|██▌       | 13/50 [00:12<00:53,  1.45s/it]"
     ]
    },
    {
     "name": "stdout",
     "output_type": "stream",
     "text": [
      "--------------------\n",
      "For sample Size: 14000\n",
      "The European up-and-out call option price is 6.705837941670043.\n",
      "The mean Credit Valuation Adjustment is 4.89889640164061.\n",
      "The price of the option less the counter party risk is 1.8069415400294329.\n",
      "--------------------\n"
     ]
    },
    {
     "name": "stderr",
     "output_type": "stream",
     "text": [
      "\r",
      " 28%|██▊       | 14/50 [00:14<00:56,  1.58s/it]"
     ]
    },
    {
     "name": "stdout",
     "output_type": "stream",
     "text": [
      "--------------------\n",
      "For sample Size: 15000\n",
      "The European up-and-out call option price is 6.760714827749591.\n",
      "The mean Credit Valuation Adjustment is 4.931071230793084.\n",
      "The price of the option less the counter party risk is 1.8296435969565064.\n",
      "--------------------\n"
     ]
    },
    {
     "name": "stderr",
     "output_type": "stream",
     "text": [
      "\r",
      " 30%|███       | 15/50 [00:16<00:59,  1.70s/it]"
     ]
    },
    {
     "name": "stdout",
     "output_type": "stream",
     "text": [
      "--------------------\n",
      "For sample Size: 16000\n",
      "The European up-and-out call option price is 6.811986878129143.\n",
      "The mean Credit Valuation Adjustment is 4.964344118982451.\n",
      "The price of the option less the counter party risk is 1.8476427591466917.\n",
      "--------------------\n"
     ]
    },
    {
     "name": "stderr",
     "output_type": "stream",
     "text": [
      "\r",
      " 32%|███▏      | 16/50 [00:18<01:02,  1.83s/it]"
     ]
    },
    {
     "name": "stdout",
     "output_type": "stream",
     "text": [
      "--------------------\n",
      "For sample Size: 17000\n",
      "The European up-and-out call option price is 6.595940495910445.\n",
      "The mean Credit Valuation Adjustment is 4.805108288499691.\n",
      "The price of the option less the counter party risk is 1.7908322074107534.\n",
      "--------------------\n"
     ]
    },
    {
     "name": "stderr",
     "output_type": "stream",
     "text": [
      "\r",
      " 34%|███▍      | 17/50 [00:20<01:04,  1.97s/it]"
     ]
    },
    {
     "name": "stdout",
     "output_type": "stream",
     "text": [
      "--------------------\n",
      "For sample Size: 18000\n",
      "The European up-and-out call option price is 6.731686838468599.\n",
      "The mean Credit Valuation Adjustment is 4.910177672339609.\n",
      "The price of the option less the counter party risk is 1.8215091661289904.\n",
      "--------------------\n"
     ]
    },
    {
     "name": "stderr",
     "output_type": "stream",
     "text": [
      "\r",
      " 36%|███▌      | 18/50 [00:23<01:10,  2.20s/it]"
     ]
    },
    {
     "name": "stdout",
     "output_type": "stream",
     "text": [
      "--------------------\n",
      "For sample Size: 19000\n",
      "The European up-and-out call option price is 6.683061792740171.\n",
      "The mean Credit Valuation Adjustment is 4.87626770275342.\n",
      "The price of the option less the counter party risk is 1.8067940899867505.\n",
      "--------------------\n"
     ]
    },
    {
     "name": "stderr",
     "output_type": "stream",
     "text": [
      "\r",
      " 38%|███▊      | 19/50 [00:26<01:11,  2.30s/it]"
     ]
    },
    {
     "name": "stdout",
     "output_type": "stream",
     "text": [
      "--------------------\n",
      "For sample Size: 20000\n",
      "The European up-and-out call option price is 6.652341169611185.\n",
      "The mean Credit Valuation Adjustment is 4.85103537602815.\n",
      "The price of the option less the counter party risk is 1.801305793583035.\n",
      "--------------------\n"
     ]
    },
    {
     "name": "stderr",
     "output_type": "stream",
     "text": [
      "\r",
      " 40%|████      | 20/50 [00:28<01:13,  2.44s/it]"
     ]
    },
    {
     "name": "stdout",
     "output_type": "stream",
     "text": [
      "--------------------\n",
      "For sample Size: 21000\n",
      "The European up-and-out call option price is 6.699720876808284.\n",
      "The mean Credit Valuation Adjustment is 4.891813084041153.\n",
      "The price of the option less the counter party risk is 1.8079077927671312.\n",
      "--------------------\n"
     ]
    },
    {
     "name": "stderr",
     "output_type": "stream",
     "text": [
      "\r",
      " 42%|████▏     | 21/50 [00:31<01:14,  2.56s/it]"
     ]
    },
    {
     "name": "stdout",
     "output_type": "stream",
     "text": [
      "--------------------\n",
      "For sample Size: 22000\n",
      "The European up-and-out call option price is 6.731759927086359.\n",
      "The mean Credit Valuation Adjustment is 4.906076919521568.\n",
      "The price of the option less the counter party risk is 1.8256830075647912.\n",
      "--------------------\n"
     ]
    },
    {
     "name": "stderr",
     "output_type": "stream",
     "text": [
      "\r",
      " 44%|████▍     | 22/50 [00:34<01:15,  2.69s/it]"
     ]
    },
    {
     "name": "stdout",
     "output_type": "stream",
     "text": [
      "--------------------\n",
      "For sample Size: 23000\n",
      "The European up-and-out call option price is 6.72040983426613.\n",
      "The mean Credit Valuation Adjustment is 4.907551493969043.\n",
      "The price of the option less the counter party risk is 1.8128583402970868.\n",
      "--------------------\n"
     ]
    },
    {
     "name": "stderr",
     "output_type": "stream",
     "text": [
      "\r",
      " 46%|████▌     | 23/50 [00:37<01:16,  2.82s/it]"
     ]
    },
    {
     "name": "stdout",
     "output_type": "stream",
     "text": [
      "--------------------\n",
      "For sample Size: 24000\n",
      "The European up-and-out call option price is 6.562548042269804.\n",
      "The mean Credit Valuation Adjustment is 4.786941502673564.\n",
      "The price of the option less the counter party risk is 1.7756065395962404.\n",
      "--------------------\n"
     ]
    },
    {
     "name": "stderr",
     "output_type": "stream",
     "text": [
      "\r",
      " 48%|████▊     | 24/50 [00:41<01:16,  2.95s/it]"
     ]
    },
    {
     "name": "stdout",
     "output_type": "stream",
     "text": [
      "--------------------\n",
      "For sample Size: 25000\n",
      "The European up-and-out call option price is 6.7230347751004125.\n",
      "The mean Credit Valuation Adjustment is 4.907795851620191.\n",
      "The price of the option less the counter party risk is 1.815238923480221.\n",
      "--------------------\n"
     ]
    },
    {
     "name": "stderr",
     "output_type": "stream",
     "text": [
      "\r",
      " 50%|█████     | 25/50 [00:44<01:17,  3.08s/it]"
     ]
    },
    {
     "name": "stdout",
     "output_type": "stream",
     "text": [
      "--------------------\n",
      "For sample Size: 26000\n",
      "The European up-and-out call option price is 6.7500761456143366.\n",
      "The mean Credit Valuation Adjustment is 4.923891941463932.\n",
      "The price of the option less the counter party risk is 1.8261842041504046.\n",
      "--------------------\n"
     ]
    },
    {
     "name": "stderr",
     "output_type": "stream",
     "text": [
      "\r",
      " 52%|█████▏    | 26/50 [00:47<01:16,  3.19s/it]"
     ]
    },
    {
     "name": "stdout",
     "output_type": "stream",
     "text": [
      "--------------------\n",
      "For sample Size: 27000\n",
      "The European up-and-out call option price is 6.759649751808206.\n",
      "The mean Credit Valuation Adjustment is 4.931226997115101.\n",
      "The price of the option less the counter party risk is 1.8284227546931051.\n",
      "--------------------\n"
     ]
    },
    {
     "name": "stderr",
     "output_type": "stream",
     "text": [
      "\r",
      " 54%|█████▍    | 27/50 [00:51<01:16,  3.32s/it]"
     ]
    },
    {
     "name": "stdout",
     "output_type": "stream",
     "text": [
      "--------------------\n",
      "For sample Size: 28000\n",
      "The European up-and-out call option price is 6.725097825208262.\n",
      "The mean Credit Valuation Adjustment is 4.904914272410374.\n",
      "The price of the option less the counter party risk is 1.8201835527978876.\n",
      "--------------------\n"
     ]
    },
    {
     "name": "stderr",
     "output_type": "stream",
     "text": [
      "\r",
      " 56%|█████▌    | 28/50 [00:55<01:19,  3.60s/it]"
     ]
    },
    {
     "name": "stdout",
     "output_type": "stream",
     "text": [
      "--------------------\n",
      "For sample Size: 29000\n",
      "The European up-and-out call option price is 6.664307291916565.\n",
      "The mean Credit Valuation Adjustment is 4.869828344562223.\n",
      "The price of the option less the counter party risk is 1.7944789473543414.\n",
      "--------------------\n"
     ]
    },
    {
     "name": "stderr",
     "output_type": "stream",
     "text": [
      "\r",
      " 58%|█████▊    | 29/50 [00:59<01:19,  3.79s/it]"
     ]
    },
    {
     "name": "stdout",
     "output_type": "stream",
     "text": [
      "--------------------\n",
      "For sample Size: 30000\n",
      "The European up-and-out call option price is 6.720420688145988.\n",
      "The mean Credit Valuation Adjustment is 4.903016995974042.\n",
      "The price of the option less the counter party risk is 1.817403692171946.\n",
      "--------------------\n"
     ]
    },
    {
     "name": "stderr",
     "output_type": "stream",
     "text": [
      "\r",
      " 60%|██████    | 30/50 [01:04<01:20,  4.01s/it]"
     ]
    },
    {
     "name": "stdout",
     "output_type": "stream",
     "text": [
      "--------------------\n",
      "For sample Size: 31000\n",
      "The European up-and-out call option price is 6.735009930743017.\n",
      "The mean Credit Valuation Adjustment is 4.914588872684384.\n",
      "The price of the option less the counter party risk is 1.820421058058633.\n",
      "--------------------\n"
     ]
    },
    {
     "name": "stderr",
     "output_type": "stream",
     "text": [
      "\r",
      " 62%|██████▏   | 31/50 [01:09<01:20,  4.25s/it]"
     ]
    },
    {
     "name": "stdout",
     "output_type": "stream",
     "text": [
      "--------------------\n",
      "For sample Size: 32000\n",
      "The European up-and-out call option price is 6.731969206321404.\n",
      "The mean Credit Valuation Adjustment is 4.9088511428318435.\n",
      "The price of the option less the counter party risk is 1.8231180634895603.\n",
      "--------------------\n"
     ]
    },
    {
     "name": "stderr",
     "output_type": "stream",
     "text": [
      "\r",
      " 64%|██████▍   | 32/50 [01:13<01:18,  4.39s/it]"
     ]
    },
    {
     "name": "stdout",
     "output_type": "stream",
     "text": [
      "--------------------\n",
      "For sample Size: 33000\n",
      "The European up-and-out call option price is 6.7404217665973505.\n",
      "The mean Credit Valuation Adjustment is 4.912770063733236.\n",
      "The price of the option less the counter party risk is 1.8276517028641148.\n",
      "--------------------\n"
     ]
    },
    {
     "name": "stderr",
     "output_type": "stream",
     "text": [
      "\r",
      " 66%|██████▌   | 33/50 [01:18<01:14,  4.38s/it]"
     ]
    },
    {
     "name": "stdout",
     "output_type": "stream",
     "text": [
      "--------------------\n",
      "For sample Size: 34000\n",
      "The European up-and-out call option price is 6.692102042289295.\n",
      "The mean Credit Valuation Adjustment is 4.885572845799035.\n",
      "The price of the option less the counter party risk is 1.80652919649026.\n",
      "--------------------\n"
     ]
    },
    {
     "name": "stderr",
     "output_type": "stream",
     "text": [
      "\r",
      " 68%|██████▊   | 34/50 [01:22<01:11,  4.44s/it]"
     ]
    },
    {
     "name": "stdout",
     "output_type": "stream",
     "text": [
      "--------------------\n",
      "For sample Size: 35000\n",
      "The European up-and-out call option price is 6.664336574479707.\n",
      "The mean Credit Valuation Adjustment is 4.861910567441834.\n",
      "The price of the option less the counter party risk is 1.802426007037873.\n",
      "--------------------\n"
     ]
    },
    {
     "name": "stderr",
     "output_type": "stream",
     "text": [
      "\r",
      " 70%|███████   | 35/50 [01:27<01:07,  4.51s/it]"
     ]
    },
    {
     "name": "stdout",
     "output_type": "stream",
     "text": [
      "--------------------\n",
      "For sample Size: 36000\n",
      "The European up-and-out call option price is 6.678393720230717.\n",
      "The mean Credit Valuation Adjustment is 4.870061118062841.\n",
      "The price of the option less the counter party risk is 1.8083326021678756.\n",
      "--------------------\n"
     ]
    },
    {
     "name": "stderr",
     "output_type": "stream",
     "text": [
      "\r",
      " 72%|███████▏  | 36/50 [01:32<01:04,  4.59s/it]"
     ]
    },
    {
     "name": "stdout",
     "output_type": "stream",
     "text": [
      "--------------------\n",
      "For sample Size: 37000\n",
      "The European up-and-out call option price is 6.7166970022649695.\n",
      "The mean Credit Valuation Adjustment is 4.901941274709802.\n",
      "The price of the option less the counter party risk is 1.8147557275551671.\n",
      "--------------------\n"
     ]
    },
    {
     "name": "stderr",
     "output_type": "stream",
     "text": [
      "\r",
      " 74%|███████▍  | 37/50 [01:37<01:00,  4.67s/it]"
     ]
    },
    {
     "name": "stdout",
     "output_type": "stream",
     "text": [
      "--------------------\n",
      "For sample Size: 38000\n",
      "The European up-and-out call option price is 6.654747466276495.\n",
      "The mean Credit Valuation Adjustment is 4.85599968745685.\n",
      "The price of the option less the counter party risk is 1.7987477788196449.\n",
      "--------------------\n"
     ]
    },
    {
     "name": "stderr",
     "output_type": "stream",
     "text": [
      "\r",
      " 76%|███████▌  | 38/50 [01:42<00:57,  4.77s/it]"
     ]
    },
    {
     "name": "stdout",
     "output_type": "stream",
     "text": [
      "--------------------\n",
      "For sample Size: 39000\n",
      "The European up-and-out call option price is 6.667371884054128.\n",
      "The mean Credit Valuation Adjustment is 4.859423299657068.\n",
      "The price of the option less the counter party risk is 1.8079485843970602.\n",
      "--------------------\n"
     ]
    },
    {
     "name": "stderr",
     "output_type": "stream",
     "text": [
      "\r",
      " 78%|███████▊  | 39/50 [01:47<00:54,  4.96s/it]"
     ]
    },
    {
     "name": "stdout",
     "output_type": "stream",
     "text": [
      "--------------------\n",
      "For sample Size: 40000\n",
      "The European up-and-out call option price is 6.68242981742528.\n",
      "The mean Credit Valuation Adjustment is 4.876461653241774.\n",
      "The price of the option less the counter party risk is 1.805968164183506.\n",
      "--------------------\n"
     ]
    },
    {
     "name": "stderr",
     "output_type": "stream",
     "text": [
      "\r",
      " 80%|████████  | 40/50 [01:52<00:50,  5.06s/it]"
     ]
    },
    {
     "name": "stdout",
     "output_type": "stream",
     "text": [
      "--------------------\n",
      "For sample Size: 41000\n",
      "The European up-and-out call option price is 6.700634147743923.\n",
      "The mean Credit Valuation Adjustment is 4.880188135982714.\n",
      "The price of the option less the counter party risk is 1.8204460117612085.\n",
      "--------------------\n"
     ]
    },
    {
     "name": "stderr",
     "output_type": "stream",
     "text": [
      "\r",
      " 82%|████████▏ | 41/50 [01:58<00:46,  5.19s/it]"
     ]
    },
    {
     "name": "stdout",
     "output_type": "stream",
     "text": [
      "--------------------\n",
      "For sample Size: 42000\n",
      "The European up-and-out call option price is 6.698918665780965.\n",
      "The mean Credit Valuation Adjustment is 4.889088431461959.\n",
      "The price of the option less the counter party risk is 1.8098302343190067.\n",
      "--------------------\n"
     ]
    },
    {
     "name": "stderr",
     "output_type": "stream",
     "text": [
      "\r",
      " 84%|████████▍ | 42/50 [02:04<00:42,  5.31s/it]"
     ]
    },
    {
     "name": "stdout",
     "output_type": "stream",
     "text": [
      "--------------------\n",
      "For sample Size: 43000\n",
      "The European up-and-out call option price is 6.6876141903561415.\n",
      "The mean Credit Valuation Adjustment is 4.87311894968067.\n",
      "The price of the option less the counter party risk is 1.8144952406754715.\n",
      "--------------------\n"
     ]
    },
    {
     "name": "stderr",
     "output_type": "stream",
     "text": [
      "\r",
      " 86%|████████▌ | 43/50 [02:09<00:37,  5.38s/it]"
     ]
    },
    {
     "name": "stdout",
     "output_type": "stream",
     "text": [
      "--------------------\n",
      "For sample Size: 44000\n",
      "The European up-and-out call option price is 6.695331881830357.\n",
      "The mean Credit Valuation Adjustment is 4.886330321294147.\n",
      "The price of the option less the counter party risk is 1.8090015605362098.\n",
      "--------------------\n"
     ]
    },
    {
     "name": "stderr",
     "output_type": "stream",
     "text": [
      "\r",
      " 88%|████████▊ | 44/50 [02:15<00:32,  5.50s/it]"
     ]
    },
    {
     "name": "stdout",
     "output_type": "stream",
     "text": [
      "--------------------\n",
      "For sample Size: 45000\n",
      "The European up-and-out call option price is 6.806409527326008.\n",
      "The mean Credit Valuation Adjustment is 4.964512318740089.\n",
      "The price of the option less the counter party risk is 1.8418972085859195.\n",
      "--------------------\n"
     ]
    },
    {
     "name": "stderr",
     "output_type": "stream",
     "text": [
      "\r",
      " 90%|█████████ | 45/50 [02:21<00:27,  5.59s/it]"
     ]
    },
    {
     "name": "stdout",
     "output_type": "stream",
     "text": [
      "--------------------\n",
      "For sample Size: 46000\n",
      "The European up-and-out call option price is 6.725419009915958.\n",
      "The mean Credit Valuation Adjustment is 4.909466624121852.\n",
      "The price of the option less the counter party risk is 1.8159523857941062.\n",
      "--------------------\n"
     ]
    },
    {
     "name": "stderr",
     "output_type": "stream",
     "text": [
      "\r",
      " 92%|█████████▏| 46/50 [02:27<00:22,  5.68s/it]"
     ]
    },
    {
     "name": "stdout",
     "output_type": "stream",
     "text": [
      "--------------------\n",
      "For sample Size: 47000\n",
      "The European up-and-out call option price is 6.718575766662812.\n",
      "The mean Credit Valuation Adjustment is 4.904383169969918.\n",
      "The price of the option less the counter party risk is 1.8141925966928936.\n",
      "--------------------\n"
     ]
    },
    {
     "name": "stderr",
     "output_type": "stream",
     "text": [
      "\r",
      " 94%|█████████▍| 47/50 [02:33<00:17,  5.79s/it]"
     ]
    },
    {
     "name": "stdout",
     "output_type": "stream",
     "text": [
      "--------------------\n",
      "For sample Size: 48000\n",
      "The European up-and-out call option price is 6.685939639310403.\n",
      "The mean Credit Valuation Adjustment is 4.879438018646874.\n",
      "The price of the option less the counter party risk is 1.8065016206635294.\n",
      "--------------------\n"
     ]
    },
    {
     "name": "stderr",
     "output_type": "stream",
     "text": [
      "\r",
      " 96%|█████████▌| 48/50 [02:39<00:11,  5.90s/it]"
     ]
    },
    {
     "name": "stdout",
     "output_type": "stream",
     "text": [
      "--------------------\n",
      "For sample Size: 49000\n",
      "The European up-and-out call option price is 6.679305340734355.\n",
      "The mean Credit Valuation Adjustment is 4.871998153918004.\n",
      "The price of the option less the counter party risk is 1.8073071868163506.\n",
      "--------------------\n"
     ]
    },
    {
     "name": "stderr",
     "output_type": "stream",
     "text": [
      "\r",
      " 98%|█████████▊| 49/50 [02:45<00:06,  6.04s/it]"
     ]
    },
    {
     "name": "stdout",
     "output_type": "stream",
     "text": [
      "--------------------\n",
      "For sample Size: 50000\n",
      "The European up-and-out call option price is 6.713711242957527.\n",
      "The mean Credit Valuation Adjustment is 4.89698823902764.\n",
      "The price of the option less the counter party risk is 1.8167230039298872.\n",
      "--------------------\n"
     ]
    },
    {
     "name": "stderr",
     "output_type": "stream",
     "text": [
      "100%|██████████| 50/50 [02:52<00:00,  3.44s/it]\n"
     ]
    },
    {
     "data": {
      "image/png": "[encoded data removed]",
      "text/plain": [
       "<Figure size 2160x1440 with 1 Axes>"
      ]
     },
     "metadata": {
      "needs_background": "light"
     },
     "output_type": "display_data"
    }
   ],
   "source": [
    "#2. Determine Monte Carlo estimates of both the default-free value of the option and the Credit Valuation Adjustment (CVA).\n",
    "#3. Calculate the Monte Carlo estimates for the price of the option incorporating counterparty risk, given by the default-free price less the CVA.\n",
    "call_val_list = []\n",
    "cva_list = []\n",
    "adjusted_call_list = []\n",
    "\n",
    "for sampleSize in tqdm(range(1000, 51000, 1000)):\n",
    "    share_path_list = []\n",
    "    firm_value_list = []\n",
    "    \n",
    "    #for each sample size, sum up all price path for each simulation so that the mean can be calculated later\n",
    "    for i in range(0, sampleSize):\n",
    "        norm_matrix = norm.rvs(size=np.array([2, frequency]))\n",
    "        corr_norm_matrix = np.matmul(np.linalg.cholesky(corr_matrix), norm_matrix)\n",
    "        share_price_path = share_path(S_0, r, sigma_s, corr_norm_matrix[0,], T/frequency)\n",
    "        firm_value_path = share_path(V_0, r, sigma_v, corr_norm_matrix[1,], T/frequency)\n",
    "        share_path_list.append(share_price_path)\n",
    "        firm_value_list.append(firm_value_path)\n",
    "\n",
    "    #get the mean path for the sum of all the simulations\n",
    "    share_path_mean = list(map(lambda summed: summed/sampleSize,  functools.reduce(lambda a,b: [x + y for x, y in zip(a, b)], share_path_list)))\n",
    "    firm_value_mean = list(map(lambda summed: summed/sampleSize,  functools.reduce(lambda a,b: [x + y for x, y in zip(a, b)], firm_value_list)))\n",
    "\n",
    "    \"\"\"Note that the code above is the same as question 1\"\"\"\n",
    "\n",
    "    ################################################\n",
    "    #######     terminal value of option   #########\n",
    "    ################################################\n",
    "    #print(share_path_list)\n",
    "    call_val = euro_uao_call(L, share_path_list, K, r, T) # obtain the Up-and-out European call option value using the defined function euro_uao_call\n",
    "    # Extract the terminal firm values\n",
    "    term_firm_values = list(map(lambda x: x[-1], firm_value_list))\n",
    "    \n",
    "    # Note: the explanation of the functions are defined above under the \"Define functions\" section\n",
    "\n",
    "    ################################################\n",
    "    #######               CVA              #########\n",
    "    ################################################\n",
    "\n",
    "    # To calculate the amount lost, we apply the formula [np.exp(-T/frequency*r) * (1-recovery_rate)*(term_firm_val < debt) * call_val]\n",
    "    # for each simulated terminal firm value in the monte carlo simulation. \n",
    "    amount_lost = [np.exp(-T/frequency*r) * (1-recovery_rate)*(term_firm_val < debt) * call_val for term_firm_val in term_firm_values] # calculate the amount lost\n",
    "    cva = np.mean(amount_lost)\n",
    "    adjusted_opt_val = call_val - cva\n",
    "    \n",
    "    call_val_list.append(call_val)\n",
    "    cva_list.append(cva)\n",
    "    adjusted_call_list.append(adjusted_opt_val)\n",
    "    \n",
    "    print('-' * 20)\n",
    "    print(\"For sample Size: \" + str(sampleSize))\n",
    "    print(\"The European up-and-out call option price is {}.\".format(call_val))\n",
    "    print(\"The mean Credit Valuation Adjustment is {}.\".format(cva))\n",
    "    print(\"The price of the option less the counter party risk is {}.\".format(adjusted_opt_val))\n",
    "    print('-' * 20)\n",
    "        \n",
    "xi = [i for i in range(1000, 51000, 1000)]   \n",
    "    \n",
    "plt.title ('Option Value, CVA vs Sample Size ')\n",
    "plt.plot (xi, call_val_list, label = 'Default Option Price')\n",
    "plt.plot (xi, cva_list, label = 'CVA')\n",
    "plt.plot (xi, adjusted_call_list, label = 'Adjusted Option Price')\n",
    "plt.xlabel ('Sample Size')    \n",
    "plt.legend()\n",
    "plt.show()"
   ]
  },
  {
   "cell_type": "markdown",
   "metadata": {},
   "source": [
    "After calling the appropriate function euro_uao_call to get the default call option value, we can use it along together with the list of terminal firm values, to get a list of amount_lost, the mean of which would be the CVA. The list of terminal values is formed by extracting the last element of each list. Then, this CVA is subtracted from the default call option value to get the adjusted vall option value.\n",
    "\n",
    "By taking the largest sample size of 50000, the default price of the option is 6.78, CVA is 4.95 and the adjusted option price is 1.84. The plot of the 3 different values against sample size is shown in the diagram above."
   ]
  },
  {
   "cell_type": "markdown",
   "metadata": {},
   "source": [
    "## Blibiography"
   ]
  },
  {
   "cell_type": "markdown",
   "metadata": {},
   "source": [
    "Chen, J. (2019, April 14). Barrier Option Definition. Retrieved from https://www.investopedia.com/terms/b/barrieroption.asp.\n",
    "\n",
    "Palisade. (n.d.). What is Monte Carlo Simulation? Retrieved from http://www.palisade.com/risk/monte_carlo_simulation.asp.\n",
    "\n",
    "Levy, G. (2003). Computational finance. Oxford: Butterworth-Heinemann."
   ]
  }
 ],
 "metadata": {
  "colab": {
   "collapsed_sections": [],
   "name": "WQU_CF_Assignment_Notebook_M3_v5.ipynb",
   "provenance": []
  },
  "kernelspec": {
   "display_name": "Python 3",
   "language": "python",
   "name": "python3"
  },
  "language_info": {
   "codemirror_mode": {
    "name": "ipython",
    "version": 3
   },
   "file_extension": ".py",
   "mimetype": "text/x-python",
   "name": "python",
   "nbconvert_exporter": "python",
   "pygments_lexer": "ipython3",
   "version": "3.7.4"
  }
 },
 "nbformat": 4,
 "nbformat_minor": 1
}
