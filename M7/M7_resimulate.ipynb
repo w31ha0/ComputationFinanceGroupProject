{
 "cells": [
  {
   "cell_type": "markdown",
   "metadata": {
    "colab_type": "text",
    "id": "UI-fXcylDTYt"
   },
   "source": [
    "# Simulate Asset Price Evolutions and Reprice Risky up-and-out Call Option"
   ]
  },
  {
   "cell_type": "markdown",
   "metadata": {
    "colab_type": "text",
    "id": "w0IBHeo8DQPN"
   },
   "source": [
    "Group 6-A \n",
    "\n",
    "Members:\n",
    "\n",
    "1. Md. Shafil Hosain (shafil430@yahoo.com)\n",
    "\n",
    "2. Si Jie Lim (limsijie93@gmail.com)\n",
    "\n",
    "3. Quang Vinh Dang (dqvinh87@gmail.com)\n",
    "\n",
    "4. Wei Hao Lew (lewweihao93@hotmail.com)\n",
    "\n",
    "5. Philip ZF Chen (philipchen619@gmail.com)"
   ]
  },
  {
   "cell_type": "markdown",
   "metadata": {
    "colab_type": "text",
    "id": "Nbu_ImZa5JGN"
   },
   "source": [
    "# Question 1"
   ]
  },
  {
   "cell_type": "markdown",
   "metadata": {
    "colab_type": "text",
    "id": "3uTsutxt2ZIT"
   },
   "source": [
    "In this project, we will be using the LIBOR Forward Market Model(LFMM) to simulate the forward rates.\n",
    "\n",
    "First, we import the necessary libraries needed for the code."
   ]
  },
  {
   "cell_type": "code",
   "execution_count": 1,
   "metadata": {
    "colab": {},
    "colab_type": "code",
    "id": "fmvbsxrQ2ZIg"
   },
   "outputs": [],
   "source": [
    "import numpy as np\n",
    "from scipy.stats import norm\n",
    "import matplotlib.pyplot as plt\n",
    "import random\n",
    "from tqdm import tqdm\n",
    "import functools\n",
    "import math"
   ]
  },
  {
   "cell_type": "markdown",
   "metadata": {
    "colab_type": "text",
    "id": "Q5vEyvKH2ZIp"
   },
   "source": [
    "Next, we define the list of parameter values needed."
   ]
  },
  {
   "cell_type": "code",
   "execution_count": 2,
   "metadata": {
    "colab": {},
    "colab_type": "code",
    "id": "ZM3mfrKb2ZIs"
   },
   "outputs": [],
   "source": [
    "L = 150                 #barrier limit\n",
    "S_0 = 100               #starting share value\n",
    "K = 100                 #strike price\n",
    "V_0 = 200               #starting firm value\n",
    "D = 175\n",
    "gamma = 0.75\n",
    "debt = 175              #firm debt\n",
    "sigma_s = 0.30          #share volatility\n",
    "sigma_v = 0.25          #firm value volatility\n",
    "correlation = 0.2       #correlation between share and firm\n",
    "recovery_rate = 0.25    #firm recovery rate\n",
    "n_simulations = 100000\n",
    "dt = 1/12               #expiry time of option / monthly simulations for a year\n",
    "frequency = 12          #monthly simulations for a year\n",
    "T = 1                   #expiry time of option"
   ]
  },
  {
   "cell_type": "markdown",
   "metadata": {
    "colab_type": "text",
    "id": "ZLfN-VGC2ZIz"
   },
   "source": [
    "## Calibration\n",
    "\n",
    "We are first going to calibrate the LFMM using the observed zero coupon bond prices. \n",
    "\n",
    "The jth forward rate at time t can be defined as\n",
    "\n",
    "$F_j(t) = \\frac{P_j(t)-P_{j+1}(t)}{\\delta_t P_{j+1}(t)}$\n",
    "\n",
    "We are going to use this formula to calibrate and obtain the initial forward rates, which will be used to simulate future rates as in the LFMM model."
   ]
  },
  {
   "cell_type": "code",
   "execution_count": 3,
   "metadata": {
    "colab": {},
    "colab_type": "code",
    "id": "WCz6dtXx2ZI1"
   },
   "outputs": [],
   "source": [
    "def bondPricesToInitialForwardRates(bond_prices, n_steps):\n",
    "    return np.ones([n_simulations, n_steps - 1]) * (bond_prices[:-1] - bond_prices[1:])/(dt * bond_prices[1:])"
   ]
  },
  {
   "cell_type": "code",
   "execution_count": 4,
   "metadata": {
    "colab": {},
    "colab_type": "code",
    "id": "AXMPJGDk2ZI7"
   },
   "outputs": [],
   "source": [
    "bond_prices = np.array([100, 99.38, 98.76, 98.15, 97.54, 96.94, 96.34, 95.74, 95.16, 94.57, 93.99, 93.42, 92.85])\n",
    "n_steps = len(bond_prices) \n",
    "\n",
    "forward_rates = bondPricesToInitialForwardRates(bond_prices, n_steps)"
   ]
  },
  {
   "cell_type": "markdown",
   "metadata": {
    "colab_type": "text",
    "id": "dtis61nV2ZJG"
   },
   "source": [
    "## Interest Rate - LIBOR Forward Market Model (LFMM)\n",
    "\n",
    "The LFMM says that the forward rate evolves according to the following formula\n",
    "\n",
    "$F_j(t_i) = F_j(t_{i-1})exp[(\\mu_j(t_{i-1})-\\frac{1}{2}\\sigma^2)\\delta_{i-1} + \\sigma_j\\sqrt{\\delta_{i-1}}Z_i]$\n",
    "\n",
    "where\n",
    "\n",
    "$\\mu_j(t_{i-1}) \\ \\sum_{k=i}^j \\frac{\\delta_k F_j(t_{i-1})\\sigma_k\\sigma_j}{1+\\delta_kF_j(t_{i-1})}$\n",
    "\n",
    "which can be written as"
   ]
  },
  {
   "cell_type": "code",
   "execution_count": 5,
   "metadata": {
    "colab": {},
    "colab_type": "code",
    "id": "kbBj1p5k2ZJI"
   },
   "outputs": [],
   "source": [
    "def getMu(forward_rates, delta, sigma_j, sigma_k):\n",
    "    return np.cumsum(delta * forward_rates * sigma_j * sigma_k/(1 + delta * forward_rates), axis=1)\n",
    "\n",
    "def getInitialNextForwardEstimate(forward_rates, mu, sigma, delta, Z):\n",
    "    return forward_rates * np.exp((mu - (sigma**2)/2) * delta + sigma * np.sqrt(delta) * Z)\n"
   ]
  },
  {
   "cell_type": "markdown",
   "metadata": {
    "colab_type": "text",
    "id": "5A208AAr2ZJP"
   },
   "source": [
    "However, to improve the accuracy, we will use the Predictor-Corrector method which involves estimating the next period's drift and then taking the average. Hence, the final estimate of the forward rate is given by:\n",
    "\n",
    "$F_j(t_i) = F_j(t_{i-1})exp[\\frac{1}{2}(\\mu_j(t_{i-1})+\\mu_j(t_i)-\\sigma^2)\\delta_{i-1} + \\sigma_j\\sqrt{\\delta_{i-1}}Z_i]$\n",
    "\n",
    "This final estimate is written as:"
   ]
  },
  {
   "cell_type": "code",
   "execution_count": 6,
   "metadata": {
    "colab": {},
    "colab_type": "code",
    "id": "GrxODXt12ZJT"
   },
   "outputs": [],
   "source": [
    "def getFinalNextForward(forward_rates, mu1, mu2, sigma, delta, Z):\n",
    "    return forward_rates * np.exp(0.5 * (mu1 + mu2 - sigma**2) * delta + sigma * np.sqrt(delta) * Z)"
   ]
  },
  {
   "cell_type": "markdown",
   "metadata": {
    "colab_type": "text",
    "id": "S_qtRd082ZJc"
   },
   "source": [
    "Furthermore, the continuously compounded interest rate can be derived from the LIBOR forward rate as follows:\n",
    "\n",
    "$e^{r_{ti}(t_{i+1}-t_i)} = 1 + L(t_i, t_{i+1})(t_{i+1} - t_i)$"
   ]
  },
  {
   "cell_type": "code",
   "execution_count": 7,
   "metadata": {
    "colab": {},
    "colab_type": "code",
    "id": "vcw15u3e2ZJd"
   },
   "outputs": [],
   "source": [
    "def liborToContinuousRate(libor, dt):\n",
    "    return 1 + (libor * dt)"
   ]
  },
  {
   "cell_type": "markdown",
   "metadata": {
    "colab_type": "text",
    "id": "OYuz0H8X2ZJw"
   },
   "source": [
    "## Volatility - CEV Model\n",
    "\n",
    "We will be using the CEV model to represent volatility, which is given by\n",
    "\n",
    "$\\sigma(t_i, t_{i+1}) = \\sigma(S_{it})^{\\gamma-1}$"
   ]
  },
  {
   "cell_type": "code",
   "execution_count": 8,
   "metadata": {
    "colab": {},
    "colab_type": "code",
    "id": "Db4X4EDa2ZKH"
   },
   "outputs": [],
   "source": [
    "def getVolatility(S_t, gamma, sigma):\n",
    "    return sigma * S_t**(gamma - 1)"
   ]
  },
  {
   "cell_type": "markdown",
   "metadata": {
    "colab_type": "text",
    "id": "HPBMrrqi2ZKa"
   },
   "source": [
    "## Stock Price Model\n",
    "\n",
    "We assume the following lognormal evolution of stock price/firm value:\n",
    "\n",
    "$S_{t_{i+1}} = S_{t_i}exp[(r - \\frac{\\sigma^2(t_i, t_{i+1})}{2})(t_{i+1}-t_i)+\\sigma(t_i, t_{i+1})\\sqrt{t_{i+1}-t_i}Z]$\n",
    "\n",
    "which can be re-written as\n",
    "\n",
    "$S_{t_{i+1}} = S_{t_i}exp[r(t_{i+1}-t_i)]exp[(- \\frac{\\sigma^2(t_i, t_{i+1})}{2})(t_{i+1}-t_i)+\\sigma(t_i, t_{i+1})\\sqrt{t_{i+1}-t_i}Z]$"
   ]
  },
  {
   "cell_type": "code",
   "execution_count": 9,
   "metadata": {
    "colab": {},
    "colab_type": "code",
    "id": "F5Dq9k1R2ZKd"
   },
   "outputs": [],
   "source": [
    "def getSharePrice(S_t, continuous_rate, sigma, dt, Z):\n",
    "    return S_t * continuous_rate * np.exp(-sigma**2/2 * dt + sigma * np.sqrt(dt) * Z)"
   ]
  },
  {
   "cell_type": "markdown",
   "metadata": {
    "colab_type": "text",
    "id": "sT7YbD0D2ZKu"
   },
   "source": [
    "## Simulation"
   ]
  },
  {
   "cell_type": "markdown",
   "metadata": {
    "colab_type": "text",
    "id": "BY7tq_7e2ZKy"
   },
   "source": [
    "First, we initialise the stock matrix and delta matrix."
   ]
  },
  {
   "cell_type": "code",
   "execution_count": 10,
   "metadata": {
    "colab": {},
    "colab_type": "code",
    "id": "XCvhEMrz2ZK2"
   },
   "outputs": [],
   "source": [
    "delta = np.ones([n_simulations, n_steps - 1]) * dt\n",
    "stock = np.ones([n_simulations, n_steps]) * S_0\n",
    "firm = np.ones([n_simulations, n_steps]) * V_0\n",
    "\n",
    "continuesRates = []\n",
    "volatilities = []"
   ]
  },
  {
   "cell_type": "markdown",
   "metadata": {
    "colab_type": "text",
    "id": "0GDl8EPm2ZLM"
   },
   "source": [
    "We also need to define a method to reshape our data structure"
   ]
  },
  {
   "cell_type": "code",
   "execution_count": 11,
   "metadata": {
    "colab": {},
    "colab_type": "code",
    "id": "CtbUIKi72ZLO"
   },
   "outputs": [],
   "source": [
    "def reshape(input):\n",
    "    return np.array([input, ]).transpose()"
   ]
  },
  {
   "cell_type": "markdown",
   "metadata": {
    "colab_type": "text",
    "id": "8vM4kCvU2ZLc"
   },
   "source": [
    "Then, we go to the actual simulation."
   ]
  },
  {
   "cell_type": "code",
   "execution_count": 12,
   "metadata": {
    "colab": {
     "base_uri": "https://localhost:8080/",
     "height": 1000
    },
    "colab_type": "code",
    "id": "_d50ysp82ZLg",
    "outputId": "3b85886e-f211-4c01-98a3-ac3c8f88bc14"
   },
   "outputs": [
    {
     "name": "stdout",
     "output_type": "stream",
     "text": [
      "Values for 1st Simulation only\n",
      "\n",
      "Values for 1st Simulation only\n",
      "\n",
      "Volatility at time 1: [0.09486833]\n",
      "Forward Rates at time 1: [0.0773802  0.07786635 0.07708694 0.07756939 0.07677036 0.07724885\n",
      " 0.07773333 0.07560056 0.07738417 0.07654237 0.07568199 0.07614695]\n",
      "First LIBOR rate at time 1: 0.07738019776669464\n",
      "Continuos rate at time 1: [1.00644835]\n",
      "Stock Price at time 1: [104.21512167]\n",
      "Firm Value at time 1: [204.6763797]\n",
      "\n",
      "\n",
      "Volatility at time 2: [0.09389416]\n",
      "Forward Rates at time 2: [0.07992317 0.07912355 0.07961913 0.07879936 0.07929087 0.07978854\n",
      " 0.07759975 0.0794309  0.0785672  0.07768443 0.07816206]\n",
      "First LIBOR rate at time 2: 0.07992317308265562\n",
      "Continuos rate at time 2: [1.00666026]\n",
      "Stock Price at time 2: [108.09401156]\n",
      "Firm Value at time 2: [207.31570857]\n",
      "\n",
      "\n",
      "Volatility at time 3: [0.09304025]\n",
      "Forward Rates at time 3: [0.07617041 0.07664785 0.07585902 0.07633255 0.07681201 0.07470521\n",
      " 0.07646842 0.07563728 0.07478777 0.07524793]\n",
      "First LIBOR rate at time 3: 0.07617040930531864\n",
      "Continuos rate at time 3: [1.00634753]\n",
      "Stock Price at time 3: [107.08258588]\n",
      "Firm Value at time 3: [202.47502567]\n",
      "\n",
      "\n",
      "Volatility at time 4: [0.09325917]\n",
      "Forward Rates at time 4: [0.07662199 0.07583377 0.07630748 0.07678715 0.07468136 0.07644435\n",
      " 0.07561382 0.07476491 0.07522527]\n",
      "First LIBOR rate at time 4: 0.07662198619348573\n",
      "Continuos rate at time 4: [1.00638517]\n",
      "Stock Price at time 4: [108.73614656]\n",
      "Firm Value at time 4: [208.02308696]\n",
      "\n",
      "\n",
      "Volatility at time 5: [0.09290258]\n",
      "Forward Rates at time 5: [0.07487387 0.07534193 0.07581587 0.07373705 0.07547809 0.07465839\n",
      " 0.07382053 0.07427541]\n",
      "First LIBOR rate at time 5: 0.07487387387297094\n",
      "Continuos rate at time 5: [1.00623949]\n",
      "Stock Price at time 5: [103.15587078]\n",
      "Firm Value at time 5: [218.35350938]\n",
      "\n",
      "\n",
      "Volatility at time 6: [0.09413427]\n",
      "Forward Rates at time 6: [0.07539257 0.07586717 0.07378728 0.07552985 0.07470993 0.07387183\n",
      " 0.07432736]\n",
      "First LIBOR rate at time 6: 0.07539256615335889\n",
      "Continuos rate at time 6: [1.00628271]\n",
      "Stock Price at time 6: [100.97659144]\n",
      "Firm Value at time 6: [225.51444029]\n",
      "\n",
      "\n",
      "Volatility at time 7: [0.09463811]\n",
      "Forward Rates at time 7: [0.07580584 0.07372796 0.07546949 0.07465056 0.07381346 0.07426898]\n",
      "First LIBOR rate at time 7: 0.07580583755927306\n",
      "Continuos rate at time 7: [1.00631715]\n",
      "Stock Price at time 7: [99.52271828]\n",
      "Firm Value at time 7: [228.2094288]\n",
      "\n",
      "\n",
      "Volatility at time 8: [0.09498187]\n",
      "Forward Rates at time 8: [0.0728064  0.07452651 0.07371816 0.07289184 0.07334201]\n",
      "First LIBOR rate at time 8: 0.07280639651369841\n",
      "Continuos rate at time 8: [1.0060672]\n",
      "Stock Price at time 8: [104.83566109]\n",
      "Firm Value at time 8: [237.48511895]\n",
      "\n",
      "\n",
      "Volatility at time 9: [0.0937549]\n",
      "Forward Rates at time 9: [0.07607156 0.0752468  0.07440368 0.07486352]\n",
      "First LIBOR rate at time 9: 0.0760715624736795\n",
      "Continuos rate at time 9: [1.0063393]\n",
      "Stock Price at time 9: [106.74215008]\n",
      "Firm Value at time 9: [244.81812615]\n",
      "\n",
      "\n",
      "Volatility at time 10: [0.09333344]\n",
      "Forward Rates at time 10: [0.073737   0.07291112 0.07336206]\n",
      "First LIBOR rate at time 10: 0.07373700114325464\n",
      "Continuos rate at time 10: [1.00614475]\n",
      "Stock Price at time 10: [109.98028319]\n",
      "Firm Value at time 10: [243.41780523]\n",
      "\n",
      "\n",
      "Volatility at time 11: [0.09263872]\n",
      "Forward Rates at time 11: [0.06969781 0.07012917]\n",
      "First LIBOR rate at time 11: 0.06969780574165414\n",
      "Continuos rate at time 11: [1.00580815]\n",
      "Stock Price at time 11: [114.21346325]\n",
      "Firm Value at time 11: [240.50072307]\n",
      "\n",
      "\n",
      "Volatility at time 12: [0.09176814]\n",
      "Forward Rates at time 12: [0.07250797]\n",
      "First LIBOR rate at time 12: 0.07250797193288597\n",
      "Continuos rate at time 12: [1.00604233]\n",
      "Stock Price at time 12: [110.09015327]\n",
      "Firm Value at time 12: [246.38741355]\n",
      "\n",
      "\n"
     ]
    }
   ],
   "source": [
    "print(\"Values for 1st Simulation only\\n\")\n",
    "\n",
    "print(\"Values for 1st Simulation only\\n\")\n",
    "\n",
    "for i in range(0, 12):\n",
    "    #each iteration is a point in time, estimating for 12 forward rates\n",
    "    forward_Z = norm.rvs(size = [n_simulations, 1])\n",
    "    stock_Z = norm.rvs(size = [n_simulations, 1])\n",
    "    firm_Z = norm.rvs(size = [n_simulations, 1])\n",
    "    \n",
    "    S_t_minus_one = stock[:, i]\n",
    "    V_t_minus_one = firm[:, i]\n",
    "    forward_rates_t = forward_rates[:, i:]\n",
    "    delta_t = delta[:, i:]\n",
    "    \n",
    "    sigma_new = getVolatility(S_t_minus_one, gamma, sigma_s)\n",
    "    volatilities.append(sigma_new)\n",
    "    #duplicate the sigma across more columns as the same sigma will be used to calculate the other forward rates \n",
    "    sigma_new_transposed = np.array([sigma_new,] * (n_steps - (i + 1))).transpose() \n",
    "    \n",
    "    mu_initial = getMu(forward_rates_t, delta_t, sigma_new_transposed, sigma_new_transposed)\n",
    "    forward_temp = getInitialNextForwardEstimate(forward_rates_t, mu_initial, sigma_new_transposed, delta_t, forward_Z)\n",
    "    mu_next = getMu(forward_temp, delta_t, sigma_new_transposed, sigma_new_transposed)\n",
    "    final_forwards = getFinalNextForward(forward_rates_t, mu_initial, mu_next, sigma_new_transposed, delta_t, forward_Z)\n",
    "    forward_rates[:,i:] = final_forwards\n",
    "    \n",
    "    first_libor_rate = forward_rates[:,i]\n",
    "    continuous_rate = liborToContinuousRate(first_libor_rate, dt)\n",
    "    continuesRates.append(continuous_rate)\n",
    "    \n",
    "    continuous_rate = reshape(continuous_rate)\n",
    "    sigma_new = reshape(sigma_new)\n",
    "    S_t_minus_one = reshape(S_t_minus_one)\n",
    "    V_t_minus_one = reshape(V_t_minus_one)\n",
    "    S_t = getSharePrice(S_t_minus_one, continuous_rate, sigma_new, dt, stock_Z)\n",
    "    V_t = getSharePrice(V_t_minus_one, continuous_rate, sigma_new, dt, firm_Z)\n",
    "    stock[:, i + 1] = S_t[:,0]\n",
    "    firm[:, i + 1] = V_t[:,0]\n",
    "    \n",
    "    print(\"Volatility at time \" + str(i+1) + \": \" + str(sigma_new[0]))\n",
    "    print(\"Forward Rates at time \" + str(i+1) + \": \" + str(final_forwards[0]))\n",
    "    print(\"First LIBOR rate at time \" + str(i+1) + \": \" + str(first_libor_rate[0]))\n",
    "    print(\"Continuos rate at time \" + str(i+1) + \": \" + str(continuous_rate[0]))\n",
    "    print(\"Stock Price at time \" + str(i+1) + \": \" + str(S_t[0]))\n",
    "    print(\"Firm Value at time \" + str(i+1) + \": \" + str(V_t[0]))\n",
    "    print(\"\\n\")"
   ]
  },
  {
   "cell_type": "markdown",
   "metadata": {
    "colab_type": "text",
    "id": "Pb1JoEIp5Gk3"
   },
   "source": [
    "# Question 2"
   ]
  },
  {
   "cell_type": "code",
   "execution_count": 13,
   "metadata": {
    "colab": {},
    "colab_type": "code",
    "id": "Xh9a9jrc79id"
   },
   "outputs": [],
   "source": [
    "def simulateLIBOR(n):\n",
    "\n",
    "  continuous_rates = np.zeros(n)\n",
    "\n",
    "  for i in range(0, n):\n",
    "    forward_Z = norm.rvs(size = [n_simulations, 1])\n",
    "    stock_Z = norm.rvs(size = [n_simulations, 1])\n",
    "    \n",
    "    S_t_minus_one = stock[:, i]\n",
    "    forward_rates_t = forward_rates[:, i:]\n",
    "    delta_t = delta[:, i:]\n",
    "    \n",
    "    sigma_new = getVolatility(S_t_minus_one, gamma, sigma_s)\n",
    "    #duplicate the sigma across more columns as the same sigma will be used to calculate the other forward rates \n",
    "    sigma_new_transposed = np.array([sigma_new,] * (n_steps - (i + 1))).transpose() \n",
    "    \n",
    "    mu_initial = getMu(forward_rates_t, delta_t, sigma_new_transposed, sigma_new_transposed)\n",
    "    forward_temp = getInitialNextForwardEstimate(forward_rates_t, mu_initial, sigma_new_transposed, delta_t, forward_Z)\n",
    "    mu_next = getMu(forward_temp, delta_t, sigma_new_transposed, sigma_new_transposed)\n",
    "    final_forwards = getFinalNextForward(forward_rates_t, mu_initial, mu_next, sigma_new_transposed, delta_t, forward_Z)\n",
    "    forward_rates[:,i:] = final_forwards\n",
    "    \n",
    "    first_libor_rate = forward_rates[:,i]\n",
    "    continuous_rate = liborToContinuousRate(first_libor_rate, dt)\n",
    "    \n",
    "    continuous_rate = reshape(continuous_rate)\n",
    "    continuous_rates[i] = continuous_rate[0]\n",
    "    sigma_new = reshape(sigma_new)\n",
    "    S_t_minus_one = reshape(S_t_minus_one)\n",
    "    S_t = getSharePrice(S_t_minus_one, continuous_rate, sigma_new, dt, stock_Z)\n",
    "    stock[:, i + 1] = S_t[:,0]\n",
    "\n",
    "  return np.prod(continuous_rates)"
   ]
  },
  {
   "cell_type": "code",
   "execution_count": 14,
   "metadata": {
    "colab": {},
    "colab_type": "code",
    "id": "P2l0ehGfDEsa"
   },
   "outputs": [],
   "source": [
    "def share_path(S_0, r, sigma, Z, dT):\n",
    "    return S_0 * np.exp(np.cumsum((r - sigma**2/2) * dT + sigma * np.sqrt(dT) * Z))\n",
    "\n",
    "def european_call_payoff(S_T, K, r, T):\n",
    "    \"\"\"\n",
    "    This function takes in the following parameters to determine the price of the European call option:\n",
    "      S_T is the price of the underlying at expiry.\n",
    "      K is the strike price\n",
    "      r is the risk free rate\n",
    "      T is the time period till maturity. This can be in months or years depending on the user's preference. In our case, it is in year.\n",
    "\n",
    "    The value of the European call option is determined by taking the discounted value of the final call option payoff\n",
    "    using the formula: np.exp(-T*r) * np.maximum(0, S_T - K)\n",
    "    \"\"\"\n",
    "    return np.exp(-T*r) * np.maximum(0, S_T - K) #payoff for call option\n",
    "\n",
    "def euro_uao_call(barrier, paths, K, r, T):\n",
    "    \"\"\"\n",
    "    This functions takes in the following parameters to calculate the value of a European Up-And-Out call option:\n",
    "      barrier is the barrier level,\n",
    "      paths is a list of share price paths,\n",
    "      K is the strike price\n",
    "      r is the risk free rate\n",
    "      T is the time period of each share price path.\n",
    "    \"\"\"\n",
    "    prices = []\n",
    "    for path in paths:\n",
    "            if np.max(path) > barrier: # knocked out\n",
    "                    prices.append(0)\n",
    "            else:\n",
    "                    prices.append(european_call_payoff(path[-1], K, r, T)) \n",
    "    return np.mean(prices)"
   ]
  },
  {
   "cell_type": "code",
   "execution_count": null,
   "metadata": {
    "colab": {
     "base_uri": "https://localhost:8080/",
     "height": 1000
    },
    "colab_type": "code",
    "id": "LYivamid5H08",
    "outputId": "5b7e7a29-171e-484d-faf7-a6379f1dc24e"
   },
   "outputs": [
    {
     "name": "stderr",
     "output_type": "stream",
     "text": [
      "  6%|████▉                                                                             | 6/100 [00:14<03:49,  2.44s/it]"
     ]
    }
   ],
   "source": [
    "call_val_list = []\n",
    "cva_list = []\n",
    "adjusted_call_list = []\n",
    "corr_matrix = np.array([[1, correlation], [correlation, 1]])\n",
    "\n",
    "for sampleSize in tqdm(range(1000, n_simulations + 1000, 1000)):\n",
    "    share_path_list = []\n",
    "    firm_value_list = []\n",
    "    r_list = []\n",
    "\n",
    "    r = simulateLIBOR(12) - 1\n",
    "    r_list.append(r)\n",
    "    \n",
    "    #for each sample size, sum up all price path for each simulation so that the mean can be calculated later\n",
    "    for i in range(0, sampleSize):\n",
    "        norm_matrix = norm.rvs(size=np.array([2, frequency]))\n",
    "        corr_norm_matrix = np.matmul(np.linalg.cholesky(corr_matrix), norm_matrix)\n",
    "\n",
    "        share_price_path = share_path(S_0, r, sigma_s, corr_norm_matrix[0,], T/frequency)\n",
    "        firm_value_path = share_path(V_0, r, sigma_v, corr_norm_matrix[1,], T/frequency)\n",
    "        share_path_list.append(share_price_path)\n",
    "        firm_value_list.append(firm_value_path)\n",
    "\n",
    "    #get the mean path for the sum of all the simulations\n",
    "    share_path_mean = list(map(lambda summed: summed/sampleSize,  functools.reduce(lambda a,b: [x + y for x, y in zip(a, b)], share_path_list)))\n",
    "    firm_value_mean = list(map(lambda summed: summed/sampleSize,  functools.reduce(lambda a,b: [x + y for x, y in zip(a, b)], firm_value_list)))\n",
    "\n",
    "    ################################################\n",
    "    #######     terminal value of option   #########\n",
    "    ################################################\n",
    "    #print(share_path_list)\n",
    "    call_val = euro_uao_call(L, share_path_list, K, r, T) # obtain the Up-and-out European call option value using the defined function euro_uao_call\n",
    "    # Extract the terminal firm values\n",
    "    term_firm_values = list(map(lambda x: x[-1], firm_value_list))\n",
    "    \n",
    "    # Note: the explanation of the functions are defined above under the \"Define functions\" section\n",
    "\n",
    "    ################################################\n",
    "    #######               CVA              #########\n",
    "    ################################################\n",
    "\n",
    "    # To calculate the amount lost, we apply the formula [np.exp(-T/frequency*r) * (1-recovery_rate)*(term_firm_val < debt) * call_val]\n",
    "    # for each simulated terminal firm value in the monte carlo simulation. \n",
    "    amount_lost = [np.exp(-T/frequency*r) * (1-recovery_rate)*(term_firm_val < debt) * call_val for term_firm_val in term_firm_values] # calculate the amount lost\n",
    "    cva = np.mean(amount_lost)\n",
    "    adjusted_opt_val = call_val - cva\n",
    "    \n",
    "    call_val_list.append(call_val)\n",
    "    cva_list.append(cva)\n",
    "    adjusted_call_list.append(adjusted_opt_val)"
   ]
  },
  {
   "cell_type": "code",
   "execution_count": null,
   "metadata": {
    "colab": {
     "base_uri": "https://localhost:8080/",
     "height": 70
    },
    "colab_type": "code",
    "id": "eDIxo5yIJPwq",
    "outputId": "996dc858-0e59-43af-f6ec-965b5b5dfb0b"
   },
   "outputs": [],
   "source": [
    "print(\"The mean value of the call option with no default risk based on simulations is {}\".format(np.mean(call_val_list)))\n",
    "print(\"The mean value of the CVA based on simulations is {}\".format( np.mean(cva_list)))\n",
    "print(\"The mean adjusted value of the  call option based on simulations is {}\".format(np.mean(adjusted_call_list)))"
   ]
  },
  {
   "cell_type": "code",
   "execution_count": null,
   "metadata": {
    "colab": {
     "base_uri": "https://localhost:8080/",
     "height": 141
    },
    "colab_type": "code",
    "id": "qYrjK7dmmKHq",
    "outputId": "f8b5c67d-6cfe-45f3-8ffc-a795265dbc7f"
   },
   "outputs": [],
   "source": [
    "# Reprint values for 1st simulation only\n",
    "\n",
    "print(\"Number of simulations: {}\".format(1000))\n",
    "print(\"One-year discount factor based on LFMM: {}\".format(math.pow(r_list[0] + 1, -1)))\n",
    "\n",
    "print('\\n')\n",
    "\n",
    "print(\"The mean value of the call option with no default risk based on {} simulations is {}\".format(1000, np.mean(call_val_list[0])))\n",
    "print(\"The mean value of the CVA based on {} simulations is {}\".format(1000, np.mean(cva_list[0])))\n",
    "print(\"The mean adjusted value of the  call option based on {} simulations is {}\".format(1000, np.mean(adjusted_call_list[0])))"
   ]
  }
 ],
 "metadata": {
  "colab": {
   "collapsed_sections": [],
   "name": "M7.ipynb",
   "provenance": []
  },
  "kernelspec": {
   "display_name": "Python 3",
   "language": "python",
   "name": "python3"
  },
  "language_info": {
   "codemirror_mode": {
    "name": "ipython",
    "version": 3
   },
   "file_extension": ".py",
   "mimetype": "text/x-python",
   "name": "python",
   "nbconvert_exporter": "python",
   "pygments_lexer": "ipython3",
   "version": "3.7.4"
  }
 },
 "nbformat": 4,
 "nbformat_minor": 1
}
