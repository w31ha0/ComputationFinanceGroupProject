{
 "cells": [
  {
   "cell_type": "markdown",
   "metadata": {
    "colab_type": "text",
    "id": "UI-fXcylDTYt"
   },
   "source": [
    "# Simulate Asset Price Evolutions and Reprice Risky up-and-out Call Option"
   ]
  },
  {
   "cell_type": "markdown",
   "metadata": {
    "colab_type": "text",
    "id": "w0IBHeo8DQPN"
   },
   "source": [
    "Group 6-A \n",
    "\n",
    "Members:\n",
    "\n",
    "1. Md. Shafil Hosain (shafil430@yahoo.com)\n",
    "\n",
    "2. Si Jie Lim (limsijie93@gmail.com)\n",
    "\n",
    "3. Quang Vinh Dang (dqvinh87@gmail.com)\n",
    "\n",
    "4. Wei Hao Lew (lewweihao93@hotmail.com)\n",
    "\n",
    "5. Philip ZF Chen (philipchen619@gmail.com)"
   ]
  },
  {
   "cell_type": "markdown",
   "metadata": {
    "colab_type": "text",
    "id": "Nbu_ImZa5JGN"
   },
   "source": [
    "# Question 1"
   ]
  },
  {
   "cell_type": "markdown",
   "metadata": {
    "colab_type": "text",
    "id": "3uTsutxt2ZIT"
   },
   "source": [
    "In this project, we will be using the LIBOR Forward Market Model(LFMM) to simulate the forward rates.\n",
    "\n",
    "First, we import the necessary libraries needed for the code."
   ]
  },
  {
   "cell_type": "code",
   "execution_count": 1,
   "metadata": {
    "colab": {},
    "colab_type": "code",
    "id": "fmvbsxrQ2ZIg"
   },
   "outputs": [],
   "source": [
    "import numpy as np\n",
    "from scipy.stats import norm\n",
    "import matplotlib.pyplot as plt\n",
    "import random\n",
    "from tqdm import tqdm\n",
    "import functools\n",
    "import math"
   ]
  },
  {
   "cell_type": "markdown",
   "metadata": {
    "colab_type": "text",
    "id": "Q5vEyvKH2ZIp"
   },
   "source": [
    "Next, we define the list of parameter values needed."
   ]
  },
  {
   "cell_type": "code",
   "execution_count": 2,
   "metadata": {
    "colab": {},
    "colab_type": "code",
    "id": "ZM3mfrKb2ZIs"
   },
   "outputs": [],
   "source": [
    "L = 150                 #barrier limit\n",
    "S_0 = 100               #starting share value\n",
    "K = 100                 #strike price\n",
    "V_0 = 200               #starting firm value\n",
    "D = 175\n",
    "gamma = 0.75\n",
    "debt = 175              #firm debt\n",
    "sigma_s = 0.30          #share volatility\n",
    "sigma_v = 0.30          #firm value volatility\n",
    "correlation = 0.2       #correlation between share and firm\n",
    "recovery_rate = 0.25    #firm recovery rate\n",
    "n_simulations = 100000\n",
    "dt = 1/12               #expiry time of option / monthly simulations for a year\n",
    "frequency = 12          #monthly simulations for a year\n",
    "T = 1                   #expiry time of option"
   ]
  },
  {
   "cell_type": "markdown",
   "metadata": {
    "colab_type": "text",
    "id": "ZLfN-VGC2ZIz"
   },
   "source": [
    "## Calibration\n",
    "\n",
    "We are first going to calibrate the LFMM using the observed zero coupon bond prices. \n",
    "\n",
    "The jth forward rate at time t can be defined as\n",
    "\n",
    "$F_j(t) = \\frac{P_j(t)-P_{j+1}(t)}{\\delta_t P_{j+1}(t)}$\n",
    "\n",
    "We are going to use this formula to calibrate and obtain the initial forward rates, which will be used to simulate future rates as in the LFMM model."
   ]
  },
  {
   "cell_type": "code",
   "execution_count": 3,
   "metadata": {
    "colab": {},
    "colab_type": "code",
    "id": "WCz6dtXx2ZI1"
   },
   "outputs": [],
   "source": [
    "def bondPricesToInitialForwardRates(bond_prices, n_steps):\n",
    "    return np.ones([n_simulations, n_steps - 1]) * (bond_prices[:-1] - bond_prices[1:])/(dt * bond_prices[1:])"
   ]
  },
  {
   "cell_type": "code",
   "execution_count": 4,
   "metadata": {
    "colab": {},
    "colab_type": "code",
    "id": "AXMPJGDk2ZI7"
   },
   "outputs": [],
   "source": [
    "bond_prices = np.array([100, 99.38, 98.76, 98.15, 97.54, 96.94, 96.34, 95.74, 95.16, 94.57, 93.99, 93.42, 92.85])\n",
    "n_steps = len(bond_prices) \n",
    "\n",
    "forward_rates = bondPricesToInitialForwardRates(bond_prices, n_steps)"
   ]
  },
  {
   "cell_type": "markdown",
   "metadata": {
    "colab_type": "text",
    "id": "dtis61nV2ZJG"
   },
   "source": [
    "## Interest Rate - LIBOR Forward Market Model (LFMM)\n",
    "\n",
    "The LFMM says that the forward rate evolves according to the following formula\n",
    "\n",
    "$F_j(t_i) = F_j(t_{i-1})exp[(\\mu_j(t_{i-1})-\\frac{1}{2}\\sigma^2)\\delta_{i-1} + \\sigma_j\\sqrt{\\delta_{i-1}}Z_i]$\n",
    "\n",
    "where\n",
    "\n",
    "$\\mu_j(t_{i-1}) \\ \\sum_{k=i}^j \\frac{\\delta_k F_j(t_{i-1})\\sigma_k\\sigma_j}{1+\\delta_kF_j(t_{i-1})}$\n",
    "\n",
    "which can be written as"
   ]
  },
  {
   "cell_type": "code",
   "execution_count": 5,
   "metadata": {
    "colab": {},
    "colab_type": "code",
    "id": "kbBj1p5k2ZJI"
   },
   "outputs": [],
   "source": [
    "def getMu(forward_rates, delta, sigma_j, sigma_k):\n",
    "    return np.cumsum(delta * forward_rates * sigma_j * sigma_k/(1 + delta * forward_rates), axis=1)\n",
    "\n",
    "def getInitialNextForwardEstimate(forward_rates, mu, sigma, delta, Z):\n",
    "    return forward_rates * np.exp((mu - (sigma**2)/2) * delta + sigma * np.sqrt(delta) * Z)\n"
   ]
  },
  {
   "cell_type": "markdown",
   "metadata": {
    "colab_type": "text",
    "id": "5A208AAr2ZJP"
   },
   "source": [
    "However, to improve the accuracy, we will use the Predictor-Corrector method which involves estimating the next period's drift and then taking the average. Hence, the final estimate of the forward rate is given by:\n",
    "\n",
    "$F_j(t_i) = F_j(t_{i-1})exp[\\frac{1}{2}(\\mu_j(t_{i-1})+\\mu_j(t_i)-\\sigma^2)\\delta_{i-1} + \\sigma_j\\sqrt{\\delta_{i-1}}Z_i]$\n",
    "\n",
    "This final estimate is written as:"
   ]
  },
  {
   "cell_type": "code",
   "execution_count": 6,
   "metadata": {
    "colab": {},
    "colab_type": "code",
    "id": "GrxODXt12ZJT"
   },
   "outputs": [],
   "source": [
    "def getFinalNextForward(forward_rates, mu1, mu2, sigma, delta, Z):\n",
    "    return forward_rates * np.exp(0.5 * (mu1 + mu2 - sigma**2) * delta + sigma * np.sqrt(delta) * Z)"
   ]
  },
  {
   "cell_type": "markdown",
   "metadata": {
    "colab_type": "text",
    "id": "S_qtRd082ZJc"
   },
   "source": [
    "Furthermore, the continuously compounded interest rate can be derived from the LIBOR forward rate as follows:\n",
    "\n",
    "$e^{r_{ti}(t_{i+1}-t_i)} = 1 + L(t_i, t_{i+1})(t_{i+1} - t_i)$"
   ]
  },
  {
   "cell_type": "code",
   "execution_count": 7,
   "metadata": {
    "colab": {},
    "colab_type": "code",
    "id": "vcw15u3e2ZJd"
   },
   "outputs": [],
   "source": [
    "def liborToContinuousRate(libor, dt):\n",
    "    return 1 + (libor * dt)"
   ]
  },
  {
   "cell_type": "markdown",
   "metadata": {
    "colab_type": "text",
    "id": "OYuz0H8X2ZJw"
   },
   "source": [
    "## Volatility - CEV Model\n",
    "\n",
    "We will be using the CEV model to represent volatility, which is given by\n",
    "\n",
    "$\\sigma(t_i, t_{i+1}) = \\sigma(S_{it})^{\\gamma-1}$"
   ]
  },
  {
   "cell_type": "code",
   "execution_count": 8,
   "metadata": {
    "colab": {},
    "colab_type": "code",
    "id": "Db4X4EDa2ZKH"
   },
   "outputs": [],
   "source": [
    "def getVolatility(S_t, gamma, sigma):\n",
    "    return sigma * S_t**(gamma - 1)"
   ]
  },
  {
   "cell_type": "markdown",
   "metadata": {
    "colab_type": "text",
    "id": "HPBMrrqi2ZKa"
   },
   "source": [
    "## Stock Price Model\n",
    "\n",
    "We assume the following lognormal evolution of stock price/firm value:\n",
    "\n",
    "$S_{t_{i+1}} = S_{t_i}exp[(r - \\frac{\\sigma^2(t_i, t_{i+1})}{2})(t_{i+1}-t_i)+\\sigma(t_i, t_{i+1})\\sqrt{t_{i+1}-t_i}Z]$\n",
    "\n",
    "which can be re-written as\n",
    "\n",
    "$S_{t_{i+1}} = S_{t_i}exp[r(t_{i+1}-t_i)]exp[(- \\frac{\\sigma^2(t_i, t_{i+1})}{2})(t_{i+1}-t_i)+\\sigma(t_i, t_{i+1})\\sqrt{t_{i+1}-t_i}Z]$"
   ]
  },
  {
   "cell_type": "code",
   "execution_count": 9,
   "metadata": {
    "colab": {},
    "colab_type": "code",
    "id": "F5Dq9k1R2ZKd"
   },
   "outputs": [],
   "source": [
    "def getSharePrice(S_t, continuous_rate, sigma, dt, Z):\n",
    "    return S_t * continuous_rate * np.exp(-sigma**2/2 * dt + sigma * np.sqrt(dt) * Z)"
   ]
  },
  {
   "cell_type": "markdown",
   "metadata": {
    "colab_type": "text",
    "id": "sT7YbD0D2ZKu"
   },
   "source": [
    "## Simulation"
   ]
  },
  {
   "cell_type": "markdown",
   "metadata": {
    "colab_type": "text",
    "id": "BY7tq_7e2ZKy"
   },
   "source": [
    "First, we initialise the stock matrix and delta matrix."
   ]
  },
  {
   "cell_type": "code",
   "execution_count": 10,
   "metadata": {
    "colab": {},
    "colab_type": "code",
    "id": "XCvhEMrz2ZK2"
   },
   "outputs": [],
   "source": [
    "delta = np.ones([n_simulations, n_steps - 1]) * dt\n",
    "stock = np.ones([n_simulations, n_steps]) * S_0\n",
    "firm = np.ones([n_simulations, n_steps]) * V_0\n",
    "continuousRates = np.ones([n_simulations, n_steps - 1])\n",
    "\n",
    "volatilities_s, volatilities_v = [], []"
   ]
  },
  {
   "cell_type": "markdown",
   "metadata": {
    "colab_type": "text",
    "id": "0GDl8EPm2ZLM"
   },
   "source": [
    "We also need to define a method to reshape our data structure"
   ]
  },
  {
   "cell_type": "code",
   "execution_count": 11,
   "metadata": {
    "colab": {},
    "colab_type": "code",
    "id": "CtbUIKi72ZLO"
   },
   "outputs": [],
   "source": [
    "def reshape(input):\n",
    "    return np.array([input, ]).transpose()"
   ]
  },
  {
   "cell_type": "markdown",
   "metadata": {
    "colab_type": "text",
    "id": "8vM4kCvU2ZLc"
   },
   "source": [
    "Then, we go to the actual simulation."
   ]
  },
  {
   "cell_type": "code",
   "execution_count": 12,
   "metadata": {
    "colab": {
     "base_uri": "https://localhost:8080/",
     "height": 1000
    },
    "colab_type": "code",
    "id": "_d50ysp82ZLg",
    "outputId": "5c1fdf23-80f6-4575-b4a5-abd23cd1a8ae"
   },
   "outputs": [
    {
     "name": "stdout",
     "output_type": "stream",
     "text": [
      "Simulating for 100000 simulations\n",
      "Volatility at time 1: [0.09486833]\n",
      "Forward Rates at time 1: [0.07676728 0.07724958 0.07647634 0.07695497 0.07616227 0.07663696\n",
      " 0.07711761 0.07500173 0.07677121 0.07593608 0.07508251 0.07554379]\n",
      "First LIBOR rate at time 1: 0.07676728251845703\n",
      "Continuous rate at time 1: [1.00639727]\n",
      "Stock Price at time 1: [101.22897]\n",
      "Firm Value at time 1: [205.41578858]\n",
      "\n",
      "\n",
      "Volatility at time 2: [0.09457907]\n",
      "Forward Rates at time 2: [0.07697683 0.07620667 0.07668398 0.07589443 0.07636781 0.07684714\n",
      " 0.07473903 0.07650267 0.07567081 0.07482057 0.07528059]\n",
      "First LIBOR rate at time 2: 0.076976826376415\n",
      "Continuous rate at time 2: [1.00641474]\n",
      "Stock Price at time 2: [99.47883195]\n",
      "Firm Value at time 2: [214.23894593]\n",
      "\n",
      "\n",
      "Volatility at time 3: [0.09499234]\n",
      "Forward Rates at time 3: [0.07267541 0.07313094 0.0723783  0.07283009 0.07328755 0.07127742\n",
      " 0.07295971 0.07216671 0.07135617 0.07179522]\n",
      "First LIBOR rate at time 3: 0.07267540636653107\n",
      "Continuous rate at time 3: [1.00605628]\n",
      "Stock Price at time 3: [98.89900214]\n",
      "Firm Value at time 3: [225.02838158]\n",
      "\n",
      "\n",
      "Volatility at time 4: [0.09513127]\n",
      "Forward Rates at time 4: [0.07310435 0.07235231 0.07280428 0.07326191 0.07125279 0.07293484\n",
      " 0.07214243 0.07133249 0.07177171]\n",
      "First LIBOR rate at time 4: 0.07310435406344368\n",
      "Continuous rate at time 4: [1.00609203]\n",
      "Stock Price at time 4: [103.89266614]\n",
      "Firm Value at time 4: [243.1395585]\n",
      "\n",
      "\n",
      "Volatility at time 5: [0.09396693]\n",
      "Forward Rates at time 5: [0.07478263 0.07525011 0.07572346 0.07364716 0.07538608 0.07456737\n",
      " 0.07373052 0.07418484]\n",
      "First LIBOR rate at time 5: 0.07478262781054137\n",
      "Continuous rate at time 5: [1.00623189]\n",
      "Stock Price at time 5: [101.93304335]\n",
      "Firm Value at time 5: [247.68106575]\n",
      "\n",
      "\n",
      "Volatility at time 6: [0.09441533]\n",
      "Forward Rates at time 6: [0.07782266 0.07831257 0.07616563 0.07796438 0.07711803 0.07625291\n",
      " 0.07672312]\n",
      "First LIBOR rate at time 6: 0.07782266288018816\n",
      "Continuous rate at time 6: [1.00648522]\n",
      "Stock Price at time 6: [94.94039643]\n",
      "Firm Value at time 6: [240.6342749]\n",
      "\n",
      "\n",
      "Volatility at time 7: [0.09610777]\n",
      "Forward Rates at time 7: [0.07476693 0.07271754 0.07443522 0.07362753 0.07280191 0.0732512 ]\n",
      "First LIBOR rate at time 7: 0.07476692937732346\n",
      "Continuous rate at time 7: [1.00623058]\n",
      "Stock Price at time 7: [97.47663101]\n",
      "Firm Value at time 7: [238.96649154]\n",
      "\n",
      "\n",
      "Volatility at time 8: [0.09547642]\n",
      "Forward Rates at time 8: [0.07166482 0.07335797 0.07256231 0.07174896 0.07219208]\n",
      "First LIBOR rate at time 8: 0.07166482058608306\n",
      "Continuous rate at time 8: [1.00597207]\n",
      "Stock Price at time 8: [95.29337762]\n",
      "Firm Value at time 8: [238.75955881]\n",
      "\n",
      "\n",
      "Volatility at time 9: [0.09601865]\n",
      "Forward Rates at time 9: [0.07445133 0.07364415 0.07281901 0.07326908]\n",
      "First LIBOR rate at time 9: 0.07445132549581225\n",
      "Continuous rate at time 9: [1.00620428]\n",
      "Stock Price at time 9: [94.0052372]\n",
      "Firm Value at time 9: [237.58802933]\n",
      "\n",
      "\n",
      "Volatility at time 10: [0.0963459]\n",
      "Forward Rates at time 10: [0.07161628 0.07081419 0.07125219]\n",
      "First LIBOR rate at time 10: 0.07161627565613765\n",
      "Continuous rate at time 10: [1.00596802]\n",
      "Stock Price at time 10: [95.92506785]\n",
      "Firm Value at time 10: [233.88558618]\n",
      "\n",
      "\n",
      "Volatility at time 11: [0.09586018]\n",
      "Forward Rates at time 11: [0.07196593 0.07241139]\n",
      "First LIBOR rate at time 11: 0.07196593193412107\n",
      "Continuous rate at time 11: [1.00599716]\n",
      "Stock Price at time 11: [91.05858367]\n",
      "Firm Value at time 11: [228.5070119]\n",
      "\n",
      "\n",
      "Volatility at time 12: [0.09711605]\n",
      "Forward Rates at time 12: [0.07534695]\n",
      "First LIBOR rate at time 12: 0.075346952072027\n",
      "Continuous rate at time 12: [1.00627891]\n",
      "Stock Price at time 12: [88.17344629]\n",
      "Firm Value at time 12: [222.32631835]\n",
      "\n",
      "\n"
     ]
    }
   ],
   "source": [
    "print(\"Simulating for {} simulations\".format(n_simulations))\n",
    "\n",
    "for i in range(0, 12):\n",
    "    #each iteration is a point in time, estimating for 12 forward rates\n",
    "    forward_Z = norm.rvs(size = [n_simulations, 1])\n",
    "    stock_Z = norm.rvs(size = [n_simulations, 1])\n",
    "    firm_Z = norm.rvs(size = [n_simulations, 1])\n",
    "    \n",
    "    S_t_minus_one = stock[:, i]\n",
    "    V_t_minus_one = firm[:, i]\n",
    "    forward_rates_t = forward_rates[:, i:]\n",
    "    delta_t = delta[:, i:]\n",
    "    \n",
    "    sigma_v_new = getVolatility(V_t_minus_one, gamma, sigma_v)\n",
    "    volatilities_v.append(sigma_v_new)\n",
    "\n",
    "    sigma_s_new = getVolatility(S_t_minus_one, gamma, sigma_s)\n",
    "    volatilities_s.append(sigma_s_new)\n",
    "\n",
    "    #duplicate the sigma across more columns as the same sigma will be used to calculate the other forward rates \n",
    "    sigma_s_new_transposed = np.array([sigma_s_new,] * (n_steps - (i + 1))).transpose() \n",
    "    \n",
    "    mu_initial = getMu(forward_rates_t, delta_t, sigma_s_new_transposed, sigma_s_new_transposed)\n",
    "    forward_temp = getInitialNextForwardEstimate(forward_rates_t, mu_initial, sigma_s_new_transposed, delta_t, forward_Z)\n",
    "    mu_next = getMu(forward_temp, delta_t, sigma_s_new_transposed, sigma_s_new_transposed)\n",
    "    final_forwards = getFinalNextForward(forward_rates_t, mu_initial, mu_next, sigma_s_new_transposed, delta_t, forward_Z)\n",
    "    forward_rates[:,i:] = final_forwards\n",
    "    \n",
    "    first_libor_rate = forward_rates[:,i]\n",
    "    continuous_rate = liborToContinuousRate(first_libor_rate, dt)\n",
    "    continuous_rate = reshape(continuous_rate)\n",
    "    continuousRates[:, i] = continuous_rate[:,0]\n",
    "    \n",
    "    sigma_s_new = reshape(sigma_s_new)\n",
    "    S_t_minus_one = reshape(S_t_minus_one)\n",
    "    V_t_minus_one = reshape(V_t_minus_one)\n",
    "    S_t = getSharePrice(S_t_minus_one, continuous_rate, sigma_s_new, dt, stock_Z)\n",
    "    V_t = getSharePrice(V_t_minus_one, continuous_rate, sigma_s_new, dt, firm_Z)\n",
    "    stock[:, i + 1] = S_t[:,0]\n",
    "    firm[:, i + 1] = V_t[:,0]\n",
    "    \n",
    "    print(\"Volatility at time \" + str(i+1) + \": \" + str(sigma_s_new[0]))\n",
    "    print(\"Forward Rates at time \" + str(i+1) + \": \" + str(final_forwards[0]))\n",
    "    print(\"First LIBOR rate at time \" + str(i+1) + \": \" + str(first_libor_rate[0]))\n",
    "    print(\"Continuous rate at time \" + str(i+1) + \": \" + str(continuous_rate[0]))\n",
    "    print(\"Stock Price at time \" + str(i+1) + \": \" + str(S_t[0]))\n",
    "    print(\"Firm Value at time \" + str(i+1) + \": \" + str(V_t[0]))\n",
    "    print(\"\\n\")"
   ]
  },
  {
   "cell_type": "markdown",
   "metadata": {
    "colab_type": "text",
    "id": "Pb1JoEIp5Gk3"
   },
   "source": [
    "# Question 2"
   ]
  },
  {
   "cell_type": "markdown",
   "metadata": {
    "colab_type": "text",
    "id": "9gwHZclGGNbm"
   },
   "source": [
    "According to the question, the share price evolves according to the following recursive formula\n",
    "\n",
    "$S_{t_{i+1}} = S_{t_i} e^{r-\\frac{\\sigma^2 (t_i,t_{i+1})}{2}(t_{i+1}-t_i)+\\sigma(t_i, t_{i+1})\\sqrt{t_{i+1}-t_i}Z}$\n",
    "\n",
    "and the local volatility functions follow the following formula\n",
    "\n",
    "$\\sigma_s(t_i,t_{i+1}) = \\sigma(S_{ti})^{\\gamma-1}$\n",
    "and\n",
    "$\\sigma_v(t_i,t_{i+1}) = \\sigma(V_{ti})^{\\gamma-1}$\n",
    "\n",
    "where ${\\gamma}$ = 0.75 and $\\sigma$ = 0.3"
   ]
  },
  {
   "cell_type": "code",
   "execution_count": 13,
   "metadata": {
    "colab": {},
    "colab_type": "code",
    "id": "P2l0ehGfDEsa"
   },
   "outputs": [],
   "source": [
    "def european_call_payoff(S_T, K, r):\n",
    "    \"\"\"\n",
    "    This function takes in the following parameters to determine the price of the European call option:\n",
    "      S_T is the price of the underlying at expiry.\n",
    "      K is the strike price\n",
    "      r is the discount rate \n",
    "    \"\"\"\n",
    "    return r * np.maximum(0, S_T - K) #payoff for call option\n",
    "\n",
    "def euro_uao_call(barrier, paths, K, discount_factors):\n",
    "    \"\"\"\n",
    "    This functions takes in the following parameters to calculate the value of a European Up-And-Out call option:\n",
    "      barrier is the barrier level,\n",
    "      paths is a list of share price paths,\n",
    "      K is the strike price\n",
    "      r is the discount rate \n",
    "    \"\"\"\n",
    "    prices = []\n",
    "    for i in range(0, len(paths)):\n",
    "            path = paths[i]\n",
    "            discount_factor = discount_factors[i]\n",
    "    \n",
    "            if np.max(path) > barrier: # knocked out\n",
    "                    prices.append(0)\n",
    "            else:\n",
    "                    payoff = european_call_payoff(path[-1], K, discount_factor)\n",
    "                    prices.append(payoff)\n",
    "    return np.mean(prices)"
   ]
  },
  {
   "cell_type": "code",
   "execution_count": 14,
   "metadata": {
    "colab": {},
    "colab_type": "code",
    "id": "Hk9A5z6l1TFr"
   },
   "outputs": [],
   "source": [
    "# We will now calculate the value of the option with no default risk and with counterparty default risk using values calculated in part 1\n",
    "\n",
    "# Using the simulated interest rates from LFMM, we calculate the corresponding interest rate at time t = 0\n",
    "one_year_rates = np.prod(continuousRates, axis=1)\n",
    "one_year_discount_factors = np.reciprocal(one_year_rates)\n",
    "\n",
    "# Calculate the European up-and-out call option value \n",
    "call_val = euro_uao_call(L, stock, K, one_year_discount_factors)\n",
    "\n",
    "#Get the terminal firm value\n",
    "term_firm = firm[:, -1]\n",
    "\n",
    "# CVA: \n",
    "# To calculate the amount lost, we apply the formula [np.exp(-T/frequency*r) * (1-recovery_rate)*(term_firm_val < debt) * call_val] for each simulated terminal firm value in the monte carlo simulation. \n",
    "amount_lost = [one_year_discount_factors * (1-recovery_rate)*(term_firm < debt) * call_val]\n",
    "cva = np.mean(amount_lost)\n",
    "\n",
    "# Calculate the adjusted value for the European up-and-out call option\n",
    "adjusted_opt_val = call_val - cva"
   ]
  },
  {
   "cell_type": "code",
   "execution_count": 16,
   "metadata": {
    "colab": {
     "base_uri": "https://localhost:8080/",
     "height": 141
    },
    "colab_type": "code",
    "id": "FA_kvLfg1zPR",
    "outputId": "4420dfff-dbe1-4f17-b71d-c4a1544ae78c"
   },
   "outputs": [
    {
     "name": "stdout",
     "output_type": "stream",
     "text": [
      "Number of simulations: 100000\n",
      "Average One-year discount factor based on LFMM: 0.9284962778774899\n",
      "\n",
      "\n",
      "The mean value of the call option with no default risk based on 100000 simulations is 8.275395800833445\n",
      "The mean value of the CVA based on 100000 simulations is 0.08800059126730708\n",
      "The mean adjusted value of the  call option based on 100000 simulations is 8.187395209566139\n"
     ]
    }
   ],
   "source": [
    "# Print values for simulation\n",
    "\n",
    "print(\"Number of simulations: {}\".format(n_simulations))\n",
    "print(\"Average One-year discount factor based on LFMM: {}\".format(np.mean(one_year_discount_factors)))\n",
    "\n",
    "print('\\n')\n",
    "\n",
    "print(\"The mean value of the call option with no default risk based on {} simulations is {}\".format(n_simulations, np.mean(call_val)))\n",
    "print(\"The mean value of the CVA based on {} simulations is {}\".format(n_simulations, cva))\n",
    "print(\"The mean adjusted value of the  call option based on {} simulations is {}\".format(n_simulations, adjusted_opt_val))"
   ]
  },
  {
   "cell_type": "code",
   "execution_count": null,
   "metadata": {
    "colab": {},
    "colab_type": "code",
    "id": "I3_xnPTPvYA3"
   },
   "outputs": [],
   "source": []
  }
 ],
 "metadata": {
  "colab": {
   "collapsed_sections": [],
   "name": "M7_v3.ipynb",
   "provenance": []
  },
  "kernelspec": {
   "display_name": "Python 3",
   "language": "python",
   "name": "python3"
  },
  "language_info": {
   "codemirror_mode": {
    "name": "ipython",
    "version": 3
   },
   "file_extension": ".py",
   "mimetype": "text/x-python",
   "name": "python",
   "nbconvert_exporter": "python",
   "pygments_lexer": "ipython3",
   "version": "3.7.4"
  }
 },
 "nbformat": 4,
 "nbformat_minor": 1
}
