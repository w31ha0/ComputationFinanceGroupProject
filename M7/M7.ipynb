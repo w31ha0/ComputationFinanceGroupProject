{
  "nbformat": 4,
  "nbformat_minor": 0,
  "metadata": {
    "kernelspec": {
      "display_name": "Python 3",
      "language": "python",
      "name": "python3"
    },
    "language_info": {
      "codemirror_mode": {
        "name": "ipython",
        "version": 3
      },
      "file_extension": ".py",
      "mimetype": "text/x-python",
      "name": "python",
      "nbconvert_exporter": "python",
      "pygments_lexer": "ipython3",
      "version": "3.7.4"
    },
    "colab": {
      "name": "M7.ipynb",
      "provenance": [],
      "collapsed_sections": []
    }
  },
  "cells": [
    {
      "cell_type": "markdown",
      "metadata": {
        "id": "UI-fXcylDTYt",
        "colab_type": "text"
      },
      "source": [
        "# Simulate Asset Price Evolutions and Reprice Risky up-and-out Call Option"
      ]
    },
    {
      "cell_type": "markdown",
      "metadata": {
        "id": "w0IBHeo8DQPN",
        "colab_type": "text"
      },
      "source": [
        "Group 6-A \n",
        "\n",
        "Members:\n",
        "\n",
        "1. Md. Shafil Hosain (shafil430@yahoo.com)\n",
        "\n",
        "2. Si Jie Lim (limsijie93@gmail.com)\n",
        "\n",
        "3. Quang Vinh Dang (dqvinh87@gmail.com)\n",
        "\n",
        "4. Wei Hao Lew (lewweihao93@hotmail.com)\n",
        "\n",
        "5. Philip ZF Chen (philipchen619@gmail.com)"
      ]
    },
    {
      "cell_type": "markdown",
      "metadata": {
        "id": "Nbu_ImZa5JGN",
        "colab_type": "text"
      },
      "source": [
        "# Question 1"
      ]
    },
    {
      "cell_type": "markdown",
      "metadata": {
        "id": "3uTsutxt2ZIT",
        "colab_type": "text"
      },
      "source": [
        "In this project, we will be using the LIBOR Forward Market Model(LFMM) to simulate the forward rates.\n",
        "\n",
        "First, we import the necessary libraries needed for the code."
      ]
    },
    {
      "cell_type": "code",
      "metadata": {
        "id": "fmvbsxrQ2ZIg",
        "colab_type": "code",
        "colab": {}
      },
      "source": [
        "import numpy as np\n",
        "from scipy.stats import norm\n",
        "import matplotlib.pyplot as plt\n",
        "import random\n",
        "from tqdm import tqdm\n",
        "import functools\n",
        "import math"
      ],
      "execution_count": 0,
      "outputs": []
    },
    {
      "cell_type": "markdown",
      "metadata": {
        "id": "Q5vEyvKH2ZIp",
        "colab_type": "text"
      },
      "source": [
        "Next, we define the list of parameter values needed."
      ]
    },
    {
      "cell_type": "code",
      "metadata": {
        "id": "ZM3mfrKb2ZIs",
        "colab_type": "code",
        "colab": {}
      },
      "source": [
        "L = 150                 #barrier limit\n",
        "S_0 = 100               #starting share value\n",
        "K = 100                 #strike price\n",
        "V_0 = 200               #starting firm value\n",
        "D = 175\n",
        "gamma = 0.75\n",
        "debt = 175              #firm debt\n",
        "sigma_s = 0.30          #share volatility\n",
        "sigma_v = 0.25          #firm value volatility\n",
        "correlation = 0.2       #correlation between share and firm\n",
        "recovery_rate = 0.25    #firm recovery rate\n",
        "n_simulations = 100000\n",
        "dt = 1/12               #expiry time of option / monthly simulations for a year\n",
        "frequency = 12          #monthly simulations for a year\n",
        "T = 1                   #expiry time of option"
      ],
      "execution_count": 0,
      "outputs": []
    },
    {
      "cell_type": "markdown",
      "metadata": {
        "id": "ZLfN-VGC2ZIz",
        "colab_type": "text"
      },
      "source": [
        "## Calibration\n",
        "\n",
        "We are first going to calibrate the LFMM using the observed zero coupon bond prices. \n",
        "\n",
        "The jth forward rate at time t can be defined as\n",
        "\n",
        "$F_j(t) = \\frac{P_j(t)-P_{j+1}(t)}{\\delta_t P_{j+1}(t)}$\n",
        "\n",
        "We are going to use this formula to calibrate and obtain the initial forward rates, which will be used to simulate future rates as in the LFMM model."
      ]
    },
    {
      "cell_type": "code",
      "metadata": {
        "id": "WCz6dtXx2ZI1",
        "colab_type": "code",
        "colab": {}
      },
      "source": [
        "def bondPricesToInitialForwardRates(bond_prices, n_steps):\n",
        "    return np.ones([n_simulations, n_steps - 1]) * (bond_prices[:-1] - bond_prices[1:])/(dt * bond_prices[1:])"
      ],
      "execution_count": 0,
      "outputs": []
    },
    {
      "cell_type": "code",
      "metadata": {
        "id": "AXMPJGDk2ZI7",
        "colab_type": "code",
        "colab": {}
      },
      "source": [
        "bond_prices = np.array([100, 99.38, 98.76, 98.15, 97.54, 96.94, 96.34, 95.74, 95.16, 94.57, 93.99, 93.42, 92.85])\n",
        "n_steps = len(bond_prices) \n",
        "\n",
        "forward_rates = bondPricesToInitialForwardRates(bond_prices, n_steps)"
      ],
      "execution_count": 0,
      "outputs": []
    },
    {
      "cell_type": "markdown",
      "metadata": {
        "id": "dtis61nV2ZJG",
        "colab_type": "text"
      },
      "source": [
        "## Interest Rate - LIBOR Forward Market Model (LFMM)\n",
        "\n",
        "The LFMM says that the forward rate evolves according to the following formula\n",
        "\n",
        "$F_j(t_i) = F_j(t_{i-1})exp[(\\mu_j(t_{i-1})-\\frac{1}{2}\\sigma^2)\\delta_{i-1} + \\sigma_j\\sqrt{\\delta_{i-1}}Z_i]$\n",
        "\n",
        "where\n",
        "\n",
        "$\\mu_j(t_{i-1}) \\ \\sum_{k=i}^j \\frac{\\delta_k F_j(t_{i-1})\\sigma_k\\sigma_j}{1+\\delta_kF_j(t_{i-1})}$\n",
        "\n",
        "which can be written as"
      ]
    },
    {
      "cell_type": "code",
      "metadata": {
        "id": "kbBj1p5k2ZJI",
        "colab_type": "code",
        "colab": {}
      },
      "source": [
        "def getMu(forward_rates, delta, sigma_j, sigma_k):\n",
        "    return np.cumsum(delta * forward_rates * sigma_j * sigma_k/(1 + delta * forward_rates), axis=1)\n",
        "\n",
        "def getInitialNextForwardEstimate(forward_rates, mu, sigma, delta, Z):\n",
        "    return forward_rates * np.exp((mu - (sigma**2)/2) * delta + sigma * np.sqrt(delta) * Z)\n"
      ],
      "execution_count": 0,
      "outputs": []
    },
    {
      "cell_type": "markdown",
      "metadata": {
        "id": "5A208AAr2ZJP",
        "colab_type": "text"
      },
      "source": [
        "However, to improve the accuracy, we will use the Predictor-Corrector method which involves estimating the next period's drift and then taking the average. Hence, the final estimate of the forward rate is given by:\n",
        "\n",
        "$F_j(t_i) = F_j(t_{i-1})exp[\\frac{1}{2}(\\mu_j(t_{i-1})+\\mu_j(t_i)-\\sigma^2)\\delta_{i-1} + \\sigma_j\\sqrt{\\delta_{i-1}}Z_i]$\n",
        "\n",
        "This final estimate is written as:"
      ]
    },
    {
      "cell_type": "code",
      "metadata": {
        "id": "GrxODXt12ZJT",
        "colab_type": "code",
        "colab": {}
      },
      "source": [
        "def getFinalNextForward(forward_rates, mu1, mu2, sigma, delta, Z):\n",
        "    return forward_rates * np.exp(0.5 * (mu1 + mu2 - sigma**2) * delta + sigma * np.sqrt(delta) * Z)"
      ],
      "execution_count": 0,
      "outputs": []
    },
    {
      "cell_type": "markdown",
      "metadata": {
        "id": "S_qtRd082ZJc",
        "colab_type": "text"
      },
      "source": [
        "Furthermore, the continuously compounded interest rate can be derived from the LIBOR forward rate as follows:\n",
        "\n",
        "$e^{r_{ti}(t_{i+1}-t_i)} = 1 + L(t_i, t_{i+1})(t_{i+1} - t_i)$"
      ]
    },
    {
      "cell_type": "code",
      "metadata": {
        "id": "vcw15u3e2ZJd",
        "colab_type": "code",
        "colab": {}
      },
      "source": [
        "def liborToContinuousRate(libor, dt):\n",
        "    return 1 + (libor * dt)"
      ],
      "execution_count": 0,
      "outputs": []
    },
    {
      "cell_type": "markdown",
      "metadata": {
        "id": "OYuz0H8X2ZJw",
        "colab_type": "text"
      },
      "source": [
        "## Volatility - CEV Model\n",
        "\n",
        "We will be using the CEV model to represent volatility, which is given by\n",
        "\n",
        "$\\sigma(t_i, t_{i+1}) = \\sigma(S_{it})^{\\gamma-1}$"
      ]
    },
    {
      "cell_type": "code",
      "metadata": {
        "id": "Db4X4EDa2ZKH",
        "colab_type": "code",
        "colab": {}
      },
      "source": [
        "def getVolatility(S_t, gamma, sigma):\n",
        "    return sigma * S_t**(gamma - 1)"
      ],
      "execution_count": 0,
      "outputs": []
    },
    {
      "cell_type": "markdown",
      "metadata": {
        "id": "HPBMrrqi2ZKa",
        "colab_type": "text"
      },
      "source": [
        "## Stock Price Model\n",
        "\n",
        "We assume the following lognormal evolution of stock price/firm value:\n",
        "\n",
        "$S_{t_{i+1}} = S_{t_i}exp[(r - \\frac{\\sigma^2(t_i, t_{i+1})}{2})(t_{i+1}-t_i)+\\sigma(t_i, t_{i+1})\\sqrt{t_{i+1}-t_i}Z]$\n",
        "\n",
        "which can be re-written as\n",
        "\n",
        "$S_{t_{i+1}} = S_{t_i}exp[r(t_{i+1}-t_i)]exp[(- \\frac{\\sigma^2(t_i, t_{i+1})}{2})(t_{i+1}-t_i)+\\sigma(t_i, t_{i+1})\\sqrt{t_{i+1}-t_i}Z]$"
      ]
    },
    {
      "cell_type": "code",
      "metadata": {
        "id": "F5Dq9k1R2ZKd",
        "colab_type": "code",
        "colab": {}
      },
      "source": [
        "def getSharePrice(S_t, continuous_rate, sigma, dt, Z):\n",
        "    return S_t * continuous_rate * np.exp(-sigma**2/2 * dt + sigma * np.sqrt(dt) * Z)"
      ],
      "execution_count": 0,
      "outputs": []
    },
    {
      "cell_type": "markdown",
      "metadata": {
        "id": "sT7YbD0D2ZKu",
        "colab_type": "text"
      },
      "source": [
        "## Simulation"
      ]
    },
    {
      "cell_type": "markdown",
      "metadata": {
        "id": "BY7tq_7e2ZKy",
        "colab_type": "text"
      },
      "source": [
        "First, we initialise the stock matrix and delta matrix."
      ]
    },
    {
      "cell_type": "code",
      "metadata": {
        "id": "XCvhEMrz2ZK2",
        "colab_type": "code",
        "colab": {}
      },
      "source": [
        "delta = np.ones([n_simulations, n_steps - 1]) * dt\n",
        "stock = np.ones([n_simulations, n_steps]) * S_0"
      ],
      "execution_count": 0,
      "outputs": []
    },
    {
      "cell_type": "markdown",
      "metadata": {
        "id": "0GDl8EPm2ZLM",
        "colab_type": "text"
      },
      "source": [
        "We also need to define a method to reshape our data structure"
      ]
    },
    {
      "cell_type": "code",
      "metadata": {
        "id": "CtbUIKi72ZLO",
        "colab_type": "code",
        "colab": {}
      },
      "source": [
        "def reshape(input):\n",
        "    return np.array([input, ]).transpose()"
      ],
      "execution_count": 0,
      "outputs": []
    },
    {
      "cell_type": "markdown",
      "metadata": {
        "id": "8vM4kCvU2ZLc",
        "colab_type": "text"
      },
      "source": [
        "Then, we go to the actual simulation."
      ]
    },
    {
      "cell_type": "code",
      "metadata": {
        "id": "_d50ysp82ZLg",
        "colab_type": "code",
        "outputId": "3b85886e-f211-4c01-98a3-ac3c8f88bc14",
        "colab": {
          "base_uri": "https://localhost:8080/",
          "height": 1000
        }
      },
      "source": [
        "print(\"Values for 1st Simulation only\\n\")\n",
        "\n",
        "for i in range(0, 12):\n",
        "    #each iteration is a point in time, estimating for 12 forward rates\n",
        "    forward_Z = norm.rvs(size = [n_simulations, 1])\n",
        "    stock_Z = norm.rvs(size = [n_simulations, 1])\n",
        "    \n",
        "    S_t_minus_one = stock[:, i]\n",
        "    forward_rates_t = forward_rates[:, i:]\n",
        "    delta_t = delta[:, i:]\n",
        "    \n",
        "    sigma_new = getVolatility(S_t_minus_one, gamma, sigma_s)\n",
        "    #duplicate the sigma across more columns as the same sigma will be used to calculate the other forward rates \n",
        "    sigma_new_transposed = np.array([sigma_new,] * (n_steps - (i + 1))).transpose() \n",
        "    \n",
        "    mu_initial = getMu(forward_rates_t, delta_t, sigma_new_transposed, sigma_new_transposed)\n",
        "    forward_temp = getInitialNextForwardEstimate(forward_rates_t, mu_initial, sigma_new_transposed, delta_t, forward_Z)\n",
        "    mu_next = getMu(forward_temp, delta_t, sigma_new_transposed, sigma_new_transposed)\n",
        "    final_forwards = getFinalNextForward(forward_rates_t, mu_initial, mu_next, sigma_new_transposed, delta_t, forward_Z)\n",
        "    forward_rates[:,i:] = final_forwards\n",
        "    \n",
        "    first_libor_rate = forward_rates[:,i]\n",
        "    continuous_rate = liborToContinuousRate(first_libor_rate, dt)\n",
        "    \n",
        "    continuous_rate = reshape(continuous_rate)\n",
        "    sigma_new = reshape(sigma_new)\n",
        "    S_t_minus_one = reshape(S_t_minus_one)\n",
        "    S_t = getSharePrice(S_t_minus_one, continuous_rate, sigma_new, dt, stock_Z)\n",
        "    stock[:, i + 1] = S_t[:,0]\n",
        "    \n",
        "    print(\"Volatility at time \" + str(i+1) + \": \" + str(sigma_new[0]))\n",
        "    print(\"Forward Rates at time \" + str(i+1) + \": \" + str(final_forwards[0]))\n",
        "    print(\"First LIBOR rate at time \" + str(i+1) + \": \" + str(first_libor_rate[0]))\n",
        "    print(\"Continuous rate at time \" + str(i+1) + \": \" + str(continuous_rate[0]))\n",
        "    print(\"Stock Price at time \" + str(i+1) + \": \" + str(S_t[0]))\n",
        "    print(\"\\n\")"
      ],
      "execution_count": 208,
      "outputs": [
        {
          "output_type": "stream",
          "text": [
            "Values for 1st Simulation only\n",
            "\n",
            "Volatility at time 1: [0.09486833]\n",
            "Forward Rates at time 1: [0.07600117 0.07647865 0.07571313 0.07618698 0.07540219 0.07587214\n",
            " 0.07634799 0.07425323 0.07600504 0.07517824 0.07433319 0.07478987]\n",
            "First LIBOR rate at time 1: 0.07600116753891673\n",
            "Continuous rate at time 1: [1.00633343]\n",
            "Stock Price at time 1: [100.8828245]\n",
            "\n",
            "\n",
            "Volatility at time 2: [0.0946601]\n",
            "Forward Rates at time 2: [0.07612157 0.07535997 0.07583197 0.07505118 0.0755193  0.0759933\n",
            " 0.0739086  0.07565265 0.07483002 0.07398923 0.07444413]\n",
            "First LIBOR rate at time 2: 0.07612156924293807\n",
            "Continuous rate at time 2: [1.00634346]\n",
            "Stock Price at time 2: [102.93467877]\n",
            "\n",
            "\n",
            "Volatility at time 3: [0.0941848]\n",
            "Forward Rates at time 3: [0.07595445 0.07643053 0.07564392 0.0761161  0.07659419 0.07449335\n",
            " 0.07625155 0.07542276 0.07457565 0.0750345 ]\n",
            "First LIBOR rate at time 3: 0.07595444512580833\n",
            "Continuous rate at time 3: [1.00632954]\n",
            "Stock Price at time 3: [104.08654403]\n",
            "\n",
            "\n",
            "Volatility at time 4: [0.09392314]\n",
            "Forward Rates at time 4: [0.07723988 0.0764453  0.07692283 0.07740636 0.07528359 0.0770608\n",
            " 0.07622356 0.0753678  0.07583187]\n",
            "First LIBOR rate at time 4: 0.07723988125687979\n",
            "Continuous rate at time 4: [1.00643666]\n",
            "Stock Price at time 4: [105.01120098]\n",
            "\n",
            "\n",
            "Volatility at time 5: [0.0937157]\n",
            "Forward Rates at time 5: [0.07766952 0.07815507 0.07864671 0.07649027 0.07829634 0.07744604\n",
            " 0.0765769  0.07704878]\n",
            "First LIBOR rate at time 5: 0.07766951945155785\n",
            "Continuous rate at time 5: [1.00647246]\n",
            "Stock Price at time 5: [101.36193808]\n",
            "\n",
            "\n",
            "Volatility at time 6: [0.09454804]\n",
            "Forward Rates at time 6: [0.07807878 0.07857033 0.07641635 0.07822104 0.07737193 0.07650399\n",
            " 0.07697578]\n",
            "First LIBOR rate at time 6: 0.0780787828322139\n",
            "Continuous rate at time 6: [1.00650657]\n",
            "Stock Price at time 6: [98.47373195]\n",
            "\n",
            "\n",
            "Volatility at time 7: [0.09523381]\n",
            "Forward Rates at time 7: [0.08098697 0.07876712 0.08062773 0.07975289 0.07885862 0.07934532]\n",
            "First LIBOR rate at time 7: 0.08098697177454776\n",
            "Continuous rate at time 7: [1.00674891]\n",
            "Stock Price at time 7: [98.47437037]\n",
            "\n",
            "\n",
            "Volatility at time 8: [0.09523365]\n",
            "Forward Rates at time 8: [0.07950887 0.08138742 0.08050474 0.07960243 0.08009412]\n",
            "First LIBOR rate at time 8: 0.07950887150067071\n",
            "Continuous rate at time 8: [1.00662574]\n",
            "Stock Price at time 8: [96.89060093]\n",
            "\n",
            "\n",
            "Volatility at time 9: [0.09562046]\n",
            "Forward Rates at time 9: [0.08288237 0.08198389 0.08106542 0.08156656]\n",
            "First LIBOR rate at time 9: 0.08288236979621288\n",
            "Continuous rate at time 9: [1.00690686]\n",
            "Stock Price at time 9: [101.07068266]\n",
            "\n",
            "\n",
            "Volatility at time 10: [0.09461608]\n",
            "Forward Rates at time 10: [0.07888441 0.07800105 0.07848363]\n",
            "First LIBOR rate at time 10: 0.07888441293864583\n",
            "Continuous rate at time 10: [1.0065737]\n",
            "Stock Price at time 10: [100.21518693]\n",
            "\n",
            "\n",
            "Volatility at time 11: [0.09481736]\n",
            "Forward Rates at time 11: [0.07746351 0.07794314]\n",
            "First LIBOR rate at time 11: 0.07746350528615427\n",
            "Continuous rate at time 11: [1.00645529]\n",
            "Stock Price at time 11: [101.47576309]\n",
            "\n",
            "\n",
            "Volatility at time 12: [0.09452151]\n",
            "Forward Rates at time 12: [0.07805055]\n",
            "First LIBOR rate at time 12: 0.07805055104600259\n",
            "Continuous rate at time 12: [1.00650421]\n",
            "Stock Price at time 12: [98.12608267]\n",
            "\n",
            "\n"
          ],
          "name": "stdout"
        }
      ]
    },
    {
      "cell_type": "markdown",
      "metadata": {
        "id": "Pb1JoEIp5Gk3",
        "colab_type": "text"
      },
      "source": [
        "# Question 2"
      ]
    },
    {
      "cell_type": "code",
      "metadata": {
        "id": "Xh9a9jrc79id",
        "colab_type": "code",
        "colab": {}
      },
      "source": [
        "def simulateLIBOR(n):\n",
        "\n",
        "  continuous_rates = np.zeros(n)\n",
        "\n",
        "  for i in range(0, n):\n",
        "    forward_Z = norm.rvs(size = [n_simulations, 1])\n",
        "    stock_Z = norm.rvs(size = [n_simulations, 1])\n",
        "    \n",
        "    S_t_minus_one = stock[:, i]\n",
        "    forward_rates_t = forward_rates[:, i:]\n",
        "    delta_t = delta[:, i:]\n",
        "    \n",
        "    sigma_new = getVolatility(S_t_minus_one, gamma, sigma_s)\n",
        "    #duplicate the sigma across more columns as the same sigma will be used to calculate the other forward rates \n",
        "    sigma_new_transposed = np.array([sigma_new,] * (n_steps - (i + 1))).transpose() \n",
        "    \n",
        "    mu_initial = getMu(forward_rates_t, delta_t, sigma_new_transposed, sigma_new_transposed)\n",
        "    forward_temp = getInitialNextForwardEstimate(forward_rates_t, mu_initial, sigma_new_transposed, delta_t, forward_Z)\n",
        "    mu_next = getMu(forward_temp, delta_t, sigma_new_transposed, sigma_new_transposed)\n",
        "    final_forwards = getFinalNextForward(forward_rates_t, mu_initial, mu_next, sigma_new_transposed, delta_t, forward_Z)\n",
        "    forward_rates[:,i:] = final_forwards\n",
        "    \n",
        "    first_libor_rate = forward_rates[:,i]\n",
        "    continuous_rate = liborToContinuousRate(first_libor_rate, dt)\n",
        "    \n",
        "    continuous_rate = reshape(continuous_rate)\n",
        "    continuous_rates[i] = continuous_rate[0]\n",
        "    sigma_new = reshape(sigma_new)\n",
        "    S_t_minus_one = reshape(S_t_minus_one)\n",
        "    S_t = getSharePrice(S_t_minus_one, continuous_rate, sigma_new, dt, stock_Z)\n",
        "    stock[:, i + 1] = S_t[:,0]\n",
        "\n",
        "  return np.prod(continuous_rates)"
      ],
      "execution_count": 0,
      "outputs": []
    },
    {
      "cell_type": "code",
      "metadata": {
        "id": "P2l0ehGfDEsa",
        "colab_type": "code",
        "colab": {}
      },
      "source": [
        "def share_path(S_0, r, sigma, Z, dT):\n",
        "    return S_0 * np.exp(np.cumsum((r - sigma**2/2) * dT + sigma * np.sqrt(dT) * Z))\n",
        "\n",
        "def european_call_payoff(S_T, K, r, T):\n",
        "    \"\"\"\n",
        "    This function takes in the following parameters to determine the price of the European call option:\n",
        "      S_T is the price of the underlying at expiry.\n",
        "      K is the strike price\n",
        "      r is the risk free rate\n",
        "      T is the time period till maturity. This can be in months or years depending on the user's preference. In our case, it is in year.\n",
        "\n",
        "    The value of the European call option is determined by taking the discounted value of the final call option payoff\n",
        "    using the formula: np.exp(-T*r) * np.maximum(0, S_T - K)\n",
        "    \"\"\"\n",
        "    return np.exp(-T*r) * np.maximum(0, S_T - K) #payoff for call option\n",
        "\n",
        "def euro_uao_call(barrier, paths, K, r, T):\n",
        "    \"\"\"\n",
        "    This functions takes in the following parameters to calculate the value of a European Up-And-Out call option:\n",
        "      barrier is the barrier level,\n",
        "      paths is a list of share price paths,\n",
        "      K is the strike price\n",
        "      r is the risk free rate\n",
        "      T is the time period of each share price path.\n",
        "    \"\"\"\n",
        "    prices = []\n",
        "    for path in paths:\n",
        "            if np.max(path) > barrier: # knocked out\n",
        "                    prices.append(0)\n",
        "            else:\n",
        "                    prices.append(european_call_payoff(path[-1], K, r, T)) \n",
        "    return np.mean(prices)"
      ],
      "execution_count": 0,
      "outputs": []
    },
    {
      "cell_type": "code",
      "metadata": {
        "id": "LYivamid5H08",
        "colab_type": "code",
        "outputId": "5b7e7a29-171e-484d-faf7-a6379f1dc24e",
        "colab": {
          "base_uri": "https://localhost:8080/",
          "height": 1000
        }
      },
      "source": [
        "call_val_list = []\n",
        "cva_list = []\n",
        "adjusted_call_list = []\n",
        "corr_matrix = np.array([[1, correlation], [correlation, 1]])\n",
        "\n",
        "for sampleSize in tqdm(range(1000, n_simulations + 1000, 1000)):\n",
        "    share_path_list = []\n",
        "    firm_value_list = []\n",
        "    r_list = []\n",
        "\n",
        "    r = simulateLIBOR(12) - 1\n",
        "    r_list.append(r)\n",
        "    \n",
        "    #for each sample size, sum up all price path for each simulation so that the mean can be calculated later\n",
        "    for i in range(0, sampleSize):\n",
        "        norm_matrix = norm.rvs(size=np.array([2, frequency]))\n",
        "        corr_norm_matrix = np.matmul(np.linalg.cholesky(corr_matrix), norm_matrix)\n",
        "\n",
        "        share_price_path = share_path(S_0, r, sigma_s, corr_norm_matrix[0,], T/frequency)\n",
        "        firm_value_path = share_path(V_0, r, sigma_v, corr_norm_matrix[1,], T/frequency)\n",
        "        share_path_list.append(share_price_path)\n",
        "        firm_value_list.append(firm_value_path)\n",
        "\n",
        "    #get the mean path for the sum of all the simulations\n",
        "    share_path_mean = list(map(lambda summed: summed/sampleSize,  functools.reduce(lambda a,b: [x + y for x, y in zip(a, b)], share_path_list)))\n",
        "    firm_value_mean = list(map(lambda summed: summed/sampleSize,  functools.reduce(lambda a,b: [x + y for x, y in zip(a, b)], firm_value_list)))\n",
        "\n",
        "    ################################################\n",
        "    #######     terminal value of option   #########\n",
        "    ################################################\n",
        "    #print(share_path_list)\n",
        "    call_val = euro_uao_call(L, share_path_list, K, r, T) # obtain the Up-and-out European call option value using the defined function euro_uao_call\n",
        "    # Extract the terminal firm values\n",
        "    term_firm_values = list(map(lambda x: x[-1], firm_value_list))\n",
        "    \n",
        "    # Note: the explanation of the functions are defined above under the \"Define functions\" section\n",
        "\n",
        "    ################################################\n",
        "    #######               CVA              #########\n",
        "    ################################################\n",
        "\n",
        "    # To calculate the amount lost, we apply the formula [np.exp(-T/frequency*r) * (1-recovery_rate)*(term_firm_val < debt) * call_val]\n",
        "    # for each simulated terminal firm value in the monte carlo simulation. \n",
        "    amount_lost = [np.exp(-T/frequency*r) * (1-recovery_rate)*(term_firm_val < debt) * call_val for term_firm_val in term_firm_values] # calculate the amount lost\n",
        "    cva = np.mean(amount_lost)\n",
        "    adjusted_opt_val = call_val - cva\n",
        "    \n",
        "    call_val_list.append(call_val)\n",
        "    cva_list.append(cva)\n",
        "    adjusted_call_list.append(adjusted_opt_val)"
      ],
      "execution_count": 211,
      "outputs": [
        {
          "output_type": "stream",
          "text": [
            "\n",
            "\n",
            "  0%|          | 0/100 [00:00<?, ?it/s]\u001b[A\u001b[A\n",
            "\n",
            "  1%|          | 1/100 [00:01<02:31,  1.53s/it]\u001b[A\u001b[A\n",
            "\n",
            "  2%|▏         | 2/100 [00:03<02:31,  1.55s/it]\u001b[A\u001b[A\n",
            "\n",
            "  3%|▎         | 3/100 [00:04<02:37,  1.63s/it]\u001b[A\u001b[A\n",
            "\n",
            "  4%|▍         | 4/100 [00:06<02:47,  1.74s/it]\u001b[A\u001b[A\n",
            "\n",
            "  5%|▌         | 5/100 [00:08<02:54,  1.83s/it]\u001b[A\u001b[A\n",
            "\n",
            "  6%|▌         | 6/100 [00:11<03:08,  2.00s/it]\u001b[A\u001b[A\n",
            "\n",
            "  7%|▋         | 7/100 [00:13<03:17,  2.13s/it]\u001b[A\u001b[A\n",
            "\n",
            "  8%|▊         | 8/100 [00:16<03:29,  2.28s/it]\u001b[A\u001b[A\n",
            "\n",
            "  9%|▉         | 9/100 [00:19<03:43,  2.45s/it]\u001b[A\u001b[A\n",
            "\n",
            " 10%|█         | 10/100 [00:22<03:56,  2.63s/it]\u001b[A\u001b[A\n",
            "\n",
            " 11%|█         | 11/100 [00:25<04:05,  2.75s/it]\u001b[A\u001b[A\n",
            "\n",
            " 12%|█▏        | 12/100 [00:28<04:15,  2.91s/it]\u001b[A\u001b[A\n",
            "\n",
            " 13%|█▎        | 13/100 [00:32<04:31,  3.12s/it]\u001b[A\u001b[A\n",
            "\n",
            " 14%|█▍        | 14/100 [00:36<04:45,  3.32s/it]\u001b[A\u001b[A\n",
            "\n",
            " 15%|█▌        | 15/100 [00:40<04:59,  3.52s/it]\u001b[A\u001b[A\n",
            "\n",
            " 16%|█▌        | 16/100 [00:43<05:05,  3.64s/it]\u001b[A\u001b[A\n",
            "\n",
            " 17%|█▋        | 17/100 [00:48<05:18,  3.84s/it]\u001b[A\u001b[A\n",
            "\n",
            " 18%|█▊        | 18/100 [00:52<05:29,  4.02s/it]\u001b[A\u001b[A\n",
            "\n",
            " 19%|█▉        | 19/100 [00:57<05:42,  4.23s/it]\u001b[A\u001b[A\n",
            "\n",
            " 20%|██        | 20/100 [01:02<05:51,  4.40s/it]\u001b[A\u001b[A\n",
            "\n",
            " 21%|██        | 21/100 [01:07<05:59,  4.55s/it]\u001b[A\u001b[A\n",
            "\n",
            " 22%|██▏       | 22/100 [01:12<06:06,  4.70s/it]\u001b[A\u001b[A\n",
            "\n",
            " 23%|██▎       | 23/100 [01:17<06:17,  4.90s/it]\u001b[A\u001b[A\n",
            "\n",
            " 24%|██▍       | 24/100 [01:23<06:28,  5.11s/it]\u001b[A\u001b[A\n",
            "\n",
            " 25%|██▌       | 25/100 [01:28<06:31,  5.22s/it]\u001b[A\u001b[A\n",
            "\n",
            " 26%|██▌       | 26/100 [01:34<06:40,  5.41s/it]\u001b[A\u001b[A\n",
            "\n",
            " 27%|██▋       | 27/100 [01:40<06:51,  5.64s/it]\u001b[A\u001b[A\n",
            "\n",
            " 28%|██▊       | 28/100 [01:46<06:55,  5.77s/it]\u001b[A\u001b[A\n",
            "\n",
            " 29%|██▉       | 29/100 [01:52<07:00,  5.92s/it]\u001b[A\u001b[A\n",
            "\n",
            " 30%|███       | 30/100 [01:59<07:08,  6.12s/it]\u001b[A\u001b[A\n",
            "\n",
            " 31%|███       | 31/100 [02:06<07:15,  6.31s/it]\u001b[A\u001b[A\n",
            "\n",
            " 32%|███▏      | 32/100 [02:13<07:18,  6.45s/it]\u001b[A\u001b[A\n",
            "\n",
            " 33%|███▎      | 33/100 [02:20<07:25,  6.65s/it]\u001b[A\u001b[A\n",
            "\n",
            " 34%|███▍      | 34/100 [02:27<07:25,  6.75s/it]\u001b[A\u001b[A\n",
            "\n",
            " 35%|███▌      | 35/100 [02:34<07:32,  6.96s/it]\u001b[A\u001b[A\n",
            "\n",
            " 36%|███▌      | 36/100 [02:42<07:41,  7.21s/it]\u001b[A\u001b[A\n",
            "\n",
            " 37%|███▋      | 37/100 [02:50<07:45,  7.38s/it]\u001b[A\u001b[A\n",
            "\n",
            " 38%|███▊      | 38/100 [02:58<07:49,  7.58s/it]\u001b[A\u001b[A\n",
            "\n",
            " 39%|███▉      | 39/100 [03:06<07:50,  7.71s/it]\u001b[A\u001b[A\n",
            "\n",
            " 40%|████      | 40/100 [03:14<07:51,  7.86s/it]\u001b[A\u001b[A\n",
            "\n",
            " 41%|████      | 41/100 [03:22<07:54,  8.05s/it]\u001b[A\u001b[A\n",
            "\n",
            " 42%|████▏     | 42/100 [03:31<07:53,  8.17s/it]\u001b[A\u001b[A\n",
            "\n",
            " 43%|████▎     | 43/100 [03:40<07:56,  8.36s/it]\u001b[A\u001b[A\n",
            "\n",
            " 44%|████▍     | 44/100 [03:49<07:58,  8.55s/it]\u001b[A\u001b[A\n",
            "\n",
            " 45%|████▌     | 45/100 [03:58<08:03,  8.78s/it]\u001b[A\u001b[A\n",
            "\n",
            " 46%|████▌     | 46/100 [04:07<08:02,  8.93s/it]\u001b[A\u001b[A\n",
            "\n",
            " 47%|████▋     | 47/100 [04:17<07:59,  9.04s/it]\u001b[A\u001b[A\n",
            "\n",
            " 48%|████▊     | 48/100 [04:26<07:55,  9.15s/it]\u001b[A\u001b[A\n",
            "\n",
            " 49%|████▉     | 49/100 [04:36<07:56,  9.34s/it]\u001b[A\u001b[A\n",
            "\n",
            " 50%|█████     | 50/100 [04:46<07:56,  9.52s/it]\u001b[A\u001b[A\n",
            "\n",
            " 51%|█████     | 51/100 [04:56<07:55,  9.71s/it]\u001b[A\u001b[A\n",
            "\n",
            " 52%|█████▏    | 52/100 [05:06<07:51,  9.82s/it]\u001b[A\u001b[A\n",
            "\n",
            " 53%|█████▎    | 53/100 [05:16<07:50, 10.02s/it]\u001b[A\u001b[A\n",
            "\n",
            " 54%|█████▍    | 54/100 [05:27<07:48, 10.19s/it]\u001b[A\u001b[A\n",
            "\n",
            " 55%|█████▌    | 55/100 [05:38<07:47, 10.39s/it]\u001b[A\u001b[A\n",
            "\n",
            " 56%|█████▌    | 56/100 [05:49<07:43, 10.52s/it]\u001b[A\u001b[A\n",
            "\n",
            " 57%|█████▋    | 57/100 [06:00<07:41, 10.74s/it]\u001b[A\u001b[A\n",
            "\n",
            " 58%|█████▊    | 58/100 [06:11<07:33, 10.80s/it]\u001b[A\u001b[A\n",
            "\n",
            " 59%|█████▉    | 59/100 [06:22<07:31, 11.02s/it]\u001b[A\u001b[A\n",
            "\n",
            " 60%|██████    | 60/100 [06:34<07:24, 11.12s/it]\u001b[A\u001b[A\n",
            "\n",
            " 61%|██████    | 61/100 [06:45<07:19, 11.27s/it]\u001b[A\u001b[A\n",
            "\n",
            " 62%|██████▏   | 62/100 [06:57<07:14, 11.44s/it]\u001b[A\u001b[A\n",
            "\n",
            " 63%|██████▎   | 63/100 [07:09<07:06, 11.53s/it]\u001b[A\u001b[A\n",
            "\n",
            " 64%|██████▍   | 64/100 [07:21<07:02, 11.75s/it]\u001b[A\u001b[A\n",
            "\n",
            " 65%|██████▌   | 65/100 [07:34<06:56, 11.91s/it]\u001b[A\u001b[A\n",
            "\n",
            " 66%|██████▌   | 66/100 [07:46<06:51, 12.11s/it]\u001b[A\u001b[A\n",
            "\n",
            " 67%|██████▋   | 67/100 [07:59<06:47, 12.34s/it]\u001b[A\u001b[A\n",
            "\n",
            " 68%|██████▊   | 68/100 [08:12<06:38, 12.45s/it]\u001b[A\u001b[A\n",
            "\n",
            " 69%|██████▉   | 69/100 [08:25<06:31, 12.64s/it]\u001b[A\u001b[A\n",
            "\n",
            " 70%|███████   | 70/100 [08:38<06:26, 12.89s/it]\u001b[A\u001b[A\n",
            "\n",
            " 71%|███████   | 71/100 [08:52<06:17, 13.03s/it]\u001b[A\u001b[A\n",
            "\n",
            " 72%|███████▏  | 72/100 [09:05<06:08, 13.15s/it]\u001b[A\u001b[A\n",
            "\n",
            " 73%|███████▎  | 73/100 [09:19<05:59, 13.33s/it]\u001b[A\u001b[A\n",
            "\n",
            " 74%|███████▍  | 74/100 [09:33<05:51, 13.54s/it]\u001b[A\u001b[A\n",
            "\n",
            " 75%|███████▌  | 75/100 [09:47<05:43, 13.74s/it]\u001b[A\u001b[A\n",
            "\n",
            " 76%|███████▌  | 76/100 [10:01<05:33, 13.89s/it]\u001b[A\u001b[A\n",
            "\n",
            " 77%|███████▋  | 77/100 [10:15<05:20, 13.95s/it]\u001b[A\u001b[A\n",
            "\n",
            " 78%|███████▊  | 78/100 [10:30<05:12, 14.20s/it]\u001b[A\u001b[A\n",
            "\n",
            " 79%|███████▉  | 79/100 [10:45<05:01, 14.34s/it]\u001b[A\u001b[A\n",
            "\n",
            " 80%|████████  | 80/100 [11:00<04:51, 14.55s/it]\u001b[A\u001b[A\n",
            "\n",
            " 81%|████████  | 81/100 [11:15<04:38, 14.64s/it]\u001b[A\u001b[A\n",
            "\n",
            " 82%|████████▏ | 82/100 [11:30<04:26, 14.81s/it]\u001b[A\u001b[A\n",
            "\n",
            " 83%|████████▎ | 83/100 [11:45<04:13, 14.92s/it]\u001b[A\u001b[A\n",
            "\n",
            " 84%|████████▍ | 84/100 [12:01<04:01, 15.12s/it]\u001b[A\u001b[A\n",
            "\n",
            " 85%|████████▌ | 85/100 [12:16<03:47, 15.19s/it]\u001b[A\u001b[A\n",
            "\n",
            " 86%|████████▌ | 86/100 [12:32<03:34, 15.35s/it]\u001b[A\u001b[A\n",
            "\n",
            " 87%|████████▋ | 87/100 [12:48<03:22, 15.55s/it]\u001b[A\u001b[A\n",
            "\n",
            " 88%|████████▊ | 88/100 [13:04<03:08, 15.74s/it]\u001b[A\u001b[A\n",
            "\n",
            " 89%|████████▉ | 89/100 [13:20<02:54, 15.89s/it]\u001b[A\u001b[A\n",
            "\n",
            " 90%|█████████ | 90/100 [13:37<02:40, 16.08s/it]\u001b[A\u001b[A\n",
            "\n",
            " 91%|█████████ | 91/100 [13:54<02:27, 16.35s/it]\u001b[A\u001b[A\n",
            "\n",
            " 92%|█████████▏| 92/100 [14:10<02:11, 16.48s/it]\u001b[A\u001b[A\n",
            "\n",
            " 93%|█████████▎| 93/100 [14:27<01:56, 16.63s/it]\u001b[A\u001b[A\n",
            "\n",
            " 94%|█████████▍| 94/100 [14:45<01:40, 16.80s/it]\u001b[A\u001b[A\n",
            "\n",
            " 95%|█████████▌| 95/100 [15:02<01:25, 17.00s/it]\u001b[A\u001b[A\n",
            "\n",
            " 96%|█████████▌| 96/100 [15:20<01:08, 17.15s/it]\u001b[A\u001b[A\n",
            "\n",
            " 97%|█████████▋| 97/100 [15:37<00:51, 17.33s/it]\u001b[A\u001b[A\n",
            "\n",
            " 98%|█████████▊| 98/100 [15:55<00:35, 17.55s/it]\u001b[A\u001b[A\n",
            "\n",
            " 99%|█████████▉| 99/100 [16:14<00:17, 17.77s/it]\u001b[A\u001b[A\n",
            "\n",
            "100%|██████████| 100/100 [16:32<00:00, 17.94s/it]\u001b[A\u001b[A\n",
            "\n",
            "\u001b[A\u001b[A"
          ],
          "name": "stderr"
        }
      ]
    },
    {
      "cell_type": "code",
      "metadata": {
        "id": "eDIxo5yIJPwq",
        "colab_type": "code",
        "colab": {
          "base_uri": "https://localhost:8080/",
          "height": 70
        },
        "outputId": "996dc858-0e59-43af-f6ec-965b5b5dfb0b"
      },
      "source": [
        "print(\"The mean value of the call option with no default risk based on simulations is {}\".format(np.mean(call_val_list)))\n",
        "print(\"The mean value of the CVA based on simulations is {}\".format( np.mean(cva_list)))\n",
        "print(\"The mean adjusted value of the  call option based on simulations is {}\".format(np.mean(adjusted_call_list)))"
      ],
      "execution_count": 212,
      "outputs": [
        {
          "output_type": "stream",
          "text": [
            "The mean value of the call option with no default risk based on simulations is 6.875941672460287\n",
            "The mean value of the CVA based on simulations is 1.0600346850244673\n",
            "The mean adjusted value of the  call option based on simulations is 5.815906987435819\n"
          ],
          "name": "stdout"
        }
      ]
    },
    {
      "cell_type": "code",
      "metadata": {
        "id": "qYrjK7dmmKHq",
        "colab_type": "code",
        "colab": {
          "base_uri": "https://localhost:8080/",
          "height": 141
        },
        "outputId": "f8b5c67d-6cfe-45f3-8ffc-a795265dbc7f"
      },
      "source": [
        "# Reprint values for 1st simulation only\n",
        "\n",
        "print(\"Number of simulations: {}\".format(1000))\n",
        "print(\"One-year discount factor based on LFMM: {}\".format(math.pow(r_list[0] + 1, -1)))\n",
        "\n",
        "print('\\n')\n",
        "\n",
        "print(\"The mean value of the call option with no default risk based on {} simulations is {}\".format(1000, np.mean(call_val_list[0])))\n",
        "print(\"The mean value of the CVA based on {} simulations is {}\".format(1000, np.mean(cva_list[0])))\n",
        "print(\"The mean adjusted value of the  call option based on {} simulations is {}\".format(1000, np.mean(adjusted_call_list[0])))"
      ],
      "execution_count": 213,
      "outputs": [
        {
          "output_type": "stream",
          "text": [
            "Number of simulations: 1000\n",
            "One-year discount factor based on LFMM: 0.8828282606194582\n",
            "\n",
            "\n",
            "The mean value of the call option with no default risk based on 1000 simulations is 6.745915129057564\n",
            "The mean value of the CVA based on 1000 simulations is 1.2162909458406557\n",
            "The mean adjusted value of the  call option based on 1000 simulations is 5.529624183216908\n"
          ],
          "name": "stdout"
        }
      ]
    }
  ]
}