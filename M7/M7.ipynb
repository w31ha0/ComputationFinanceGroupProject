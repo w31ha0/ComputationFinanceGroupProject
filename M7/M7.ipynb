{
  "nbformat": 4,
  "nbformat_minor": 0,
  "metadata": {
    "colab": {
      "name": "M7_v3.ipynb",
      "provenance": [],
      "collapsed_sections": []
    },
    "kernelspec": {
      "display_name": "Python 3",
      "language": "python",
      "name": "python3"
    },
    "language_info": {
      "codemirror_mode": {
        "name": "ipython",
        "version": 3
      },
      "file_extension": ".py",
      "mimetype": "text/x-python",
      "name": "python",
      "nbconvert_exporter": "python",
      "pygments_lexer": "ipython3",
      "version": "3.7.4"
    }
  },
  "cells": [
    {
      "cell_type": "markdown",
      "metadata": {
        "colab_type": "text",
        "id": "UI-fXcylDTYt"
      },
      "source": [
        "# Simulate Asset Price Evolutions and Reprice Risky up-and-out Call Option"
      ]
    },
    {
      "cell_type": "markdown",
      "metadata": {
        "colab_type": "text",
        "id": "w0IBHeo8DQPN"
      },
      "source": [
        "Group 6-A \n",
        "\n",
        "Members:\n",
        "\n",
        "1. Md. Shafil Hosain (shafil430@yahoo.com)\n",
        "\n",
        "2. Si Jie Lim (limsijie93@gmail.com)\n",
        "\n",
        "3. Quang Vinh Dang (dqvinh87@gmail.com)\n",
        "\n",
        "4. Wei Hao Lew (lewweihao93@hotmail.com)\n",
        "\n",
        "5. Philip ZF Chen (philipchen619@gmail.com)"
      ]
    },
    {
      "cell_type": "markdown",
      "metadata": {
        "colab_type": "text",
        "id": "Nbu_ImZa5JGN"
      },
      "source": [
        "# Question 1"
      ]
    },
    {
      "cell_type": "markdown",
      "metadata": {
        "colab_type": "text",
        "id": "3uTsutxt2ZIT"
      },
      "source": [
        "In this project, we will be using the LIBOR Forward Market Model(LFMM) to simulate the forward rates.\n",
        "\n",
        "First, we import the necessary libraries needed for the code."
      ]
    },
    {
      "cell_type": "code",
      "metadata": {
        "colab_type": "code",
        "id": "fmvbsxrQ2ZIg",
        "colab": {}
      },
      "source": [
        "import numpy as np\n",
        "from scipy.stats import norm\n",
        "import matplotlib.pyplot as plt\n",
        "import random\n",
        "from tqdm import tqdm\n",
        "import functools\n",
        "import math"
      ],
      "execution_count": 0,
      "outputs": []
    },
    {
      "cell_type": "markdown",
      "metadata": {
        "colab_type": "text",
        "id": "Q5vEyvKH2ZIp"
      },
      "source": [
        "Next, we define the list of parameter values needed."
      ]
    },
    {
      "cell_type": "code",
      "metadata": {
        "colab_type": "code",
        "id": "ZM3mfrKb2ZIs",
        "colab": {}
      },
      "source": [
        "L = 150                 #barrier limit\n",
        "S_0 = 100               #starting share value\n",
        "K = 100                 #strike price\n",
        "V_0 = 200               #starting firm value\n",
        "D = 175\n",
        "gamma = 0.75\n",
        "debt = 175              #firm debt\n",
        "sigma_s = 0.30          #share volatility\n",
        "sigma_v = 0.30          #firm value volatility\n",
        "correlation = 0.2       #correlation between share and firm\n",
        "recovery_rate = 0.25    #firm recovery rate\n",
        "n_simulations = 100000\n",
        "dt = 1/12               #expiry time of option / monthly simulations for a year\n",
        "frequency = 12          #monthly simulations for a year\n",
        "T = 1                   #expiry time of option"
      ],
      "execution_count": 0,
      "outputs": []
    },
    {
      "cell_type": "markdown",
      "metadata": {
        "colab_type": "text",
        "id": "ZLfN-VGC2ZIz"
      },
      "source": [
        "## Calibration\n",
        "\n",
        "We are first going to calibrate the LFMM using the observed zero coupon bond prices. \n",
        "\n",
        "The jth forward rate at time t can be defined as\n",
        "\n",
        "$F_j(t) = \\frac{P_j(t)-P_{j+1}(t)}{\\delta_t P_{j+1}(t)}$\n",
        "\n",
        "We are going to use this formula to calibrate and obtain the initial forward rates, which will be used to simulate future rates as in the LFMM model."
      ]
    },
    {
      "cell_type": "code",
      "metadata": {
        "colab_type": "code",
        "id": "WCz6dtXx2ZI1",
        "colab": {}
      },
      "source": [
        "def bondPricesToInitialForwardRates(bond_prices, n_steps):\n",
        "    return np.ones([n_simulations, n_steps - 1]) * (bond_prices[:-1] - bond_prices[1:])/(dt * bond_prices[1:])"
      ],
      "execution_count": 0,
      "outputs": []
    },
    {
      "cell_type": "code",
      "metadata": {
        "colab_type": "code",
        "id": "AXMPJGDk2ZI7",
        "colab": {}
      },
      "source": [
        "bond_prices = np.array([100, 99.38, 98.76, 98.15, 97.54, 96.94, 96.34, 95.74, 95.16, 94.57, 93.99, 93.42, 92.85])\n",
        "n_steps = len(bond_prices) \n",
        "\n",
        "forward_rates = bondPricesToInitialForwardRates(bond_prices, n_steps)"
      ],
      "execution_count": 0,
      "outputs": []
    },
    {
      "cell_type": "markdown",
      "metadata": {
        "colab_type": "text",
        "id": "dtis61nV2ZJG"
      },
      "source": [
        "## Interest Rate - LIBOR Forward Market Model (LFMM)\n",
        "\n",
        "The LFMM says that the forward rate evolves according to the following formula\n",
        "\n",
        "$F_j(t_i) = F_j(t_{i-1})exp[(\\mu_j(t_{i-1})-\\frac{1}{2}\\sigma^2)\\delta_{i-1} + \\sigma_j\\sqrt{\\delta_{i-1}}Z_i]$\n",
        "\n",
        "where\n",
        "\n",
        "$\\mu_j(t_{i-1}) \\ \\sum_{k=i}^j \\frac{\\delta_k F_j(t_{i-1})\\sigma_k\\sigma_j}{1+\\delta_kF_j(t_{i-1})}$\n",
        "\n",
        "which can be written as"
      ]
    },
    {
      "cell_type": "code",
      "metadata": {
        "colab_type": "code",
        "id": "kbBj1p5k2ZJI",
        "colab": {}
      },
      "source": [
        "def getMu(forward_rates, delta, sigma_j, sigma_k):\n",
        "    return np.cumsum(delta * forward_rates * sigma_j * sigma_k/(1 + delta * forward_rates), axis=1)\n",
        "\n",
        "def getInitialNextForwardEstimate(forward_rates, mu, sigma, delta, Z):\n",
        "    return forward_rates * np.exp((mu - (sigma**2)/2) * delta + sigma * np.sqrt(delta) * Z)\n"
      ],
      "execution_count": 0,
      "outputs": []
    },
    {
      "cell_type": "markdown",
      "metadata": {
        "colab_type": "text",
        "id": "5A208AAr2ZJP"
      },
      "source": [
        "However, to improve the accuracy, we will use the Predictor-Corrector method which involves estimating the next period's drift and then taking the average. Hence, the final estimate of the forward rate is given by:\n",
        "\n",
        "$F_j(t_i) = F_j(t_{i-1})exp[\\frac{1}{2}(\\mu_j(t_{i-1})+\\mu_j(t_i)-\\sigma^2)\\delta_{i-1} + \\sigma_j\\sqrt{\\delta_{i-1}}Z_i]$\n",
        "\n",
        "This final estimate is written as:"
      ]
    },
    {
      "cell_type": "code",
      "metadata": {
        "colab_type": "code",
        "id": "GrxODXt12ZJT",
        "colab": {}
      },
      "source": [
        "def getFinalNextForward(forward_rates, mu1, mu2, sigma, delta, Z):\n",
        "    return forward_rates * np.exp(0.5 * (mu1 + mu2 - sigma**2) * delta + sigma * np.sqrt(delta) * Z)"
      ],
      "execution_count": 0,
      "outputs": []
    },
    {
      "cell_type": "markdown",
      "metadata": {
        "colab_type": "text",
        "id": "S_qtRd082ZJc"
      },
      "source": [
        "Furthermore, the continuously compounded interest rate can be derived from the LIBOR forward rate as follows:\n",
        "\n",
        "$e^{r_{ti}(t_{i+1}-t_i)} = 1 + L(t_i, t_{i+1})(t_{i+1} - t_i)$"
      ]
    },
    {
      "cell_type": "code",
      "metadata": {
        "colab_type": "code",
        "id": "vcw15u3e2ZJd",
        "colab": {}
      },
      "source": [
        "def liborToContinuousRate(libor, dt):\n",
        "    return 1 + (libor * dt)"
      ],
      "execution_count": 0,
      "outputs": []
    },
    {
      "cell_type": "markdown",
      "metadata": {
        "colab_type": "text",
        "id": "OYuz0H8X2ZJw"
      },
      "source": [
        "## Volatility - CEV Model\n",
        "\n",
        "We will be using the CEV model to represent volatility, which is given by\n",
        "\n",
        "$\\sigma(t_i, t_{i+1}) = \\sigma(S_{it})^{\\gamma-1}$"
      ]
    },
    {
      "cell_type": "code",
      "metadata": {
        "colab_type": "code",
        "id": "Db4X4EDa2ZKH",
        "colab": {}
      },
      "source": [
        "def getVolatility(S_t, gamma, sigma):\n",
        "    return sigma * S_t**(gamma - 1)"
      ],
      "execution_count": 0,
      "outputs": []
    },
    {
      "cell_type": "markdown",
      "metadata": {
        "colab_type": "text",
        "id": "HPBMrrqi2ZKa"
      },
      "source": [
        "## Stock Price Model\n",
        "\n",
        "We assume the following lognormal evolution of stock price/firm value:\n",
        "\n",
        "$S_{t_{i+1}} = S_{t_i}exp[(r - \\frac{\\sigma^2(t_i, t_{i+1})}{2})(t_{i+1}-t_i)+\\sigma(t_i, t_{i+1})\\sqrt{t_{i+1}-t_i}Z]$\n",
        "\n",
        "which can be re-written as\n",
        "\n",
        "$S_{t_{i+1}} = S_{t_i}exp[r(t_{i+1}-t_i)]exp[(- \\frac{\\sigma^2(t_i, t_{i+1})}{2})(t_{i+1}-t_i)+\\sigma(t_i, t_{i+1})\\sqrt{t_{i+1}-t_i}Z]$"
      ]
    },
    {
      "cell_type": "code",
      "metadata": {
        "colab_type": "code",
        "id": "F5Dq9k1R2ZKd",
        "colab": {}
      },
      "source": [
        "def getSharePrice(S_t, continuous_rate, sigma, dt, Z):\n",
        "    return S_t * continuous_rate * np.exp(-sigma**2/2 * dt + sigma * np.sqrt(dt) * Z)"
      ],
      "execution_count": 0,
      "outputs": []
    },
    {
      "cell_type": "markdown",
      "metadata": {
        "colab_type": "text",
        "id": "sT7YbD0D2ZKu"
      },
      "source": [
        "## Simulation"
      ]
    },
    {
      "cell_type": "markdown",
      "metadata": {
        "colab_type": "text",
        "id": "BY7tq_7e2ZKy"
      },
      "source": [
        "First, we initialise the stock matrix and delta matrix."
      ]
    },
    {
      "cell_type": "code",
      "metadata": {
        "colab_type": "code",
        "id": "XCvhEMrz2ZK2",
        "colab": {}
      },
      "source": [
        "delta = np.ones([n_simulations, n_steps - 1]) * dt\n",
        "stock = np.ones([n_simulations, n_steps]) * S_0\n",
        "firm = np.ones([n_simulations, n_steps]) * V_0\n",
        "\n",
        "continuousRates, volatilities_s, volatilities_v = [], [], []"
      ],
      "execution_count": 0,
      "outputs": []
    },
    {
      "cell_type": "markdown",
      "metadata": {
        "colab_type": "text",
        "id": "0GDl8EPm2ZLM"
      },
      "source": [
        "We also need to define a method to reshape our data structure"
      ]
    },
    {
      "cell_type": "code",
      "metadata": {
        "colab_type": "code",
        "id": "CtbUIKi72ZLO",
        "colab": {}
      },
      "source": [
        "def reshape(input):\n",
        "    return np.array([input, ]).transpose()"
      ],
      "execution_count": 0,
      "outputs": []
    },
    {
      "cell_type": "markdown",
      "metadata": {
        "colab_type": "text",
        "id": "8vM4kCvU2ZLc"
      },
      "source": [
        "Then, we go to the actual simulation."
      ]
    },
    {
      "cell_type": "code",
      "metadata": {
        "colab_type": "code",
        "id": "_d50ysp82ZLg",
        "outputId": "5c1fdf23-80f6-4575-b4a5-abd23cd1a8ae",
        "colab": {
          "base_uri": "https://localhost:8080/",
          "height": 1000
        }
      },
      "source": [
        "print(\"Simulating for {} simulations\".format(n_simulations))\n",
        "\n",
        "for i in range(0, 12):\n",
        "    #each iteration is a point in time, estimating for 12 forward rates\n",
        "    forward_Z = norm.rvs(size = [n_simulations, 1])\n",
        "    stock_Z = norm.rvs(size = [n_simulations, 1])\n",
        "    firm_Z = norm.rvs(size = [n_simulations, 1])\n",
        "    \n",
        "    S_t_minus_one = stock[:, i]\n",
        "    V_t_minus_one = firm[:, i]\n",
        "    forward_rates_t = forward_rates[:, i:]\n",
        "    delta_t = delta[:, i:]\n",
        "    \n",
        "    sigma_v_new = getVolatility(V_t_minus_one, gamma, sigma_v)\n",
        "    volatilities_v.append(sigma_v_new)\n",
        "\n",
        "    sigma_s_new = getVolatility(S_t_minus_one, gamma, sigma_s)\n",
        "    volatilities_s.append(sigma_s_new)\n",
        "\n",
        "    #duplicate the sigma across more columns as the same sigma will be used to calculate the other forward rates \n",
        "    sigma_s_new_transposed = np.array([sigma_s_new,] * (n_steps - (i + 1))).transpose() \n",
        "    \n",
        "    mu_initial = getMu(forward_rates_t, delta_t, sigma_s_new_transposed, sigma_s_new_transposed)\n",
        "    forward_temp = getInitialNextForwardEstimate(forward_rates_t, mu_initial, sigma_s_new_transposed, delta_t, forward_Z)\n",
        "    mu_next = getMu(forward_temp, delta_t, sigma_s_new_transposed, sigma_s_new_transposed)\n",
        "    final_forwards = getFinalNextForward(forward_rates_t, mu_initial, mu_next, sigma_s_new_transposed, delta_t, forward_Z)\n",
        "    forward_rates[:,i:] = final_forwards\n",
        "    \n",
        "    first_libor_rate = forward_rates[:,i]\n",
        "    continuous_rate = liborToContinuousRate(first_libor_rate, dt)\n",
        "    continuous_rate = reshape(continuous_rate)\n",
        "    continuousRates.append(continuous_rate[0][0])\n",
        "    \n",
        "    sigma_s_new = reshape(sigma_s_new)\n",
        "    S_t_minus_one = reshape(S_t_minus_one)\n",
        "    V_t_minus_one = reshape(V_t_minus_one)\n",
        "    S_t = getSharePrice(S_t_minus_one, continuous_rate, sigma_s_new, dt, stock_Z)\n",
        "    V_t = getSharePrice(V_t_minus_one, continuous_rate, sigma_s_new, dt, firm_Z)\n",
        "    stock[:, i + 1] = S_t[:,0]\n",
        "    firm[:, i + 1] = V_t[:,0]\n",
        "    \n",
        "    print(\"Volatility at time \" + str(i+1) + \": \" + str(sigma_s_new[0]))\n",
        "    print(\"Forward Rates at time \" + str(i+1) + \": \" + str(final_forwards[0]))\n",
        "    print(\"First LIBOR rate at time \" + str(i+1) + \": \" + str(first_libor_rate[0]))\n",
        "    print(\"Continuous rate at time \" + str(i+1) + \": \" + str(continuous_rate[0]))\n",
        "    print(\"Stock Price at time \" + str(i+1) + \": \" + str(S_t[0]))\n",
        "    print(\"Firm Value at time \" + str(i+1) + \": \" + str(V_t[0]))\n",
        "    print(\"\\n\")"
      ],
      "execution_count": 12,
      "outputs": [
        {
          "output_type": "stream",
          "text": [
            "Simulating for 100000 simulations\n",
            "Volatility at time 1: [0.09486833]\n",
            "Forward Rates at time 1: [0.07318162 0.07364138 0.07290425 0.07336052 0.07260483 0.07305735\n",
            " 0.07351554 0.07149848 0.0731853  0.07238917 0.07157546 0.07201519]\n",
            "First LIBOR rate at time 1: 0.07318162016106346\n",
            "Continuous rate at time 1: [1.00609847]\n",
            "Stock Price at time 1: [100.76836772]\n",
            "Firm Value at time 1: [196.21136567]\n",
            "\n",
            "\n",
            "Volatility at time 2: [0.09468697]\n",
            "Forward Rates at time 2: [0.07224746 0.0715246  0.07197256 0.07123149 0.07167577 0.07212562\n",
            " 0.070147   0.07180226 0.07102149 0.07022347 0.07065519]\n",
            "First LIBOR rate at time 2: 0.07224746482807072\n",
            "Continuous rate at time 2: [1.00602062]\n",
            "Stock Price at time 2: [103.14754925]\n",
            "Firm Value at time 2: [198.85911321]\n",
            "\n",
            "\n",
            "Volatility at time 3: [0.09413617]\n",
            "Forward Rates at time 3: [0.07383107 0.07429381 0.07352916 0.0739881  0.07445279 0.07241065\n",
            " 0.07411966 0.07331401 0.07249054 0.07293653]\n",
            "First LIBOR rate at time 3: 0.07383107003477024\n",
            "Continuous rate at time 3: [1.00615259]\n",
            "Stock Price at time 3: [102.77383213]\n",
            "Firm Value at time 3: [200.97598032]\n",
            "\n",
            "\n",
            "Volatility at time 4: [0.09422163]\n",
            "Forward Rates at time 4: [0.07350806 0.07275182 0.07320624 0.07366636 0.0716461  0.0733374\n",
            " 0.07254057 0.07172611 0.07216772]\n",
            "First LIBOR rate at time 4: 0.07350805699128884\n",
            "Continuous rate at time 4: [1.00612567]\n",
            "Stock Price at time 4: [104.89210119]\n",
            "Firm Value at time 4: [197.20658801]\n",
            "\n",
            "\n",
            "Volatility at time 5: [0.09374229]\n",
            "Forward Rates at time 5: [0.07370261 0.07416329 0.07462976 0.07258341 0.07429716 0.07349023\n",
            " 0.07266543 0.07311314]\n",
            "First LIBOR rate at time 5: 0.07370260959949787\n",
            "Continuous rate at time 5: [1.00614188]\n",
            "Stock Price at time 5: [102.12506843]\n",
            "Firm Value at time 5: [191.04185888]\n",
            "\n",
            "\n",
            "Volatility at time 6: [0.09437091]\n",
            "Forward Rates at time 6: [0.07220714 0.07266164 0.07066956 0.07233845 0.07155311 0.07075036\n",
            " 0.07118659]\n",
            "First LIBOR rate at time 6: 0.0722071420563485\n",
            "Continuous rate at time 6: [1.00601726]\n",
            "Stock Price at time 6: [106.17006314]\n",
            "Firm Value at time 6: [195.66441484]\n",
            "\n",
            "\n",
            "Volatility at time 7: [0.09345892]\n",
            "Forward Rates at time 7: [0.07035273 0.06842424 0.0700404  0.06928031 0.06850335 0.06892601]\n",
            "First LIBOR rate at time 7: 0.07035272699256351\n",
            "Continuous rate at time 7: [1.00586273]\n",
            "Stock Price at time 7: [101.97556453]\n",
            "Firm Value at time 7: [196.14922522]\n",
            "\n",
            "\n",
            "Volatility at time 8: [0.09440548]\n",
            "Forward Rates at time 8: [0.06938665 0.07102586 0.07025537 0.06946777 0.06989668]\n",
            "First LIBOR rate at time 8: 0.06938665096291081\n",
            "Continuous rate at time 8: [1.00578222]\n",
            "Stock Price at time 8: [104.5608184]\n",
            "Firm Value at time 8: [203.94687474]\n",
            "\n",
            "\n",
            "Volatility at time 9: [0.09381645]\n",
            "Forward Rates at time 9: [0.06938716 0.06863474 0.06786559 0.06828489]\n",
            "First LIBOR rate at time 9: 0.06938715822411712\n",
            "Continuous rate at time 9: [1.00578226]\n",
            "Stock Price at time 9: [107.74542561]\n",
            "Firm Value at time 9: [203.88712493]\n",
            "\n",
            "\n",
            "Volatility at time 10: [0.09311541]\n",
            "Forward Rates at time 10: [0.06641058 0.06566661 0.0660726 ]\n",
            "First LIBOR rate at time 10: 0.0664105760088347\n",
            "Continuous rate at time 10: [1.00553421]\n",
            "Stock Price at time 10: [111.60054163]\n",
            "Firm Value at time 10: [204.69735532]\n",
            "\n",
            "\n",
            "Volatility at time 11: [0.09230063]\n",
            "Forward Rates at time 11: [0.06539518 0.06579974]\n",
            "First LIBOR rate at time 11: 0.06539517776279215\n",
            "Continuous rate at time 11: [1.0054496]\n",
            "Stock Price at time 11: [111.63746265]\n",
            "Firm Value at time 11: [201.46970639]\n",
            "\n",
            "\n",
            "Volatility at time 12: [0.092293]\n",
            "Forward Rates at time 12: [0.06477613]\n",
            "First LIBOR rate at time 12: 0.06477612665002778\n",
            "Continuous rate at time 12: [1.00539801]\n",
            "Stock Price at time 12: [115.21915148]\n",
            "Firm Value at time 12: [209.19218423]\n",
            "\n",
            "\n"
          ],
          "name": "stdout"
        }
      ]
    },
    {
      "cell_type": "markdown",
      "metadata": {
        "colab_type": "text",
        "id": "Pb1JoEIp5Gk3"
      },
      "source": [
        "# Question 2"
      ]
    },
    {
      "cell_type": "markdown",
      "metadata": {
        "id": "9gwHZclGGNbm",
        "colab_type": "text"
      },
      "source": [
        "According to the question, the share price evolves according to the following recursive formula\n",
        "\n",
        "$S_{t_{i+1}} = S_{t_i} e^{r-\\frac{\\sigma^2 (t_i,t_{i+1})}{2}(t_{i+1}-t_i)+\\sigma(t_i, t_{i+1})\\sqrt{t_{i+1}-t_i}Z}$\n",
        "\n",
        "and the local volatility functions follow the following formula\n",
        "\n",
        "$\\sigma_s(t_i,t_{i+1}) = \\sigma(S_{ti})^{\\gamma-1}$\n",
        "and\n",
        "$\\sigma_v(t_i,t_{i+1}) = \\sigma(V_{ti})^{\\gamma-1}$\n",
        "\n",
        "where ${\\gamma}$ = 0.75 and $\\sigma$ = 0.3"
      ]
    },
    {
      "cell_type": "code",
      "metadata": {
        "colab_type": "code",
        "id": "P2l0ehGfDEsa",
        "colab": {}
      },
      "source": [
        "def european_call_payoff(S_T, K, r):\n",
        "    \"\"\"\n",
        "    This function takes in the following parameters to determine the price of the European call option:\n",
        "      S_T is the price of the underlying at expiry.\n",
        "      K is the strike price\n",
        "      r is the discount rate \n",
        "    \"\"\"\n",
        "    return r * np.maximum(0, S_T - K) #payoff for call option\n",
        "\n",
        "def euro_uao_call(barrier, paths, K, r):\n",
        "    \"\"\"\n",
        "    This functions takes in the following parameters to calculate the value of a European Up-And-Out call option:\n",
        "      barrier is the barrier level,\n",
        "      paths is a list of share price paths,\n",
        "      K is the strike price\n",
        "      r is the discount rate \n",
        "    \"\"\"\n",
        "    prices = []\n",
        "    for path in paths:\n",
        "            if np.max(path) > barrier: # knocked out\n",
        "                    prices.append(0)\n",
        "            else:\n",
        "                    prices.append(european_call_payoff(path[-1], K, r)) \n",
        "    return np.mean(prices)"
      ],
      "execution_count": 0,
      "outputs": []
    },
    {
      "cell_type": "code",
      "metadata": {
        "id": "Hk9A5z6l1TFr",
        "colab_type": "code",
        "colab": {}
      },
      "source": [
        "# We will now calculate the value of the option with no default risk and with counterparty default risk using values calculated in part 1\n",
        "\n",
        "# Using the simulated interest rates from LFMM, we calculate the corresponding interest rate at time t = 0\n",
        "discount_rate = math.pow(np.prod(continuousRates), -1)\n",
        "\n",
        "# Calculate the European up-and-out call option value \n",
        "call_val = euro_uao_call(L, stock, K, discount_rate)\n",
        "\n",
        "# CVA: \n",
        "# To calculate the amount lost, we apply the formula [np.exp(-T/frequency*r) * (1-recovery_rate)*(term_firm_val < debt) * call_val] for each simulated terminal firm value in the monte carlo simulation. \n",
        "amount_lost = [discount_rate * (1-recovery_rate)*(term_firm_val < debt) * call_val for term_firm_val in firm]\n",
        "cva = np.mean(amount_lost)\n",
        "\n",
        "# Calculate the adjusted value for the European up-and-out call option\n",
        "adjusted_opt_val = call_val - cva"
      ],
      "execution_count": 0,
      "outputs": []
    },
    {
      "cell_type": "code",
      "metadata": {
        "id": "FA_kvLfg1zPR",
        "colab_type": "code",
        "outputId": "4420dfff-dbe1-4f17-b71d-c4a1544ae78c",
        "colab": {
          "base_uri": "https://localhost:8080/",
          "height": 141
        }
      },
      "source": [
        "# Print values for simulation\n",
        "\n",
        "print(\"Number of simulations: {}\".format(n_simulations))\n",
        "print(\"One-year discount factor based on LFMM: {}\".format(discount_rate))\n",
        "\n",
        "print('\\n')\n",
        "\n",
        "print(\"The mean value of the call option with no default risk based on {} simulations is {}\".format(n_simulations, np.mean(call_val)))\n",
        "print(\"The mean value of the CVA based on {} simulations is {}\".format(n_simulations, cva))\n",
        "print(\"The mean adjusted value of the  call option based on {} simulations is {}\".format(n_simulations, adjusted_opt_val))"
      ],
      "execution_count": 18,
      "outputs": [
        {
          "output_type": "stream",
          "text": [
            "Number of simulations: 100000\n",
            "One-year discount factor based on LFMM: 0.9322450091284058\n",
            "\n",
            "\n",
            "The mean value of the call option with no default risk based on 100000 simulations is 8.314600968833625\n",
            "The mean value of the CVA based on 100000 simulations is 0.038185317254854044\n",
            "The mean adjusted value of the  call option based on 100000 simulations is 8.276415651578771\n"
          ],
          "name": "stdout"
        }
      ]
    },
    {
      "cell_type": "code",
      "metadata": {
        "id": "I3_xnPTPvYA3",
        "colab_type": "code",
        "colab": {}
      },
      "source": [
        ""
      ],
      "execution_count": 0,
      "outputs": []
    }
  ]
}