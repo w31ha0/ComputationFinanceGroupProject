{
 "cells": [
  {
   "cell_type": "markdown",
   "metadata": {},
   "source": [
    "In this project, we will be using the LIBOR Forward Market Model(LFMM) to simulate the forward rates.\n",
    "\n",
    "First, we import the necessary libraries needed for the code."
   ]
  },
  {
   "cell_type": "code",
   "execution_count": 1,
   "metadata": {},
   "outputs": [],
   "source": [
    "import numpy as np\n",
    "from scipy.stats import norm\n",
    "import matplotlib.pyplot as plt\n",
    "import random"
   ]
  },
  {
   "cell_type": "markdown",
   "metadata": {},
   "source": [
    "Next, we define the list of parameter values needed."
   ]
  },
  {
   "cell_type": "code",
   "execution_count": 2,
   "metadata": {},
   "outputs": [],
   "source": [
    "L = 150\n",
    "S_0 = 100\n",
    "K = S_0\n",
    "V_0 = 200\n",
    "D = 175\n",
    "gamma = 0.75\n",
    "sigma = 0.3\n",
    "correlation = 0.2\n",
    "recovery_rate = 0.25\n",
    "n_simulations = 100000\n",
    "dt = 1/12"
   ]
  },
  {
   "cell_type": "markdown",
   "metadata": {},
   "source": [
    "# Calibration\n",
    "\n",
    "We are first going to calibrate the LFMM using the observed zero coupon bond prices. \n",
    "\n",
    "The jth forward rate at time t can be defined as\n",
    "\n",
    "$F_j(t) = \\frac{P_j(t)-P_{j+1}(t)}{\\delta_t P_{j+1}(t)}$\n",
    "\n",
    "We are going to use this formula to calibrate and obtain the initial forward rates, which will be used to simulate future rates as in the LFMM model."
   ]
  },
  {
   "cell_type": "code",
   "execution_count": 3,
   "metadata": {},
   "outputs": [],
   "source": [
    "def bondPricesToInitialForwardRates(bond_prices, n_steps):\n",
    "    return np.ones([n_simulations, n_steps - 1]) * (bond_prices[:-1] - bond_prices[1:])/(dt * bond_prices[1:])"
   ]
  },
  {
   "cell_type": "code",
   "execution_count": 4,
   "metadata": {},
   "outputs": [],
   "source": [
    "bond_prices = np.array([100, 99.38, 98.76, 98.15, 97.54, 96.94, 96.34, 95.74, 95.16, 94.57, 93.99, 93.42, 92.85])\n",
    "n_steps = len(bond_prices) \n",
    "\n",
    "forward_rates = bondPricesToInitialForwardRates(bond_prices, n_steps)"
   ]
  },
  {
   "cell_type": "markdown",
   "metadata": {},
   "source": [
    "# Interest Rate - LIBOR Forward Market Model (LFMM)\n",
    "\n",
    "The LFMM says that the forward rate evolves according to the following formula\n",
    "\n",
    "$F_j(t_i) = F_j(t_{i-1})exp[(\\mu_j(t_{i-1})-\\frac{1}{2}\\sigma^2)\\delta_{i-1} + \\sigma_j\\sqrt{\\delta_{i-1}}Z_i]$\n",
    "\n",
    "where\n",
    "\n",
    "$\\mu_j(t_{i-1}) \\ \\sum_{k=i}^j \\frac{\\delta_k F_j(t_{i-1})\\sigma_k\\sigma_j}{1+\\delta_kF_j(t_{i-1})}$\n",
    "\n",
    "which can be written as"
   ]
  },
  {
   "cell_type": "code",
   "execution_count": 5,
   "metadata": {},
   "outputs": [],
   "source": [
    "def getMu(forward_rates, delta, sigma_j, sigma_k):\n",
    "    return np.cumsum(delta * forward_rates * sigma_j * sigma_k/(1 + delta * forward_rates), axis=1)\n",
    "\n",
    "def getInitialNextForwardEstimate(forward_rates, mu, sigma, delta, Z):\n",
    "    return forward_rates * np.exp((mu - (sigma**2)/2) * delta + sigma * np.sqrt(delta) * Z)\n"
   ]
  },
  {
   "cell_type": "markdown",
   "metadata": {},
   "source": [
    "However, to improve the accuracy, we will use the Predictor-Corrector method which involves estimating the next period's drift and then taking the average. Hence, the final estimate of the forward rate is given by:\n",
    "\n",
    "$F_j(t_i) = F_j(t_{i-1})exp[\\frac{1}{2}(\\mu_j(t_{i-1})+\\mu_j(t_i)-\\sigma^2)\\delta_{i-1} + \\sigma_j\\sqrt{\\delta_{i-1}}Z_i]$\n",
    "\n",
    "This final estimate is written as:"
   ]
  },
  {
   "cell_type": "code",
   "execution_count": 6,
   "metadata": {},
   "outputs": [],
   "source": [
    "def getFinalNextForward(forward_rates, mu1, mu2, sigma, delta, Z):\n",
    "    return forward_rates * np.exp(0.5 * (mu1 + mu2 - sigma**2) * delta + sigma * np.sqrt(delta) * Z)"
   ]
  },
  {
   "cell_type": "markdown",
   "metadata": {},
   "source": [
    "Furthermore, the continuously compounded interest rate can be derived from the LIBOR forward rate as follows:\n",
    "\n",
    "$e^{r_{ti}(t_{i+1}-t_i)} = 1 + L(t_i, t_{i+1})(t_{i+1} - t_i)$"
   ]
  },
  {
   "cell_type": "code",
   "execution_count": 7,
   "metadata": {},
   "outputs": [],
   "source": [
    "def liborToContinuousRate(libor, dt):\n",
    "    return 1 + (libor * dt)"
   ]
  },
  {
   "cell_type": "markdown",
   "metadata": {},
   "source": [
    "# Volatility - CEV Model\n",
    "\n",
    "We will be using the CEV model to represent volatility, which is given by\n",
    "\n",
    "$\\sigma(t_i, t_{i+1}) = \\sigma(S_{it})^{\\gamma-1}$"
   ]
  },
  {
   "cell_type": "code",
   "execution_count": 8,
   "metadata": {},
   "outputs": [],
   "source": [
    "def getVolatility(S_t, gamma, sigma):\n",
    "    return sigma * S_t**(gamma - 1)"
   ]
  },
  {
   "cell_type": "markdown",
   "metadata": {},
   "source": [
    "# Stock Price Model\n",
    "\n",
    "We assume the following lognormal evolution of stock price/firm value:\n",
    "\n",
    "$S_{t_{i+1}} = S_{t_i}exp[(r - \\frac{\\sigma^2(t_i, t_{i+1})}{2})(t_{i+1}-t_i)+\\sigma(t_i, t_{i+1})\\sqrt{t_{i+1}-t_i}Z]$\n",
    "\n",
    "which can be re-written as\n",
    "\n",
    "$S_{t_{i+1}} = S_{t_i}exp[r(t_{i+1}-t_i)]exp[(- \\frac{\\sigma^2(t_i, t_{i+1})}{2})(t_{i+1}-t_i)+\\sigma(t_i, t_{i+1})\\sqrt{t_{i+1}-t_i}Z]$"
   ]
  },
  {
   "cell_type": "code",
   "execution_count": 9,
   "metadata": {},
   "outputs": [],
   "source": [
    "def getSharePrice(S_t, continuous_rate, sigma, dt, Z):\n",
    "    return S_t * continuous_rate * np.exp(-sigma**2/2 * dt + sigma * np.sqrt(dt) * Z)"
   ]
  },
  {
   "cell_type": "markdown",
   "metadata": {},
   "source": [
    "# Simulation"
   ]
  },
  {
   "cell_type": "markdown",
   "metadata": {},
   "source": [
    "First, we initialise the stock matrix and delta matrix."
   ]
  },
  {
   "cell_type": "code",
   "execution_count": 10,
   "metadata": {},
   "outputs": [],
   "source": [
    "delta = np.ones([n_simulations, n_steps - 1]) * dt\n",
    "stock = np.ones([n_simulations, n_steps]) * S_0"
   ]
  },
  {
   "cell_type": "markdown",
   "metadata": {},
   "source": [
    "We also need to define a method to reshape our data structure"
   ]
  },
  {
   "cell_type": "code",
   "execution_count": 11,
   "metadata": {},
   "outputs": [],
   "source": [
    "def reshape(input):\n",
    "    return np.array([input, ]).transpose()"
   ]
  },
  {
   "cell_type": "markdown",
   "metadata": {},
   "source": [
    "Then, we go to the actual simulation."
   ]
  },
  {
   "cell_type": "code",
   "execution_count": 12,
   "metadata": {},
   "outputs": [
    {
     "name": "stdout",
     "output_type": "stream",
     "text": [
      "Values for 1st Simulation only\n",
      "\n",
      "Volatility at time 1: [0.09486833]\n",
      "Forward Rates at time 1: [0.07337192 0.07383288 0.07309383 0.07355129 0.07279364 0.07324733\n",
      " 0.07370671 0.07168441 0.07337562 0.07257741 0.07176159 0.07220246]\n",
      "First LIBOR rate at time 1: 0.07337192220438378\n",
      "Continuos rate at time 1: [1.00611433]\n",
      "Stock Price at time 1: [98.40435097]\n",
      "\n",
      "\n",
      "Volatility at time 2: [0.09525059]\n",
      "Forward Rates at time 2: [0.07390313 0.07316371 0.07362195 0.0728639  0.07331836 0.07377853\n",
      " 0.07175458 0.07344778 0.07264912 0.07183282 0.07227445]\n",
      "First LIBOR rate at time 2: 0.07390312883457212\n",
      "Continuos rate at time 2: [1.00615859]\n",
      "Stock Price at time 2: [101.25204729]\n",
      "\n",
      "\n",
      "Volatility at time 3: [0.09457368]\n",
      "Forward Rates at time 3: [0.06985576 0.07029359 0.06957012 0.07000435 0.07044403 0.06851185\n",
      " 0.07012884 0.06936658 0.06858746 0.06900944]\n",
      "First LIBOR rate at time 3: 0.06985575939872646\n",
      "Continuos rate at time 3: [1.00582131]\n",
      "Stock Price at time 3: [98.88339599]\n",
      "\n",
      "\n",
      "Volatility at time 4: [0.09513502]\n",
      "Forward Rates at time 4: [0.07054836 0.06982257 0.07025869 0.07070028 0.06876137 0.07038456\n",
      " 0.06961981 0.06883814 0.06926197]\n",
      "First LIBOR rate at time 4: 0.07054836045183786\n",
      "Continuos rate at time 4: [1.00587903]\n",
      "Stock Price at time 4: [99.7888929]\n",
      "\n",
      "\n",
      "Volatility at time 5: [0.09491846]\n",
      "Forward Rates at time 5: [0.06832037 0.0687474  0.06917979 0.06728286 0.06887145 0.06812344\n",
      " 0.06735886 0.06777386]\n",
      "First LIBOR rate at time 5: 0.06832037023098408\n",
      "Continuos rate at time 5: [1.00569336]\n",
      "Stock Price at time 5: [99.9253956]\n",
      "\n",
      "\n",
      "Volatility at time 6: [0.09488603]\n",
      "Forward Rates at time 6: [0.06921891 0.06965457 0.0677449  0.0693447  0.06859184 0.06782228\n",
      " 0.06824043]\n",
      "First LIBOR rate at time 6: 0.06921890846973548\n",
      "Continuos rate at time 6: [1.00576824]\n",
      "Stock Price at time 6: [97.70575878]\n",
      "\n",
      "\n",
      "Volatility at time 7: [0.0954204]\n",
      "Forward Rates at time 7: [0.06803903 0.06617394 0.06773693 0.06700181 0.06625037 0.06665911]\n",
      "First LIBOR rate at time 7: 0.06803902929909852\n",
      "Continuos rate at time 7: [1.00566992]\n",
      "Stock Price at time 7: [96.57090257]\n",
      "\n",
      "\n",
      "Volatility at time 8: [0.0956995]\n",
      "Forward Rates at time 8: [0.06914413 0.07077759 0.07000977 0.0692249  0.06965229]\n",
      "First LIBOR rate at time 8: 0.06914413336960695\n",
      "Continuos rate at time 8: [1.00576201]\n",
      "Stock Price at time 8: [97.68576988]\n",
      "\n",
      "\n",
      "Volatility at time 9: [0.09542528]\n",
      "Forward Rates at time 9: [0.07020134 0.06944008 0.06866189 0.0690861 ]\n",
      "First LIBOR rate at time 9: 0.07020133559960154\n",
      "Continuos rate at time 9: [1.00585011]\n",
      "Stock Price at time 9: [98.232441]\n",
      "\n",
      "\n",
      "Volatility at time 10: [0.09529224]\n",
      "Forward Rates at time 10: [0.0686223  0.06785356 0.06827308]\n",
      "First LIBOR rate at time 10: 0.0686222957856431\n",
      "Continuos rate at time 10: [1.00571852]\n",
      "Stock Price at time 10: [92.94561545]\n",
      "\n",
      "\n",
      "Volatility at time 11: [0.09661933]\n",
      "Forward Rates at time 11: [0.07122577 0.07166645]\n",
      "First LIBOR rate at time 11: 0.07122576733252697\n",
      "Continuos rate at time 11: [1.00593548]\n",
      "Stock Price at time 11: [94.34490096]\n",
      "\n",
      "\n",
      "Volatility at time 12: [0.09625907]\n",
      "Forward Rates at time 12: [0.06833466]\n",
      "First LIBOR rate at time 12: 0.0683346578938482\n",
      "Continuos rate at time 12: [1.00569455]\n",
      "Stock Price at time 12: [99.06874478]\n",
      "\n",
      "\n"
     ]
    }
   ],
   "source": [
    "print(\"Values for 1st Simulation only\\n\")\n",
    "\n",
    "for i in range(0, 12):\n",
    "    #each iteration is a point in time, estimating for 12 forward rates\n",
    "    forward_Z = norm.rvs(size = [n_simulations, 1])\n",
    "    stock_Z = norm.rvs(size = [n_simulations, 1])\n",
    "    \n",
    "    S_t_minus_one = stock[:, i]\n",
    "    forward_rates_t = forward_rates[:, i:]\n",
    "    delta_t = delta[:, i:]\n",
    "    \n",
    "    sigma_new = getVolatility(S_t_minus_one, gamma, sigma)\n",
    "    #duplicate the sigma across more columns as the same sigma will be used to calculate the other forward rates \n",
    "    sigma_new_transposed = np.array([sigma_new,] * (n_steps - (i + 1))).transpose() \n",
    "    \n",
    "    mu_initial = getMu(forward_rates_t, delta_t, sigma_new_transposed, sigma_new_transposed)\n",
    "    forward_temp = getInitialNextForwardEstimate(forward_rates_t, mu_initial, sigma_new_transposed, delta_t, forward_Z)\n",
    "    mu_next = getMu(forward_temp, delta_t, sigma_new_transposed, sigma_new_transposed)\n",
    "    final_forwards = getFinalNextForward(forward_rates_t, mu_initial, mu_next, sigma_new_transposed, delta_t, forward_Z)\n",
    "    forward_rates[:,i:] = final_forwards\n",
    "    \n",
    "    first_libor_rate = forward_rates[:,i]\n",
    "    continuous_rate = liborToContinuousRate(first_libor_rate, dt)\n",
    "    \n",
    "    continuous_rate = reshape(continuous_rate)\n",
    "    sigma_new = reshape(sigma_new)\n",
    "    S_t_minus_one = reshape(S_t_minus_one)\n",
    "    S_t = getSharePrice(S_t_minus_one, continuous_rate, sigma_new, dt, stock_Z)\n",
    "    stock[:, i + 1] = S_t[:,0]\n",
    "    \n",
    "    print(\"Volatility at time \" + str(i+1) + \": \" + str(sigma_new[0]))\n",
    "    print(\"Forward Rates at time \" + str(i+1) + \": \" + str(final_forwards[0]))\n",
    "    print(\"First LIBOR rate at time \" + str(i+1) + \": \" + str(first_libor_rate[0]))\n",
    "    print(\"Continuos rate at time \" + str(i+1) + \": \" + str(continuous_rate[0]))\n",
    "    print(\"Stock Price at time \" + str(i+1) + \": \" + str(S_t[0]))\n",
    "    print(\"\\n\")"
   ]
  }
 ],
 "metadata": {
  "kernelspec": {
   "display_name": "Python 3",
   "language": "python",
   "name": "python3"
  },
  "language_info": {
   "codemirror_mode": {
    "name": "ipython",
    "version": 3
   },
   "file_extension": ".py",
   "mimetype": "text/x-python",
   "name": "python",
   "nbconvert_exporter": "python",
   "pygments_lexer": "ipython3",
   "version": "3.7.4"
  }
 },
 "nbformat": 4,
 "nbformat_minor": 2
}
