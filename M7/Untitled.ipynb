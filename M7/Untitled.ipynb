{
 "cells": [
  {
   "cell_type": "markdown",
   "metadata": {},
   "source": [
    "In this project, we will be using the LIBOR Forward Market Model(LFMM) to simulate the forward rates.\n",
    "\n",
    "First, we import the necessary libraries needed for the code."
   ]
  },
  {
   "cell_type": "code",
   "execution_count": 1,
   "metadata": {},
   "outputs": [],
   "source": [
    "import numpy as np\n",
    "from scipy.stats import norm\n",
    "import matplotlib.pyplot as plt\n",
    "import random"
   ]
  },
  {
   "cell_type": "markdown",
   "metadata": {},
   "source": [
    "Next, we define the list of parameter values needed."
   ]
  },
  {
   "cell_type": "code",
   "execution_count": 2,
   "metadata": {},
   "outputs": [],
   "source": [
    "L = 150\n",
    "S_0 = 100\n",
    "K = S_0\n",
    "V_0 = 200\n",
    "D = 175\n",
    "gamma = 0.75\n",
    "sigma = 0.3\n",
    "correlation = 0.2\n",
    "recovery_rate = 0.25\n",
    "n_simulations = 100000\n",
    "dt = 1/12"
   ]
  },
  {
   "cell_type": "markdown",
   "metadata": {},
   "source": [
    "# Calibration\n",
    "\n",
    "We are first going to calibrate the LFMM using the observed zero coupon bond prices. \n",
    "\n",
    "The jth forward rate at time t can be defined as\n",
    "\n",
    "$F_j(t) = \\frac{P_j(t)-P_{j+1}(t)}{\\delta_t P_{j+1}(t)}$\n",
    "\n",
    "We are going to use this formula to calibrate and obtain the initial forward rates, which will be used to simulate future rates as in the LFMM model."
   ]
  },
  {
   "cell_type": "code",
   "execution_count": 3,
   "metadata": {},
   "outputs": [],
   "source": [
    "def bondPricesToInitialForwardRates(bond_prices, n_steps):\n",
    "    return np.ones([n_simulations, n_steps - 1]) * (bond_prices[:-1] - bond_prices[1:])/(dt * bond_prices[1:])"
   ]
  },
  {
   "cell_type": "code",
   "execution_count": 4,
   "metadata": {},
   "outputs": [],
   "source": [
    "bond_prices = np.array([100, 99.38, 98.76, 98.15, 97.54, 96.94, 96.34, 95.74, 95.16, 94.57, 93.99, 93.42, 92.85])\n",
    "n_steps = len(bond_prices) \n",
    "\n",
    "forward_rates = bondPricesToInitialForwardRates(bond_prices, n_steps)"
   ]
  },
  {
   "cell_type": "markdown",
   "metadata": {},
   "source": [
    "# Interest Rate - LIBOR Forward Market Model (LFMM)\n",
    "\n",
    "The LFMM says that the forward rate evolves according to the following formula\n",
    "\n",
    "$F_j(t_i) = F_j(t_{i-1})exp[(\\mu_j(t_{i-1})-\\frac{1}{2}\\sigma^2)\\delta_{i-1} + \\sigma_j\\sqrt{\\delta_{i-1}}Z_i]$\n",
    "\n",
    "where\n",
    "\n",
    "$\\mu_j(t_{i-1}) \\ \\sum_{k=i}^j \\frac{\\delta_k F_j(t_{i-1})\\sigma_k\\sigma_j}{1+\\delta_kF_j(t_{i-1})}$\n",
    "\n",
    "which can be written as"
   ]
  },
  {
   "cell_type": "code",
   "execution_count": 5,
   "metadata": {},
   "outputs": [],
   "source": [
    "def getMu(forward_rates, delta, sigma_j, sigma_k):\n",
    "    return np.cumsum(delta * forward_rates * sigma_j * sigma_k/(1 + delta * forward_rates), axis=1)\n",
    "\n",
    "def getInitialNextForwardEstimate(forward_rates, mu, sigma, delta, Z):\n",
    "    return forward_rates * np.exp((mu - (sigma**2)/2) * delta + sigma * np.sqrt(delta) * Z)\n"
   ]
  },
  {
   "cell_type": "markdown",
   "metadata": {},
   "source": [
    "However, to improve the accuracy, we will use the Predictor-Corrector method which involves estimating the next period's drift and then taking the average. Hence, the final estimate of the forward rate is given by:\n",
    "\n",
    "$F_j(t_i) = F_j(t_{i-1})exp[\\frac{1}{2}(\\mu_j(t_{i-1})+\\mu_j(t_i)-\\sigma^2)\\delta_{i-1} + \\sigma_j\\sqrt{\\delta_{i-1}}Z_i]$\n",
    "\n",
    "This final estimate is written as:"
   ]
  },
  {
   "cell_type": "code",
   "execution_count": 6,
   "metadata": {},
   "outputs": [],
   "source": [
    "def getFinalNextForward(forward_rates, mu1, mu2, sigma, delta, Z):\n",
    "    return forward_rates * np.exp((mu1 + mu2 - sigma**2/2) * delta/2 + sigma * np.sqrt(delta) * Z)"
   ]
  },
  {
   "cell_type": "markdown",
   "metadata": {},
   "source": [
    "Furthermore, the continuously compounded interest rate can be derived from the LIBOR forward rate as follows:\n",
    "\n",
    "$e^{r_{ti}(t_{i+1}-t_i)} = 1 + L(t_i, t_{i+1})(t_{i+1} - t_i)$"
   ]
  },
  {
   "cell_type": "code",
   "execution_count": 7,
   "metadata": {},
   "outputs": [],
   "source": [
    "def liborToContinuousRate(libor, dt):\n",
    "    return 1 + (libor * dt)"
   ]
  },
  {
   "cell_type": "markdown",
   "metadata": {},
   "source": [
    "# Volatility - CEV Model\n",
    "\n",
    "We will be using the CEV model to represent volatility, which is given by\n",
    "\n",
    "$\\sigma(t_i, t_{i+1}) = \\sigma(S_{it})^{\\gamma-1}$"
   ]
  },
  {
   "cell_type": "code",
   "execution_count": 8,
   "metadata": {},
   "outputs": [],
   "source": [
    "def getVolatility(S_t, gamma, sigma):\n",
    "    return sigma * S_t**(gamma - 1)"
   ]
  },
  {
   "cell_type": "markdown",
   "metadata": {},
   "source": [
    "# Stock Price Model\n",
    "\n",
    "We assume the following lognormal evolution of stock price/firm value:\n",
    "\n",
    "$S_{t_{i+1}} = S_{t_i}exp[(r - \\frac{\\sigma^2(t_i, t_{i+1})}{2})(t_{i+1}-t_i)+\\sigma(t_i, t_{i+1})\\sqrt{t_{i+1}-t_i}Z]$\n",
    "\n",
    "which can be re-written as\n",
    "\n",
    "$S_{t_{i+1}} = S_{t_i}exp[r(t_{i+1}-t_i)]exp[(- \\frac{\\sigma^2(t_i, t_{i+1})}{2})(t_{i+1}-t_i)+\\sigma(t_i, t_{i+1})\\sqrt{t_{i+1}-t_i}Z]$"
   ]
  },
  {
   "cell_type": "code",
   "execution_count": 9,
   "metadata": {},
   "outputs": [],
   "source": [
    "def getSharePrice(S_t, continuous_rate, sigma, dt, Z):\n",
    "    return S_t * continuous_rate * np.exp(-sigma**2/2 * dt + sigma * np.sqrt(dt) * Z)"
   ]
  },
  {
   "cell_type": "markdown",
   "metadata": {},
   "source": [
    "# Simulation"
   ]
  },
  {
   "cell_type": "markdown",
   "metadata": {},
   "source": [
    "First, we initialise the stock matrix and delta matrix."
   ]
  },
  {
   "cell_type": "code",
   "execution_count": 10,
   "metadata": {},
   "outputs": [],
   "source": [
    "delta = np.ones([n_simulations, n_steps - 1]) * dt\n",
    "stock = np.ones([n_simulations, n_steps]) * S_0"
   ]
  },
  {
   "cell_type": "markdown",
   "metadata": {},
   "source": [
    "We also need to define a method to reshape our data structure"
   ]
  },
  {
   "cell_type": "code",
   "execution_count": 11,
   "metadata": {},
   "outputs": [],
   "source": [
    "def reshape(input):\n",
    "    return np.array([input, ]).transpose()"
   ]
  },
  {
   "cell_type": "markdown",
   "metadata": {},
   "source": [
    "Then, we go to the actual simulation."
   ]
  },
  {
   "cell_type": "code",
   "execution_count": 12,
   "metadata": {},
   "outputs": [
    {
     "name": "stdout",
     "output_type": "stream",
     "text": [
      "Values for 1st Simulation only\n",
      "\n",
      "Volatility at time 1: [0.09486833]\n",
      "Forward Rates at time 1: [0.07230567 0.07275993 0.07203162 0.07248243 0.07173578 0.07218288\n",
      " 0.07263558 0.07064267 0.0723093  0.07152269 0.07071872 0.07115318]\n",
      "First LIBOR rate at time 1: 0.0723056743412819\n",
      "Continuos rate at time 1: [1.00602547]\n",
      "Stock Price at time 1: [102.73983]\n",
      "\n",
      "\n",
      "Volatility at time 2: [0.09422943]\n",
      "Forward Rates at time 2: [0.07049971 0.06979433 0.07023144 0.06950829 0.0699418  0.07038076\n",
      " 0.06845    0.0700652  0.06930331 0.06852458 0.06894585]\n",
      "First LIBOR rate at time 2: 0.07049971404568307\n",
      "Continuos rate at time 2: [1.00587498]\n",
      "Stock Price at time 2: [104.81297663]\n",
      "\n",
      "\n",
      "Volatility at time 3: [0.09375998]\n",
      "Forward Rates at time 3: [0.06657565 0.06699288 0.06630335 0.06671715 0.06713615 0.06529467\n",
      " 0.06683569 0.06610918 0.06536661 0.06576874]\n",
      "First LIBOR rate at time 3: 0.06657565104883356\n",
      "Continuos rate at time 3: [1.00554797]\n",
      "Stock Price at time 3: [101.2743586]\n",
      "\n",
      "\n",
      "Volatility at time 4: [0.09456847]\n",
      "Forward Rates at time 4: [0.05667945 0.05609628 0.0564466  0.05680131 0.05524351 0.05654753\n",
      " 0.05593307 0.05530501 0.05564545]\n",
      "First LIBOR rate at time 4: 0.05667945440650396\n",
      "Continuos rate at time 4: [1.00472329]\n",
      "Stock Price at time 4: [106.15833269]\n",
      "\n",
      "\n",
      "Volatility at time 5: [0.0934615]\n",
      "Forward Rates at time 5: [0.06041597 0.06079348 0.06117572 0.05949816 0.06090283 0.06024125\n",
      " 0.05956502 0.05993189]\n",
      "First LIBOR rate at time 5: 0.06041596955648249\n",
      "Continuos rate at time 5: [1.00503466]\n",
      "Stock Price at time 5: [107.78601676]\n",
      "\n",
      "\n",
      "Volatility at time 6: [0.09310664]\n",
      "Forward Rates at time 6: [0.06980476 0.07024394 0.06831796 0.06993113 0.06917174 0.06839553\n",
      " 0.06881705]\n",
      "First LIBOR rate at time 6: 0.06980475703940565\n",
      "Continuos rate at time 6: [1.00581706]\n",
      "Stock Price at time 6: [103.35216056]\n",
      "\n",
      "\n",
      "Volatility at time 7: [0.09408954]\n",
      "Forward Rates at time 7: [0.0629297  0.06120451 0.06264996 0.06196989 0.06127473 0.06165262]\n",
      "First LIBOR rate at time 7: 0.06292969641075416\n",
      "Continuos rate at time 7: [1.00524414]\n",
      "Stock Price at time 7: [101.13431401]\n",
      "\n",
      "\n",
      "Volatility at time 8: [0.09460119]\n",
      "Forward Rates at time 8: [0.06023083 0.06165352 0.0609845  0.06030063 0.06067273]\n",
      "First LIBOR rate at time 8: 0.06023083049728548\n",
      "Continuos rate at time 8: [1.00501924]\n",
      "Stock Price at time 8: [102.45978945]\n",
      "\n",
      "\n",
      "Volatility at time 9: [0.09429375]\n",
      "Forward Rates at time 9: [0.06205232 0.0613792  0.06069113 0.06106587]\n",
      "First LIBOR rate at time 9: 0.06205232232507303\n",
      "Continuos rate at time 9: [1.00517103]\n",
      "Stock Price at time 9: [107.63544431]\n",
      "\n",
      "\n",
      "Volatility at time 10: [0.09313918]\n",
      "Forward Rates at time 10: [0.05512538 0.0545076  0.05484435]\n",
      "First LIBOR rate at time 10: 0.055125378840366085\n",
      "Continuos rate at time 10: [1.00459378]\n",
      "Stock Price at time 10: [106.98071689]\n",
      "\n",
      "\n",
      "Volatility at time 11: [0.09328136]\n",
      "Forward Rates at time 11: [0.0491304  0.04943408]\n",
      "First LIBOR rate at time 11: 0.049130395567675705\n",
      "Continuos rate at time 11: [1.0040942]\n",
      "Stock Price at time 11: [103.78206663]\n",
      "\n",
      "\n",
      "Volatility at time 12: [0.09399195]\n",
      "Forward Rates at time 12: [0.04560748]\n",
      "First LIBOR rate at time 12: 0.04560747649268317\n",
      "Continuos rate at time 12: [1.00380062]\n",
      "Stock Price at time 12: [104.38960121]\n",
      "\n",
      "\n"
     ]
    }
   ],
   "source": [
    "print(\"Values for 1st Simulation only\\n\")\n",
    "\n",
    "for i in range(0, 12):\n",
    "    #each iteration is a point in time, estimating for 12 forward rates\n",
    "    forward_Z = norm.rvs(size = [n_simulations, 1])\n",
    "    stock_Z = norm.rvs(size = [n_simulations, 1])\n",
    "    \n",
    "    S_t_minus_one = stock[:, i]\n",
    "    forward_rates_t = forward_rates[:, i:]\n",
    "    delta_t = delta[:, i:]\n",
    "    \n",
    "    sigma_new = getVolatility(S_t_minus_one, gamma, sigma)\n",
    "    #duplicate the sigma across more columns as the same sigma will be used to calculate the other forward rates \n",
    "    sigma_new_transposed = np.array([sigma_new,] * (n_steps - (i + 1))).transpose() \n",
    "    \n",
    "    mu_initial = getMu(forward_rates_t, delta_t, sigma_new_transposed, sigma_new_transposed)\n",
    "    forward_temp = getInitialNextForwardEstimate(forward_rates_t, mu_initial, sigma, delta_t, forward_Z)\n",
    "    mu_next = getMu(forward_temp, delta_t, sigma_new_transposed, sigma_new_transposed)\n",
    "    final_forwards = getFinalNextForward(forward_rates_t, mu_initial, mu_next, sigma, delta_t, forward_Z)\n",
    "    forward_rates[:,i:] = final_forwards\n",
    "    \n",
    "    first_libor_rate = forward_rates[:,i]\n",
    "    continuous_rate = liborToContinuousRate(first_libor_rate, dt)\n",
    "    \n",
    "    continuous_rate = reshape(continuous_rate)\n",
    "    sigma_new = reshape(sigma_new)\n",
    "    S_t_minus_one = reshape(S_t_minus_one)\n",
    "    S_t = getSharePrice(S_t_minus_one, continuous_rate, sigma_new, dt, stock_Z)\n",
    "    stock[:, i + 1] = S_t[:,0]\n",
    "    \n",
    "    print(\"Volatility at time \" + str(i+1) + \": \" + str(sigma_new[0]))\n",
    "    print(\"Forward Rates at time \" + str(i+1) + \": \" + str(final_forwards[0]))\n",
    "    print(\"First LIBOR rate at time \" + str(i+1) + \": \" + str(first_libor_rate[0]))\n",
    "    print(\"Continuos rate at time \" + str(i+1) + \": \" + str(continuous_rate[0]))\n",
    "    print(\"Stock Price at time \" + str(i+1) + \": \" + str(S_t[0]))\n",
    "    print(\"\\n\")"
   ]
  },
  {
   "cell_type": "code",
   "execution_count": null,
   "metadata": {},
   "outputs": [],
   "source": []
  }
 ],
 "metadata": {
  "kernelspec": {
   "display_name": "Python 3",
   "language": "python",
   "name": "python3"
  },
  "language_info": {
   "codemirror_mode": {
    "name": "ipython",
    "version": 3
   },
   "file_extension": ".py",
   "mimetype": "text/x-python",
   "name": "python",
   "nbconvert_exporter": "python",
   "pygments_lexer": "ipython3",
   "version": "3.7.4"
  }
 },
 "nbformat": 4,
 "nbformat_minor": 2
}
