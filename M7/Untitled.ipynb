{
 "cells": [
  {
   "cell_type": "markdown",
   "metadata": {},
   "source": [
    "In this project, we will be using the LIBOR Forward Market Model(LFMM) to simulate the forward rates.\n",
    "\n",
    "First, we import the necessary libraries needed for the code."
   ]
  },
  {
   "cell_type": "code",
   "execution_count": 1,
   "metadata": {},
   "outputs": [],
   "source": [
    "import numpy as np\n",
    "from scipy.stats import norm\n",
    "import matplotlib.pyplot as plt\n",
    "import random"
   ]
  },
  {
   "cell_type": "markdown",
   "metadata": {},
   "source": [
    "Next, we define the list of parameter values needed."
   ]
  },
  {
   "cell_type": "code",
   "execution_count": 2,
   "metadata": {},
   "outputs": [],
   "source": [
    "L = 150\n",
    "S_0 = 100\n",
    "K = S_0\n",
    "V_0 = 200\n",
    "D = 175\n",
    "gamma = 0.75\n",
    "sigma = 0.3\n",
    "correlation = 0.2\n",
    "recovery_rate = 0.25\n",
    "n_simulations = 100000\n",
    "dt = 1/12"
   ]
  },
  {
   "cell_type": "markdown",
   "metadata": {},
   "source": [
    "# Calibration\n",
    "\n",
    "We are first going to calibrate the LFMM using the observed zero coupon bond prices. \n",
    "\n",
    "The jth forward rate at time t can be defined as\n",
    "\n",
    "$F_j(t) = \\frac{P_j(t)-P_{j+1}(t)}{\\delta_t P_{j+1}(t)}$\n",
    "\n",
    "We are going to use this formula to calibrate and obtain the initial forward rates, which will be used to simulate future rates as in the LFMM model."
   ]
  },
  {
   "cell_type": "code",
   "execution_count": 3,
   "metadata": {},
   "outputs": [],
   "source": [
    "def bondPricesToInitialForwardRates(bond_prices, n_steps):\n",
    "    return np.ones([n_simulations, n_steps - 1]) * (bond_prices[:-1] - bond_prices[1:])/(dt * bond_prices[1:])"
   ]
  },
  {
   "cell_type": "code",
   "execution_count": 4,
   "metadata": {},
   "outputs": [],
   "source": [
    "bond_prices = np.array([100, 99.38, 98.76, 98.15, 97.54, 96.94, 96.34, 95.74, 95.16, 94.57, 93.99, 93.42, 92.85])\n",
    "n_steps = len(bond_prices) \n",
    "\n",
    "forward_rates = bondPricesToInitialForwardRates(bond_prices, n_steps)"
   ]
  },
  {
   "cell_type": "markdown",
   "metadata": {},
   "source": [
    "# Interest Rate - LIBOR Forward Market Model (LFMM)\n",
    "\n",
    "The LFMM says that the forward rate evolves according to the following formula\n",
    "\n",
    "$F_j(t_i) = F_j(t_{i-1})exp[(\\mu_j(t_{i-1})-\\frac{1}{2}\\sigma^2)\\delta_{i-1} + \\sigma_j\\sqrt{\\delta_{i-1}}Z_i]$\n",
    "\n",
    "where\n",
    "\n",
    "$\\mu_j(t_{i-1}) \\ \\sum_{k=i}^j \\frac{\\delta_k F_j(t_{i-1})\\sigma_k\\sigma_j}{1+\\delta_kF_j(t_{i-1})}$\n",
    "\n",
    "which can be written as"
   ]
  },
  {
   "cell_type": "code",
   "execution_count": 5,
   "metadata": {},
   "outputs": [],
   "source": [
    "def getMu(forward_rates, delta, sigma_j, sigma_k):\n",
    "    return np.cumsum(delta * forward_rates * sigma_j * sigma_k/(1 + delta * forward_rates), axis=1)\n",
    "\n",
    "def getInitialNextForwardEstimate(forward_rates, mu, sigma, delta, Z):\n",
    "    return forward_rates * np.exp((mu - (sigma**2)/2) * delta + sigma * np.sqrt(delta) * Z)\n"
   ]
  },
  {
   "cell_type": "markdown",
   "metadata": {},
   "source": [
    "However, to improve the accuracy, we will use the Predictor-Corrector method which involves estimating the next period's drift and then taking the average. Hence, the final estimate of the forward rate is given by:\n",
    "\n",
    "$F_j(t_i) = F_j(t_{i-1})exp[\\frac{1}{2}(\\mu_j(t_{i-1})+\\mu_j(t_i)-\\sigma^2)\\delta_{i-1} + \\sigma_j\\sqrt{\\delta_{i-1}}Z_i]$\n",
    "\n",
    "This final estimate is written as:"
   ]
  },
  {
   "cell_type": "code",
   "execution_count": 6,
   "metadata": {},
   "outputs": [],
   "source": [
    "def getFinalNextForward(forward_rates, mu1, mu2, sigma, delta, Z):\n",
    "    return forward_rates * np.exp(0.5 * (mu1 + mu2 - sigma**2) * delta + sigma * np.sqrt(delta) * Z)"
   ]
  },
  {
   "cell_type": "markdown",
   "metadata": {},
   "source": [
    "Furthermore, the continuously compounded interest rate can be derived from the LIBOR forward rate as follows:\n",
    "\n",
    "$e^{r_{ti}(t_{i+1}-t_i)} = 1 + L(t_i, t_{i+1})(t_{i+1} - t_i)$"
   ]
  },
  {
   "cell_type": "code",
   "execution_count": 7,
   "metadata": {},
   "outputs": [],
   "source": [
    "def liborToContinuousRate(libor, dt):\n",
    "    return 1 + (libor * dt)"
   ]
  },
  {
   "cell_type": "markdown",
   "metadata": {},
   "source": [
    "# Volatility - CEV Model\n",
    "\n",
    "We will be using the CEV model to represent volatility, which is given by\n",
    "\n",
    "$\\sigma(t_i, t_{i+1}) = \\sigma(S_{it})^{\\gamma-1}$"
   ]
  },
  {
   "cell_type": "code",
   "execution_count": 8,
   "metadata": {},
   "outputs": [],
   "source": [
    "def getVolatility(S_t, gamma, sigma):\n",
    "    return sigma * S_t**(gamma - 1)"
   ]
  },
  {
   "cell_type": "markdown",
   "metadata": {},
   "source": [
    "# Stock Price Model\n",
    "\n",
    "We assume the following lognormal evolution of stock price/firm value:\n",
    "\n",
    "$S_{t_{i+1}} = S_{t_i}exp[(r - \\frac{\\sigma^2(t_i, t_{i+1})}{2})(t_{i+1}-t_i)+\\sigma(t_i, t_{i+1})\\sqrt{t_{i+1}-t_i}Z]$\n",
    "\n",
    "which can be re-written as\n",
    "\n",
    "$S_{t_{i+1}} = S_{t_i}exp[r(t_{i+1}-t_i)]exp[(- \\frac{\\sigma^2(t_i, t_{i+1})}{2})(t_{i+1}-t_i)+\\sigma(t_i, t_{i+1})\\sqrt{t_{i+1}-t_i}Z]$"
   ]
  },
  {
   "cell_type": "code",
   "execution_count": 9,
   "metadata": {},
   "outputs": [],
   "source": [
    "def getSharePrice(S_t, continuous_rate, sigma, dt, Z):\n",
    "    return S_t * continuous_rate * np.exp(-sigma**2/2 * dt + sigma * np.sqrt(dt) * Z)"
   ]
  },
  {
   "cell_type": "markdown",
   "metadata": {},
   "source": [
    "# Simulation"
   ]
  },
  {
   "cell_type": "markdown",
   "metadata": {},
   "source": [
    "First, we initialise the stock/firm matrix and delta matrix."
   ]
  },
  {
   "cell_type": "code",
   "execution_count": 10,
   "metadata": {},
   "outputs": [],
   "source": [
    "delta = np.ones([n_simulations, n_steps - 1]) * dt\n",
    "stock = np.ones([n_simulations, n_steps]) * S_0\n",
    "firm = np.ones([n_simulations, n_steps]) * S_0\n",
    "\n",
    "continuesRates = []\n",
    "volatilities = []"
   ]
  },
  {
   "cell_type": "markdown",
   "metadata": {},
   "source": [
    "We also need to define a method to reshape our data structure"
   ]
  },
  {
   "cell_type": "code",
   "execution_count": 11,
   "metadata": {},
   "outputs": [],
   "source": [
    "def reshape(input):\n",
    "    return np.array([input, ]).transpose()"
   ]
  },
  {
   "cell_type": "markdown",
   "metadata": {},
   "source": [
    "Then, we go to the actual simulation."
   ]
  },
  {
   "cell_type": "code",
   "execution_count": 12,
   "metadata": {},
   "outputs": [
    {
     "name": "stdout",
     "output_type": "stream",
     "text": [
      "Values for 1st Simulation only\n",
      "\n",
      "Volatility at time 1: [0.09486833]\n",
      "Forward Rates at time 1: [0.07375952 0.07422292 0.07347996 0.07393984 0.07317819 0.07363428\n",
      " 0.07409608 0.0720631  0.07376324 0.07296082 0.07214069 0.07258389]\n",
      "First LIBOR rate at time 1: 0.0737595214588525\n",
      "Continuos rate at time 1: [1.00614663]\n",
      "Stock Price at time 1: [98.93783684]\n",
      "Firm Value at time 1: [98.61867287]\n",
      "\n",
      "\n",
      "Volatility at time 2: [0.09512193]\n",
      "Forward Rates at time 2: [0.07624498 0.07548214 0.0759549  0.07517284 0.07564171 0.07611647\n",
      " 0.07402839 0.07577525 0.07495129 0.07410913 0.07456476]\n",
      "First LIBOR rate at time 2: 0.07624498255825873\n",
      "Continuos rate at time 2: [1.00635375]\n",
      "Stock Price at time 2: [100.9870112]\n",
      "Firm Value at time 2: [98.9402104]\n",
      "\n",
      "\n",
      "Volatility at time 3: [0.09463567]\n",
      "Forward Rates at time 3: [0.07353367 0.07399457 0.07323303 0.07369014 0.07415299 0.07211911\n",
      " 0.07382126 0.07301887 0.07219875 0.07264297]\n",
      "First LIBOR rate at time 3: 0.07353367214048977\n",
      "Continuos rate at time 3: [1.00612781]\n",
      "Stock Price at time 3: [103.63824087]\n",
      "Firm Value at time 3: [101.51802948]\n",
      "\n",
      "\n",
      "Volatility at time 4: [0.09402455]\n",
      "Forward Rates at time 4: [0.07723313 0.07643861 0.07691609 0.07739956 0.07527696 0.077054\n",
      " 0.07621682 0.07536112 0.07582514]\n",
      "First LIBOR rate at time 4: 0.07723313297610916\n",
      "Continuos rate at time 4: [1.00643609]\n",
      "Stock Price at time 4: [105.36731296]\n",
      "Firm Value at time 4: [100.49346189]\n",
      "\n",
      "\n",
      "Volatility at time 5: [0.09363642]\n",
      "Forward Rates at time 5: [0.0740781  0.07454118 0.07501006 0.07295332 0.07467585 0.07386485\n",
      " 0.07303588 0.07348591]\n",
      "First LIBOR rate at time 5: 0.07407810303045134\n",
      "Continuos rate at time 5: [1.00617318]\n",
      "Stock Price at time 5: [106.49225874]\n",
      "Firm Value at time 5: [103.69840795]\n",
      "\n",
      "\n",
      "Volatility at time 6: [0.09338814]\n",
      "Forward Rates at time 6: [0.07708644 0.0775717  0.07544505 0.07722676 0.07638841 0.07553146\n",
      " 0.07599721]\n",
      "First LIBOR rate at time 6: 0.0770864410840333\n",
      "Continuos rate at time 6: [1.00642387]\n",
      "Stock Price at time 6: [103.65504384]\n",
      "Firm Value at time 6: [106.30498864]\n",
      "\n",
      "\n",
      "Volatility at time 7: [0.09402074]\n",
      "Forward Rates at time 7: [0.07492593 0.07287215 0.07459345 0.07378401 0.07295661 0.07340682]\n",
      "First LIBOR rate at time 7: 0.07492593177748398\n",
      "Continuos rate at time 7: [1.00624383]\n",
      "Stock Price at time 7: [104.70079835]\n",
      "Firm Value at time 7: [112.1597288]\n",
      "\n",
      "\n",
      "Volatility at time 8: [0.09378508]\n",
      "Forward Rates at time 8: [0.06876528 0.07038988 0.06962636 0.06884588 0.06927102]\n",
      "First LIBOR rate at time 8: 0.06876527904322909\n",
      "Continuos rate at time 8: [1.00573044]\n",
      "Stock Price at time 8: [104.65050453]\n",
      "Firm Value at time 8: [116.2756326]\n",
      "\n",
      "\n",
      "Volatility at time 9: [0.09379635]\n",
      "Forward Rates at time 9: [0.06850855 0.06776573 0.06700638 0.06742044]\n",
      "First LIBOR rate at time 9: 0.06850855324059776\n",
      "Continuos rate at time 9: [1.00570905]\n",
      "Stock Price at time 9: [103.82931847]\n",
      "Firm Value at time 9: [116.62853088]\n",
      "\n",
      "\n",
      "Volatility at time 10: [0.09398126]\n",
      "Forward Rates at time 10: [0.07064114 0.06984986 0.07028179]\n",
      "First LIBOR rate at time 10: 0.07064113779779521\n",
      "Continuos rate at time 10: [1.00588676]\n",
      "Stock Price at time 10: [99.11575262]\n",
      "Firm Value at time 10: [112.61506006]\n",
      "\n",
      "\n",
      "Volatility at time 11: [0.09507921]\n",
      "Forward Rates at time 11: [0.06886289 0.06928901]\n",
      "First LIBOR rate at time 11: 0.06886288612771393\n",
      "Continuos rate at time 11: [1.00573857]\n",
      "Stock Price at time 11: [101.30698979]\n",
      "Firm Value at time 11: [113.24756749]\n",
      "\n",
      "\n",
      "Volatility at time 12: [0.09456086]\n",
      "Forward Rates at time 12: [0.06662051]\n",
      "First LIBOR rate at time 12: 0.06662051384769997\n",
      "Continuos rate at time 12: [1.00555171]\n",
      "Stock Price at time 12: [101.31321806]\n",
      "Firm Value at time 12: [114.41109305]\n",
      "\n",
      "\n"
     ]
    }
   ],
   "source": [
    "print(\"Values for 1st Simulation only\\n\")\n",
    "\n",
    "for i in range(0, 12):\n",
    "    #each iteration is a point in time, estimating for 12 forward rates\n",
    "    forward_Z = norm.rvs(size = [n_simulations, 1])\n",
    "    stock_Z = norm.rvs(size = [n_simulations, 1])\n",
    "    firm_Z = norm.rvs(size = [n_simulations, 1])\n",
    "    \n",
    "    S_t_minus_one = stock[:, i]\n",
    "    V_t_minus_one = firm[:, i]\n",
    "    forward_rates_t = forward_rates[:, i:]\n",
    "    delta_t = delta[:, i:]\n",
    "    \n",
    "    sigma_new = getVolatility(S_t_minus_one, gamma, sigma)\n",
    "    volatilities.append(sigma_new)\n",
    "    #duplicate the sigma across more columns as the same sigma will be used to calculate the other forward rates \n",
    "    sigma_new_transposed = np.array([sigma_new,] * (n_steps - (i + 1))).transpose() \n",
    "    \n",
    "    mu_initial = getMu(forward_rates_t, delta_t, sigma_new_transposed, sigma_new_transposed)\n",
    "    forward_temp = getInitialNextForwardEstimate(forward_rates_t, mu_initial, sigma_new_transposed, delta_t, forward_Z)\n",
    "    mu_next = getMu(forward_temp, delta_t, sigma_new_transposed, sigma_new_transposed)\n",
    "    final_forwards = getFinalNextForward(forward_rates_t, mu_initial, mu_next, sigma_new_transposed, delta_t, forward_Z)\n",
    "    forward_rates[:,i:] = final_forwards\n",
    "    \n",
    "    first_libor_rate = forward_rates[:,i]\n",
    "    continuous_rate = liborToContinuousRate(first_libor_rate, dt)\n",
    "    continuesRates.append(continuous_rate)\n",
    "    \n",
    "    continuous_rate = reshape(continuous_rate)\n",
    "    sigma_new = reshape(sigma_new)\n",
    "    S_t_minus_one = reshape(S_t_minus_one)\n",
    "    V_t_minus_one = reshape(V_t_minus_one)\n",
    "    S_t = getSharePrice(S_t_minus_one, continuous_rate, sigma_new, dt, stock_Z)\n",
    "    V_t = getSharePrice(V_t_minus_one, continuous_rate, sigma_new, dt, firm_Z)\n",
    "    stock[:, i + 1] = S_t[:,0]\n",
    "    firm[:, i + 1] = V_t[:,0]\n",
    "    \n",
    "    print(\"Volatility at time \" + str(i+1) + \": \" + str(sigma_new[0]))\n",
    "    print(\"Forward Rates at time \" + str(i+1) + \": \" + str(final_forwards[0]))\n",
    "    print(\"First LIBOR rate at time \" + str(i+1) + \": \" + str(first_libor_rate[0]))\n",
    "    print(\"Continuos rate at time \" + str(i+1) + \": \" + str(continuous_rate[0]))\n",
    "    print(\"Stock Price at time \" + str(i+1) + \": \" + str(S_t[0]))\n",
    "    print(\"Firm Value at time \" + str(i+1) + \": \" + str(V_t[0]))\n",
    "    print(\"\\n\")"
   ]
  }
 ],
 "metadata": {
  "kernelspec": {
   "display_name": "Python 3",
   "language": "python",
   "name": "python3"
  },
  "language_info": {
   "codemirror_mode": {
    "name": "ipython",
    "version": 3
   },
   "file_extension": ".py",
   "mimetype": "text/x-python",
   "name": "python",
   "nbconvert_exporter": "python",
   "pygments_lexer": "ipython3",
   "version": "3.7.4"
  }
 },
 "nbformat": 4,
 "nbformat_minor": 2
}
