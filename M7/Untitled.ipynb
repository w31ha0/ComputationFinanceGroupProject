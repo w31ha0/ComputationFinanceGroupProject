{
 "cells": [
  {
   "cell_type": "markdown",
   "metadata": {},
   "source": [
    "In this project, we will be using the LIBOR Forward Market Model(LFMM) to simulate the forward rates.\n",
    "\n",
    "First, we import the necessary libraries needed for the code."
   ]
  },
  {
   "cell_type": "code",
   "execution_count": 1,
   "metadata": {},
   "outputs": [],
   "source": [
    "import numpy as np\n",
    "from scipy.stats import norm\n",
    "import matplotlib.pyplot as plt\n",
    "import random"
   ]
  },
  {
   "cell_type": "markdown",
   "metadata": {},
   "source": [
    "Next, we define the list of parameter values needed."
   ]
  },
  {
   "cell_type": "code",
   "execution_count": 2,
   "metadata": {},
   "outputs": [],
   "source": [
    "L = 150\n",
    "S_0 = 100\n",
    "K = S_0\n",
    "V_0 = 200\n",
    "D = 175\n",
    "gamma = 0.75\n",
    "sigma = 0.3\n",
    "correlation = 0.2\n",
    "recovery_rate = 0.25\n",
    "n_simulations = 5\n",
    "dt = 1/12"
   ]
  },
  {
   "cell_type": "markdown",
   "metadata": {},
   "source": [
    "# Calibration\n",
    "\n",
    "We are first going to calibrate the LFMM using the observed zero coupon bond prices. \n",
    "\n",
    "The jth forward rate at time t can be defined as\n",
    "\n",
    "$F_j(t) = \\frac{P_j(t)-P_{j+1}(t)}{\\delta_t P_{j+1}(t)}$\n",
    "\n",
    "We are going to use this formula to calibrate and obtain the initial forward rates, which will be used to simulate future rates as in the LFMM model."
   ]
  },
  {
   "cell_type": "code",
   "execution_count": 3,
   "metadata": {},
   "outputs": [],
   "source": [
    "def bondPricesToInitialForwardRates(bond_prices, n_steps):\n",
    "    return np.ones([n_simulations, n_steps - 1]) * (bond_prices[:-1] - bond_prices[1:])/(dt * bond_prices[1:])"
   ]
  },
  {
   "cell_type": "code",
   "execution_count": 4,
   "metadata": {},
   "outputs": [],
   "source": [
    "bond_prices = np.array([100, 99.38, 98.76, 98.15, 97.54, 96.94, 96.34, 95.74, 95.16, 94.57, 93.99, 93.42, 92.85])\n",
    "n_steps = len(bond_prices) \n",
    "\n",
    "forward_rates = bondPricesToInitialForwardRates(bond_prices, n_steps)"
   ]
  },
  {
   "cell_type": "markdown",
   "metadata": {},
   "source": [
    "# Interest Rate - LIBOR Forward Market Model (LFMM)\n",
    "\n",
    "The LFMM says that the forward rate evolves according to the following formula\n",
    "\n",
    "$F_j(t_i) = F_j(t_{i-1})exp[(\\mu_j(t_{i-1})-\\frac{1}{2}\\sigma^2)\\delta_{i-1} + \\sigma_j\\sqrt{\\delta_{i-1}}Z_i]$\n",
    "\n",
    "where\n",
    "\n",
    "$\\mu_j(t_{i-1}) \\ \\sum_{k=i}^j \\frac{\\delta_k F_j(t_{i-1})\\sigma_k\\sigma_j}{1+\\delta_kF_j(t_{i-1})}$\n",
    "\n",
    "which can be written as"
   ]
  },
  {
   "cell_type": "code",
   "execution_count": 5,
   "metadata": {},
   "outputs": [],
   "source": [
    "def getMu(forward_rates, delta, sigma_j, sigma_k):\n",
    "    return np.cumsum(delta * forward_rates * sigma_j * sigma_k/(1 + delta * forward_rates), axis=1)\n",
    "\n",
    "def getInitialNextForwardEstimate(forward_rates, mu, sigma, delta, Z):\n",
    "    return forward_rates * np.exp((mu - (sigma**2)/2) * delta + sigma * np.sqrt(delta) * Z)\n"
   ]
  },
  {
   "cell_type": "markdown",
   "metadata": {},
   "source": [
    "However, to improve the accuracy, we will use the Predictor-Corrector method which involves estimating the next period's drift and then taking the average. Hence, the final estimate of the forward rate is given by:\n",
    "\n",
    "$F_j(t_i) = F_j(t_{i-1})exp[\\frac{1}{2}(\\mu_j(t_{i-1})+\\mu_j(t_i)-\\sigma^2)\\delta_{i-1} + \\sigma_j\\sqrt{\\delta_{i-1}}Z_i]$\n",
    "\n",
    "This final estimate is written as:"
   ]
  },
  {
   "cell_type": "code",
   "execution_count": 6,
   "metadata": {},
   "outputs": [],
   "source": [
    "def getFinalNextForward(forward_rates, mu1, mu2, sigma, delta, Z):\n",
    "    return forward_rates * np.exp(0.5 * (mu1 + mu2 - sigma**2) * delta + sigma * np.sqrt(delta) * Z)"
   ]
  },
  {
   "cell_type": "markdown",
   "metadata": {},
   "source": [
    "Furthermore, the continuously compounded interest rate can be derived from the LIBOR forward rate as follows:\n",
    "\n",
    "$e^{r_{ti}(t_{i+1}-t_i)} = 1 + L(t_i, t_{i+1})(t_{i+1} - t_i)$"
   ]
  },
  {
   "cell_type": "code",
   "execution_count": 7,
   "metadata": {},
   "outputs": [],
   "source": [
    "def liborToContinuousRate(libor, dt):\n",
    "    return 1 + (libor * dt)"
   ]
  },
  {
   "cell_type": "markdown",
   "metadata": {},
   "source": [
    "# Volatility - CEV Model\n",
    "\n",
    "We will be using the CEV model to represent volatility, which is given by\n",
    "\n",
    "$\\sigma(t_i, t_{i+1}) = \\sigma(S_{it})^{\\gamma-1}$"
   ]
  },
  {
   "cell_type": "code",
   "execution_count": 8,
   "metadata": {},
   "outputs": [],
   "source": [
    "def getVolatility(S_t, gamma, sigma):\n",
    "    return sigma * S_t**(gamma - 1)"
   ]
  },
  {
   "cell_type": "markdown",
   "metadata": {},
   "source": [
    "# Stock Price Model\n",
    "\n",
    "We assume the following lognormal evolution of stock price/firm value:\n",
    "\n",
    "$S_{t_{i+1}} = S_{t_i}exp[(r - \\frac{\\sigma^2(t_i, t_{i+1})}{2})(t_{i+1}-t_i)+\\sigma(t_i, t_{i+1})\\sqrt{t_{i+1}-t_i}Z]$\n",
    "\n",
    "which can be re-written as\n",
    "\n",
    "$S_{t_{i+1}} = S_{t_i}exp[r(t_{i+1}-t_i)]exp[(- \\frac{\\sigma^2(t_i, t_{i+1})}{2})(t_{i+1}-t_i)+\\sigma(t_i, t_{i+1})\\sqrt{t_{i+1}-t_i}Z]$"
   ]
  },
  {
   "cell_type": "code",
   "execution_count": 9,
   "metadata": {},
   "outputs": [],
   "source": [
    "def getSharePrice(S_t, continuous_rate, sigma, dt, Z):\n",
    "    return S_t * continuous_rate * np.exp(-sigma**2/2 * dt + sigma * np.sqrt(dt) * Z)"
   ]
  },
  {
   "cell_type": "markdown",
   "metadata": {},
   "source": [
    "# Simulation"
   ]
  },
  {
   "cell_type": "markdown",
   "metadata": {},
   "source": [
    "First, we initialise the stock matrix and delta matrix."
   ]
  },
  {
   "cell_type": "code",
   "execution_count": 10,
   "metadata": {},
   "outputs": [],
   "source": [
    "delta = np.ones([n_simulations, n_steps - 1]) * dt\n",
    "stock = np.ones([n_simulations, n_steps]) * S_0"
   ]
  },
  {
   "cell_type": "markdown",
   "metadata": {},
   "source": [
    "We also need to define a method to reshape our data structure"
   ]
  },
  {
   "cell_type": "code",
   "execution_count": 11,
   "metadata": {},
   "outputs": [],
   "source": [
    "def reshape(input):\n",
    "    return np.array([input, ]).transpose()"
   ]
  },
  {
   "cell_type": "markdown",
   "metadata": {},
   "source": [
    "Then, we go to the actual simulation."
   ]
  },
  {
   "cell_type": "code",
   "execution_count": 12,
   "metadata": {},
   "outputs": [
    {
     "name": "stdout",
     "output_type": "stream",
     "text": [
      "Values for 1st Simulation only\n",
      "\n",
      "Volatility at time 1: [0.09486833]\n",
      "Forward Rates at time 1: [0.07183979 0.07229112 0.0715675  0.0720154  0.07127357 0.07171778\n",
      " 0.07216756 0.07018749 0.07184338 0.07106184 0.07026305 0.07069471]\n",
      "First LIBOR rate at time 1: 0.07183978736279592\n",
      "Continuos rate at time 1: [1.00598665]\n",
      "Stock Price at time 1: [100.22689313]\n",
      "\n",
      "\n",
      "Volatility at time 2: [0.09481459]\n",
      "Forward Rates at time 2: [0.07071908 0.0700115  0.07044997 0.06972457 0.07015944 0.07059976\n",
      " 0.068663   0.07028324 0.06951897 0.06873782 0.06916041]\n",
      "First LIBOR rate at time 2: 0.07071907699949354\n",
      "Continuos rate at time 2: [1.00589326]\n",
      "Stock Price at time 2: [104.09272946]\n",
      "\n",
      "\n",
      "Volatility at time 3: [0.09392175]\n",
      "Forward Rates at time 3: [0.07102826 0.07147341 0.07073777 0.07117927 0.0716263  0.06966167\n",
      " 0.07130578 0.07053069 0.06973847 0.07016751]\n",
      "First LIBOR rate at time 3: 0.07102825869520318\n",
      "Continuos rate at time 3: [1.00591902]\n",
      "Stock Price at time 3: [107.60455729]\n",
      "\n",
      "\n",
      "Volatility at time 4: [0.09314587]\n",
      "Forward Rates at time 4: [0.07143704 0.07070207 0.07114365 0.07159076 0.0696274  0.071271\n",
      " 0.07049659 0.06970505 0.07013417]\n",
      "First LIBOR rate at time 4: 0.0714370367760447\n",
      "Continuos rate at time 4: [1.00595309]\n",
      "Stock Price at time 4: [109.78274537]\n",
      "\n",
      "\n",
      "Volatility at time 5: [0.09268036]\n",
      "Forward Rates at time 5: [0.0760197  0.07649482 0.07697591 0.07486518 0.07663276 0.07580042\n",
      " 0.07494964 0.07541138]\n",
      "First LIBOR rate at time 5: 0.07601970109632693\n",
      "Continuos rate at time 5: [1.00633498]\n",
      "Stock Price at time 5: [106.63244072]\n",
      "\n",
      "\n",
      "Volatility at time 6: [0.09335744]\n",
      "Forward Rates at time 6: [0.07133502 0.07178398 0.06981592 0.0714646  0.07068871 0.06989561\n",
      " 0.07032652]\n",
      "First LIBOR rate at time 6: 0.07133502042253835\n",
      "Continuos rate at time 6: [1.00594459]\n",
      "Stock Price at time 6: [107.49129423]\n",
      "\n",
      "\n",
      "Volatility at time 7: [0.09317039]\n",
      "Forward Rates at time 7: [0.07213861 0.07016112 0.07181827 0.07103883 0.0702421  0.07067545]\n",
      "First LIBOR rate at time 7: 0.07213861305280891\n",
      "Continuos rate at time 7: [1.00601155]\n",
      "Stock Price at time 7: [110.14006024]\n",
      "\n",
      "\n",
      "Volatility at time 8: [0.0926051]\n",
      "Forward Rates at time 8: [0.06703916 0.06862285 0.06787838 0.06711737 0.06753171]\n",
      "First LIBOR rate at time 8: 0.06703916385236058\n",
      "Continuos rate at time 8: [1.0055866]\n",
      "Stock Price at time 8: [109.57810323]\n",
      "\n",
      "\n",
      "Volatility at time 9: [0.09272361]\n",
      "Forward Rates at time 9: [0.06906378 0.06831479 0.06754916 0.06796644]\n",
      "First LIBOR rate at time 9: 0.06906377563845051\n",
      "Continuos rate at time 9: [1.00575531]\n",
      "Stock Price at time 9: [108.43136031]\n",
      "\n",
      "\n",
      "Volatility at time 10: [0.09296779]\n",
      "Forward Rates at time 10: [0.06803411 0.06727189 0.06768774]\n",
      "First LIBOR rate at time 10: 0.06803411232480852\n",
      "Continuos rate at time 10: [1.00566951]\n",
      "Stock Price at time 10: [108.25359716]\n",
      "\n",
      "\n",
      "Volatility at time 11: [0.09300594]\n",
      "Forward Rates at time 11: [0.0664478  0.06685882]\n",
      "First LIBOR rate at time 11: 0.06644779685915966\n",
      "Continuos rate at time 11: [1.00553732]\n",
      "Stock Price at time 11: [111.82378504]\n",
      "\n",
      "\n",
      "Volatility at time 12: [0.09225453]\n",
      "Forward Rates at time 12: [0.06823226]\n",
      "First LIBOR rate at time 12: 0.06823226305726453\n",
      "Continuos rate at time 12: [1.00568602]\n",
      "Stock Price at time 12: [113.12344467]\n",
      "\n",
      "\n"
     ]
    }
   ],
   "source": [
    "print(\"Values for 1st Simulation only\\n\")\n",
    "\n",
    "for i in range(0, 12):\n",
    "    #each iteration is a point in time, estimating for 12 forward rates\n",
    "    forward_Z = norm.rvs(size = [n_simulations, 1])\n",
    "    stock_Z = norm.rvs(size = [n_simulations, 1])\n",
    "    \n",
    "    S_t_minus_one = stock[:, i]\n",
    "    forward_rates_t = forward_rates[:, i:]\n",
    "    delta_t = delta[:, i:]\n",
    "    \n",
    "    sigma_new = getVolatility(S_t_minus_one, gamma, sigma)\n",
    "    #duplicate the sigma across more columns as the same sigma will be used to calculate the other forward rates \n",
    "    sigma_new_transposed = np.array([sigma_new,] * (n_steps - (i + 1))).transpose() \n",
    "    \n",
    "    mu_initial = getMu(forward_rates_t, delta_t, sigma_new_transposed, sigma_new_transposed)\n",
    "    forward_temp = getInitialNextForwardEstimate(forward_rates_t, mu_initial, sigma_new_transposed, delta_t, forward_Z)\n",
    "    mu_next = getMu(forward_temp, delta_t, sigma_new_transposed, sigma_new_transposed)\n",
    "    final_forwards = getFinalNextForward(forward_rates_t, mu_initial, mu_next, sigma_new_transposed, delta_t, forward_Z)\n",
    "    forward_rates[:,i:] = final_forwards\n",
    "    \n",
    "    first_libor_rate = forward_rates[:,i]\n",
    "    continuous_rate = liborToContinuousRate(first_libor_rate, dt)\n",
    "    \n",
    "    continuous_rate = reshape(continuous_rate)\n",
    "    sigma_new = reshape(sigma_new)\n",
    "    S_t_minus_one = reshape(S_t_minus_one)\n",
    "    S_t = getSharePrice(S_t_minus_one, continuous_rate, sigma_new, dt, stock_Z)\n",
    "    stock[:, i + 1] = S_t[:,0]\n",
    "    \n",
    "    print(\"Volatility at time \" + str(i+1) + \": \" + str(sigma_new[0]))\n",
    "    print(\"Forward Rates at time \" + str(i+1) + \": \" + str(final_forwards[0]))\n",
    "    print(\"First LIBOR rate at time \" + str(i+1) + \": \" + str(first_libor_rate[0]))\n",
    "    print(\"Continuos rate at time \" + str(i+1) + \": \" + str(continuous_rate[0]))\n",
    "    print(\"Stock Price at time \" + str(i+1) + \": \" + str(S_t[0]))\n",
    "    print(\"\\n\")"
   ]
  }
 ],
 "metadata": {
  "kernelspec": {
   "display_name": "Python 3",
   "language": "python",
   "name": "python3"
  },
  "language_info": {
   "codemirror_mode": {
    "name": "ipython",
    "version": 3
   },
   "file_extension": ".py",
   "mimetype": "text/x-python",
   "name": "python",
   "nbconvert_exporter": "python",
   "pygments_lexer": "ipython3",
   "version": "3.7.4"
  }
 },
 "nbformat": 4,
 "nbformat_minor": 2
}
